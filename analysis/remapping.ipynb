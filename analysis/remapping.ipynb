{
 "cells": [
  {
   "cell_type": "markdown",
   "id": "d9202403-a005-4ca7-8872-3ecf3af4bac9",
   "metadata": {
    "tags": []
   },
   "source": [
    "# Remapping analysis"
   ]
  },
  {
   "cell_type": "code",
   "execution_count": 5,
   "id": "82ee4f6e-c16c-41e2-b01e-467dd3e15706",
   "metadata": {
    "tags": []
   },
   "outputs": [],
   "source": [
    "import os\n",
    "import sys\n",
    "import torch\n",
    "import numpy as np\n",
    "import matplotlib.pyplot as plt\n",
    "\n",
    "module_path = os.path.abspath(os.path.join('..'))\n",
    "if module_path not in sys.path:\n",
    "    sys.path.append(module_path)\n",
    "\n",
    "from experiment import Experiment\n",
    "from utils import print_stats\n",
    "from itertools import product\n",
    "from scipy.stats import pearsonr\n",
    "from gc import collect\n",
    "\n",
    "\n",
    "data_path = \"../data\"\n",
    "save_path = \"../figs\""
   ]
  },
  {
   "cell_type": "code",
   "execution_count": 2,
   "id": "2153fdcb-4e65-4bbb-b437-6c98510a813e",
   "metadata": {
    "tags": []
   },
   "outputs": [],
   "source": [
    "exp = Experiment.load_experiment('data', 'baseline')"
   ]
  },
  {
   "cell_type": "code",
   "execution_count": 68,
   "id": "6e865f7b-37e3-4502-873f-3f843655071a",
   "metadata": {
    "tags": []
   },
   "outputs": [],
   "source": [
    "def get_sets(exp):\n",
    "    exp.compile_grid_cells(1)\n",
    "    exp.load_pfs()\n",
    "    fit1 = exp.pfs.calc_fitness()\n",
    "    idx1 = exp.pfs.place_cell_idx()\n",
    "    exp.compile_grid_cells(2)\n",
    "    exp.load_pfs()\n",
    "    fit2 = exp.pfs.calc_fitness()\n",
    "    idx2 = exp.pfs.place_cell_idx()\n",
    "    return set(idx1.cpu().numpy()), set(idx2.cpu().numpy()), fit1, fit2\n",
    "\n",
    "def get_active(exp, threshold=0.001):\n",
    "    return exp.pfs_per_env[1].scales >= threshold, exp.pfs_per_env[2].scales >= threshold\n",
    "\n",
    "def print_sets(exp):\n",
    "    s1, s2, *_ = get_sets(exp)\n",
    "    pcs = np.asarray(list(product(s1, s2)))\n",
    "    pcs = pcs[pcs[:,0] != pcs[:,1]]\n",
    "\n",
    "    with torch.no_grad():\n",
    "        d1 = torch.pow(exp.pfs_per_env[1].means[pcs[:,0]] - exp.pfs_per_env[1].means[pcs[:,1]], 2).sum(-1).sqrt()\n",
    "        d2 = torch.pow(exp.pfs_per_env[2].means[pcs[:,0]] - exp.pfs_per_env[2].means[pcs[:,1]], 2).sum(-1).sqrt()\n",
    "        remap = 1 - max(0, pearsonr(d1.cpu(), d2.cpu()).statistic)\n",
    "    \n",
    "    print(\"len env1:\", len(s1))\n",
    "    print(\"len env2:\", len(s2))\n",
    "    print(\"intersection:\", len(s1.intersection(s2)))\n",
    "    print(\"union:\", len(s1.union(s2)))\n",
    "    print(\"s1 - s2:\", len(s1 - s2))\n",
    "    print(\"s2 - s1:\", len(s2 - s1))\n",
    "    print(\"Remapping:\", remap)"
   ]
  },
  {
   "cell_type": "code",
   "execution_count": 69,
   "id": "adfaf238-9c4d-48c8-8006-4a44aeae8039",
   "metadata": {
    "tags": []
   },
   "outputs": [
    {
     "name": "stdout",
     "output_type": "stream",
     "text": [
      "hidden20:\n",
      "len env1: 5\n",
      "len env2: 10\n",
      "intersection: 2\n",
      "union: 13\n",
      "s1 - s2: 3\n",
      "s2 - s1: 8\n",
      "Remapping: 1.3242740631103516\n",
      "\n",
      "hidden50:\n",
      "len env1: 21\n",
      "len env2: 26\n",
      "intersection: 10\n",
      "union: 37\n",
      "s1 - s2: 11\n",
      "s2 - s1: 16\n",
      "Remapping: 0.9539285451173782\n",
      "\n",
      "baseline:\n",
      "len env1: 57\n",
      "len env2: 64\n",
      "intersection: 38\n",
      "union: 83\n",
      "s1 - s2: 19\n",
      "s2 - s1: 26\n",
      "Remapping: 0.8008994460105896\n",
      "\n",
      "hidden200:\n",
      "len env1: 63\n",
      "len env2: 81\n",
      "intersection: 27\n",
      "union: 117\n",
      "s1 - s2: 36\n",
      "s2 - s1: 54\n",
      "Remapping: 0.8698728382587433\n",
      "\n",
      "hidden500:\n"
     ]
    },
    {
     "ename": "ValueError",
     "evalue": "NumPy boolean array indexing assignment cannot assign 91 input values to the 211 output values where the mask is true",
     "output_type": "error",
     "traceback": [
      "\u001b[1;31m---------------------------------------------------------------------------\u001b[0m",
      "\u001b[1;31mValueError\u001b[0m                                Traceback (most recent call last)",
      "Cell \u001b[1;32mIn[69], line 8\u001b[0m\n\u001b[0;32m      5\u001b[0m exp \u001b[38;5;241m=\u001b[39m Experiment\u001b[38;5;241m.\u001b[39mload_experiment(\u001b[38;5;124m'\u001b[39m\u001b[38;5;124mdata\u001b[39m\u001b[38;5;124m'\u001b[39m, h)\n\u001b[0;32m      7\u001b[0m \u001b[38;5;28mprint\u001b[39m(h \u001b[38;5;241m+\u001b[39m \u001b[38;5;124m'\u001b[39m\u001b[38;5;124m:\u001b[39m\u001b[38;5;124m'\u001b[39m)\n\u001b[1;32m----> 8\u001b[0m print_sets(exp)\n\u001b[0;32m      9\u001b[0m \u001b[38;5;28mprint\u001b[39m()\n",
      "Cell \u001b[1;32mIn[68], line 16\u001b[0m, in \u001b[0;36mprint_sets\u001b[1;34m(exp)\u001b[0m\n\u001b[0;32m     15\u001b[0m \u001b[38;5;28;01mdef\u001b[39;00m \u001b[38;5;21mprint_sets\u001b[39m(exp):\n\u001b[1;32m---> 16\u001b[0m     s1, s2, \u001b[38;5;241m*\u001b[39m_ \u001b[38;5;241m=\u001b[39m \u001b[43mget_sets\u001b[49m\u001b[43m(\u001b[49m\u001b[43mexp\u001b[49m\u001b[43m)\u001b[49m\n\u001b[0;32m     17\u001b[0m     pcs \u001b[38;5;241m=\u001b[39m np\u001b[38;5;241m.\u001b[39masarray(\u001b[38;5;28mlist\u001b[39m(product(s1, s2)))\n\u001b[0;32m     18\u001b[0m     pcs \u001b[38;5;241m=\u001b[39m pcs[pcs[:,\u001b[38;5;241m0\u001b[39m] \u001b[38;5;241m!=\u001b[39m pcs[:,\u001b[38;5;241m1\u001b[39m]]\n",
      "Cell \u001b[1;32mIn[68], line 2\u001b[0m, in \u001b[0;36mget_sets\u001b[1;34m(exp)\u001b[0m\n\u001b[0;32m      1\u001b[0m \u001b[38;5;28;01mdef\u001b[39;00m \u001b[38;5;21mget_sets\u001b[39m(exp):\n\u001b[1;32m----> 2\u001b[0m     \u001b[43mexp\u001b[49m\u001b[38;5;241;43m.\u001b[39;49m\u001b[43mcompile_grid_cells\u001b[49m\u001b[43m(\u001b[49m\u001b[38;5;241;43m1\u001b[39;49m\u001b[43m)\u001b[49m\n\u001b[0;32m      3\u001b[0m     exp\u001b[38;5;241m.\u001b[39mload_pfs()\n\u001b[0;32m      4\u001b[0m     fit1 \u001b[38;5;241m=\u001b[39m exp\u001b[38;5;241m.\u001b[39mpfs\u001b[38;5;241m.\u001b[39mcalc_fitness()\n",
      "File \u001b[1;32m~\\Desktop\\Thesis\\experiment.py:81\u001b[0m, in \u001b[0;36mExperiment.compile_grid_cells\u001b[1;34m(self, env)\u001b[0m\n\u001b[0;32m     79\u001b[0m \u001b[38;5;28;01mdef\u001b[39;00m \u001b[38;5;21mcompile_grid_cells\u001b[39m(\u001b[38;5;28mself\u001b[39m, env):\n\u001b[0;32m     80\u001b[0m     \u001b[38;5;28mself\u001b[39m\u001b[38;5;241m.\u001b[39mcurrent_env \u001b[38;5;241m=\u001b[39m env\n\u001b[1;32m---> 81\u001b[0m     \u001b[38;5;28;43mself\u001b[39;49m\u001b[38;5;241;43m.\u001b[39;49m\u001b[43mgcs\u001b[49m\u001b[38;5;241;43m.\u001b[39;49m\u001b[43mreset_modules\u001b[49m\u001b[43m(\u001b[49m\u001b[43menv\u001b[49m\u001b[43m)\u001b[49m\n\u001b[0;32m     82\u001b[0m     \u001b[38;5;28mself\u001b[39m\u001b[38;5;241m.\u001b[39mgcs\u001b[38;5;241m.\u001b[39mcompile_numpy()\n\u001b[0;32m     83\u001b[0m     \u001b[38;5;28mself\u001b[39m\u001b[38;5;241m.\u001b[39mgrid_cells \u001b[38;5;241m=\u001b[39m to_tensor(\u001b[38;5;28mself\u001b[39m\u001b[38;5;241m.\u001b[39mgcs\u001b[38;5;241m.\u001b[39mgrid_cells\u001b[38;5;241m.\u001b[39mtranspose(\u001b[38;5;241m1\u001b[39m, \u001b[38;5;241m2\u001b[39m, \u001b[38;5;241m0\u001b[39m))\n",
      "File \u001b[1;32m~\\Desktop\\Thesis\\grid_cells.py:156\u001b[0m, in \u001b[0;36mGridCells.reset_modules\u001b[1;34m(self, env)\u001b[0m\n\u001b[0;32m    154\u001b[0m zipped \u001b[38;5;241m=\u001b[39m \u001b[38;5;28menumerate\u001b[39m(\u001b[38;5;28mzip\u001b[39m(\u001b[38;5;28mself\u001b[39m\u001b[38;5;241m.\u001b[39mmodules, angles, shifts, \u001b[38;5;241m*\u001b[39m\u001b[38;5;28mself\u001b[39m\u001b[38;5;241m.\u001b[39mget_optionals(env)))\n\u001b[0;32m    155\u001b[0m \u001b[38;5;28;01mfor\u001b[39;00m i, (module, angle, displacement, mask, \u001b[38;5;241m*\u001b[39moptionals) \u001b[38;5;129;01min\u001b[39;00m zipped:\n\u001b[1;32m--> 156\u001b[0m     \u001b[43mmodule\u001b[49m\u001b[38;5;241;43m.\u001b[39;49m\u001b[43mreset_module\u001b[49m\u001b[43m(\u001b[49m\u001b[43mangle\u001b[49m\u001b[43m,\u001b[49m\u001b[43m \u001b[49m\u001b[43mdisplacement\u001b[49m\u001b[43m,\u001b[49m\u001b[43m \u001b[49m\u001b[43mheterogeneous\u001b[49m\u001b[38;5;241;43m=\u001b[39;49m\u001b[38;5;28;43mself\u001b[39;49m\u001b[38;5;241;43m.\u001b[39;49m\u001b[43mheterogeneous\u001b[49m\u001b[43m,\u001b[49m\u001b[43m \u001b[49m\u001b[43mmask\u001b[49m\u001b[38;5;241;43m=\u001b[39;49m\u001b[43mmask\u001b[49m\u001b[43m)\u001b[49m\n\u001b[0;32m    157\u001b[0m     \u001b[38;5;28mself\u001b[39m\u001b[38;5;241m.\u001b[39mapply_optionals(env, module, i, \u001b[38;5;241m*\u001b[39moptionals)\n",
      "File \u001b[1;32m~\\Desktop\\Thesis\\grid_cells.py:97\u001b[0m, in \u001b[0;36mGridCellModule.reset_module\u001b[1;34m(self, rot_angle, displacement, heterogeneous, mask)\u001b[0m\n\u001b[0;32m     96\u001b[0m \u001b[38;5;28;01mdef\u001b[39;00m \u001b[38;5;21mreset_module\u001b[39m(\u001b[38;5;28mself\u001b[39m, rot_angle, displacement, heterogeneous\u001b[38;5;241m=\u001b[39m\u001b[38;5;28;01mFalse\u001b[39;00m, mask\u001b[38;5;241m=\u001b[39m\u001b[38;5;28;01mNone\u001b[39;00m):\n\u001b[1;32m---> 97\u001b[0m     \u001b[38;5;28;43mself\u001b[39;49m\u001b[38;5;241;43m.\u001b[39;49m\u001b[43mcreate_grid_cell\u001b[49m\u001b[43m(\u001b[49m\u001b[43mheterogeneous\u001b[49m\u001b[38;5;241;43m=\u001b[39;49m\u001b[43mheterogeneous\u001b[49m\u001b[43m,\u001b[49m\u001b[43m \u001b[49m\u001b[43mmask\u001b[49m\u001b[38;5;241;43m=\u001b[39;49m\u001b[43mmask\u001b[49m\u001b[43m)\u001b[49m\n\u001b[0;32m     98\u001b[0m     gc \u001b[38;5;241m=\u001b[39m rotate(\u001b[38;5;28mself\u001b[39m\u001b[38;5;241m.\u001b[39mgrid_cell, rot_angle, reshape\u001b[38;5;241m=\u001b[39m\u001b[38;5;28;01mFalse\u001b[39;00m)\n\u001b[0;32m     99\u001b[0m     gcs \u001b[38;5;241m=\u001b[39m np\u001b[38;5;241m.\u001b[39mtile(gc, (\u001b[38;5;28mself\u001b[39m\u001b[38;5;241m.\u001b[39mn, \u001b[38;5;241m1\u001b[39m, \u001b[38;5;241m1\u001b[39m))\n",
      "File \u001b[1;32m~\\Desktop\\Thesis\\grid_cells.py:30\u001b[0m, in \u001b[0;36mGridCellModule.create_grid_cell\u001b[1;34m(self, heterogeneous, mask)\u001b[0m\n\u001b[0;32m     28\u001b[0m \u001b[38;5;28;01mif\u001b[39;00m heterogeneous:\n\u001b[0;32m     29\u001b[0m     \u001b[38;5;28mself\u001b[39m\u001b[38;5;241m.\u001b[39mmask \u001b[38;5;241m=\u001b[39m np\u001b[38;5;241m.\u001b[39mrandom\u001b[38;5;241m.\u001b[39muniform(\u001b[38;5;241m0.5\u001b[39m, \u001b[38;5;241m1.5\u001b[39m, \u001b[38;5;28mint\u001b[39m(image\u001b[38;5;241m.\u001b[39msum())) \u001b[38;5;28;01mif\u001b[39;00m mask \u001b[38;5;129;01mis\u001b[39;00m \u001b[38;5;28;01mNone\u001b[39;00m \u001b[38;5;28;01melse\u001b[39;00m mask\n\u001b[1;32m---> 30\u001b[0m     \u001b[43mimage\u001b[49m\u001b[43m[\u001b[49m\u001b[43mimage\u001b[49m\u001b[38;5;241;43m.\u001b[39;49m\u001b[43mastype\u001b[49m\u001b[43m(\u001b[49m\u001b[38;5;28;43mbool\u001b[39;49m\u001b[43m)\u001b[49m\u001b[43m]\u001b[49m \u001b[38;5;241m=\u001b[39m \u001b[38;5;28mself\u001b[39m\u001b[38;5;241m.\u001b[39mmask\n\u001b[0;32m     32\u001b[0m \u001b[38;5;28mself\u001b[39m\u001b[38;5;241m.\u001b[39mgrid_cell \u001b[38;5;241m=\u001b[39m \u001b[38;5;28mself\u001b[39m\u001b[38;5;241m.\u001b[39mconvolve(image, \u001b[38;5;28mself\u001b[39m\u001b[38;5;241m.\u001b[39mget_gaussian_kernel())\n",
      "\u001b[1;31mValueError\u001b[0m: NumPy boolean array indexing assignment cannot assign 91 input values to the 211 output values where the mask is true"
     ]
    }
   ],
   "source": [
    "hiddens = [f'hidden{n}' for n in [20, 50, 200, 500]]\n",
    "hiddens.insert(2, 'baseline')\n",
    "\n",
    "for h in hiddens:\n",
    "    exp = Experiment.load_experiment('data', h)\n",
    "    \n",
    "    print(h + ':')\n",
    "    print_sets(exp)\n",
    "    print()"
   ]
  },
  {
   "cell_type": "code",
   "execution_count": 11,
   "id": "4dc0b464-b177-4bca-9803-67f23da06e82",
   "metadata": {
    "tags": []
   },
   "outputs": [
    {
     "name": "stdout",
     "output_type": "stream",
     "text": [
      "hidden20:\n",
      "env1: 18 | env2: 18\n",
      "intersection of active 18\n",
      "union of active 18\n",
      "\n",
      "hidden50:\n",
      "env1: 39 | env2: 42\n",
      "intersection of active 38\n",
      "union of active 43\n",
      "\n",
      "baseline:\n",
      "env1: 89 | env2: 96\n",
      "intersection of active 85\n",
      "union of active 100\n",
      "\n",
      "hidden200:\n",
      "env1: 98 | env2: 92\n",
      "intersection of active 67\n",
      "union of active 123\n",
      "\n",
      "hidden500:\n",
      "env1: 166 | env2: 171\n",
      "intersection of active 97\n",
      "union of active 240\n",
      "\n"
     ]
    }
   ],
   "source": [
    "for h in hiddens:\n",
    "    exp = Experiment.load_experiment('data', h)\n",
    "    act1, act2 = get_active(exp)\n",
    "    print(h + ':')\n",
    "    print('env1:', act1.sum().cpu().item(), '| env2:', act2.sum().cpu().item())\n",
    "    print(\"intersection of active\", torch.logical_and(act1, act2).sum().cpu().item())\n",
    "    print(\"union of active\", torch.logical_or(act1, act2).sum().cpu().item())\n",
    "    print()"
   ]
  },
  {
   "cell_type": "code",
   "execution_count": 3,
   "id": "bdbb3fdd-9571-4b5f-a571-21c6b0bfb602",
   "metadata": {
    "tags": []
   },
   "outputs": [],
   "source": [
    "lr1s = [f'l1_{n}' for n in ['01', '001', '0001', '00001', '000001', '0']]\n",
    "lr1s.insert(3, 'baseline')"
   ]
  },
  {
   "cell_type": "code",
   "execution_count": 8,
   "id": "5068243b-f932-4345-8667-53a2417bff0a",
   "metadata": {
    "tags": []
   },
   "outputs": [
    {
     "name": "stdout",
     "output_type": "stream",
     "text": [
      "l1_01:\n",
      "Len env1: 62\n",
      "Len env2: 55\n",
      "Intersection: 33\n",
      "Union: 84\n",
      "env1 - env2: 29\n",
      "env2 - env1: 22\n",
      "Remapping: 0.890890508890152\n",
      "Turnover: 0.8028039107175797\n",
      "\n",
      "l1_001:\n",
      "Len env1: 52\n",
      "Len env2: 65\n",
      "Intersection: 35\n",
      "Union: 82\n",
      "env1 - env2: 17\n",
      "env2 - env1: 30\n",
      "Remapping: 0.7286943793296814\n",
      "Turnover: 0.7398388981122794\n",
      "\n",
      "l1_0001:\n",
      "Len env1: 34\n",
      "Len env2: 45\n",
      "Intersection: 20\n",
      "Union: 59\n",
      "env1 - env2: 14\n",
      "env2 - env1: 25\n",
      "Remapping: 0.6971185803413391\n",
      "Turnover: 0.7140098691267969\n",
      "\n",
      "baseline:\n",
      "Len env1: 57\n",
      "Len env2: 64\n",
      "Intersection: 38\n",
      "Union: 83\n",
      "env1 - env2: 19\n",
      "env2 - env1: 26\n",
      "Remapping: 0.8008994460105896\n",
      "Turnover: 0.7052341597796143\n",
      "\n",
      "l1_00001:\n",
      "Len env1: 46\n",
      "Len env2: 59\n",
      "Intersection: 28\n",
      "Union: 77\n",
      "env1 - env2: 18\n",
      "env2 - env1: 31\n",
      "Remapping: 0.6604875922203064\n",
      "Turnover: 0.7911699779249448\n",
      "\n",
      "l1_000001:\n",
      "Len env1: 41\n",
      "Len env2: 69\n",
      "Intersection: 24\n",
      "Union: 86\n",
      "env1 - env2: 17\n",
      "env2 - env1: 45\n",
      "Remapping: 0.7910145670175552\n",
      "Turnover: 0.988293897882939\n",
      "\n",
      "l1_0:\n",
      "Len env1: 46\n",
      "Len env2: 36\n",
      "Intersection: 17\n",
      "Union: 65\n",
      "env1 - env2: 29\n",
      "env2 - env1: 19\n",
      "Remapping: 0.753467857837677\n",
      "Turnover: 0.8612279226240538\n",
      "\n"
     ]
    }
   ],
   "source": [
    "for lr in lr1s:\n",
    "    collect()\n",
    "    exp = Experiment.load_experiment(data_path, lr)\n",
    "    anl = Analysis(exp, immediate_pc=True)\n",
    "    \n",
    "    print(lr + ':')\n",
    "    anl.place_cell_stats()\n",
    "    print()\n",
    "    del anl; del exp"
   ]
  },
  {
   "cell_type": "code",
   "execution_count": 9,
   "id": "4886edd4-9b17-4ded-a468-b06c1b9b7929",
   "metadata": {
    "tags": []
   },
   "outputs": [
    {
     "name": "stdout",
     "output_type": "stream",
     "text": [
      "l1_01:\n",
      "Len env1: 84 | Len env2: 84\n",
      "Intersection: 73\n",
      "Union: 95\n",
      "IoU: 0.7684210526315789\n",
      "Turnover: 0.38095238095238093\n",
      "\n",
      "l1_001:\n",
      "Len env1: 84 | Len env2: 84\n",
      "Intersection: 75\n",
      "Union: 93\n",
      "IoU: 0.8064516129032258\n",
      "Turnover: 0.3116883116883117\n",
      "\n",
      "l1_0001:\n",
      "Len env1: 77 | Len env2: 74\n",
      "Intersection: 61\n",
      "Union: 90\n",
      "IoU: 0.6777777777777778\n",
      "Turnover: 0.4682434563229265\n",
      "\n",
      "baseline:\n",
      "Len env1: 89 | Len env2: 96\n",
      "Intersection: 85\n",
      "Union: 100\n",
      "IoU: 0.85\n",
      "Turnover: 0.2923486867148839\n",
      "\n",
      "l1_00001:\n",
      "Len env1: 79 | Len env2: 81\n",
      "Intersection: 66\n",
      "Union: 94\n",
      "IoU: 0.7021276595744681\n",
      "Turnover: 0.4666666666666668\n",
      "\n",
      "l1_000001:\n",
      "Len env1: 82 | Len env2: 87\n",
      "Intersection: 74\n",
      "Union: 95\n",
      "IoU: 0.7789473684210526\n",
      "Turnover: 0.3656396653744134\n",
      "\n",
      "l1_0:\n",
      "Len env1: 79 | Len env2: 61\n",
      "Intersection: 52\n",
      "Union: 88\n",
      "IoU: 0.5909090909090909\n",
      "Turnover: 0.5674876847290641\n",
      "\n"
     ]
    }
   ],
   "source": [
    "for lr in lr1s:\n",
    "    exp = Experiment.load_experiment(data_path, lr)\n",
    "    anl = Analysis(exp)\n",
    "    act1, act2 = *anl.active_per_env.values(),\n",
    "    print(lr + ':')\n",
    "    print('Len env1:', len(act1), '| Len env2:', len(act2))\n",
    "    print(\"Intersection:\", len(act1.intersection(act2)))\n",
    "    print(\"Union:\", len(act1.union(act2)))\n",
    "    print(\"IoU:\", len(act1.intersection(act2)) / len(act1.union(act2)))\n",
    "    print(\"Turnover:\", anl.get_turnover(1, 2, all_active=True))\n",
    "    print()"
   ]
  },
  {
   "cell_type": "code",
   "execution_count": null,
   "id": "5bb37c54-864f-4f71-96c1-3fd9e62d04dd",
   "metadata": {},
   "outputs": [],
   "source": []
  }
 ],
 "metadata": {
  "kernelspec": {
   "display_name": "Python 3 (ipykernel)",
   "language": "python",
   "name": "python3"
  },
  "language_info": {
   "codemirror_mode": {
    "name": "ipython",
    "version": 3
   },
   "file_extension": ".py",
   "mimetype": "text/x-python",
   "name": "python",
   "nbconvert_exporter": "python",
   "pygments_lexer": "ipython3",
   "version": "3.10.9"
  }
 },
 "nbformat": 4,
 "nbformat_minor": 5
}
