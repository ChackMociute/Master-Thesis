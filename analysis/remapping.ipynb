{
 "cells": [
  {
   "cell_type": "markdown",
   "id": "d9202403-a005-4ca7-8872-3ecf3af4bac9",
   "metadata": {
    "tags": []
   },
   "source": [
    "# Remapping analysis"
   ]
  },
  {
   "cell_type": "code",
   "execution_count": 1,
   "id": "82ee4f6e-c16c-41e2-b01e-467dd3e15706",
   "metadata": {
    "tags": []
   },
   "outputs": [],
   "source": [
    "import os\n",
    "import sys\n",
    "import torch\n",
    "import numpy as np\n",
    "import matplotlib.pyplot as plt\n",
    "\n",
    "module_path = os.path.abspath(os.path.join('..'))\n",
    "if module_path not in sys.path:\n",
    "    sys.path.append(module_path)\n",
    "\n",
    "from experiment import Experiment\n",
    "from utils import print_stats\n",
    "from itertools import product\n",
    "from scipy.stats import pearsonr\n",
    "\n",
    "\n",
    "data_path = \"../data\"\n",
    "save_path = \"../figs\""
   ]
  },
  {
   "cell_type": "code",
   "execution_count": 2,
   "id": "2153fdcb-4e65-4bbb-b437-6c98510a813e",
   "metadata": {
    "tags": []
   },
   "outputs": [],
   "source": [
    "class Analysis:\n",
    "    def __init__(self, exp, immediate_pc=False):\n",
    "        self.exp = exp\n",
    "        self.find_active_cells()\n",
    "        if immediate_pc:\n",
    "            self.find_place_cells()\n",
    "    \n",
    "    def find_active_cells(self):\n",
    "        self.active_per_env = {env: set(pfs.get_active_cells().cpu().numpy())\n",
    "                               for env, pfs in self.exp.pfs_per_env.items()}\n",
    "    \n",
    "    def find_place_cells(self):\n",
    "        self.place_cells_per_env = dict()\n",
    "        for env in self.exp.pfs_per_env.keys():\n",
    "            exp.compile_grid_cells(env)\n",
    "            exp.load_pfs()\n",
    "            self.place_cells_per_env[env] = set(exp.pfs.get_place_cells().cpu().numpy())\n",
    "    \n",
    "    def get_remapping(self, env1, env2):\n",
    "        pc1, pc2 = self.place_cells_per_env[env1], self.place_cells_per_env[env2]\n",
    "        pairs = np.asarray(list(product(pc1, pc2)))\n",
    "        pairs = pairs[pairs[:,0] != pairs[:,1]]\n",
    "\n",
    "        with torch.no_grad():\n",
    "            d1 = exp.pfs_per_env[env1].pairwise_distances(pairs).cpu()\n",
    "            d2 = exp.pfs_per_env[env2].pairwise_distances(pairs).cpu()\n",
    "            return 1 - max(0, pearsonr(d1, d2).statistic)\n",
    "    \n",
    "    def place_cell_stats(self, env1=1, env2=2):\n",
    "        pc1, pc2 = self.place_cells_per_env[env1], self.place_cells_per_env[env2]\n",
    "\n",
    "        print(\"Len env1:\", len(pc1))\n",
    "        print(\"Len env2:\", len(pc2))\n",
    "        print(\"Intersection:\", len(pc1.intersection(pc2)))\n",
    "        print(\"Union:\", len(pc1.union(pc2)))\n",
    "        print(\"env1 - env2:\", len(pc1 - pc2))\n",
    "        print(\"env2 - env1:\", len(pc2 - pc1))\n",
    "        print(\"Remapping:\", self.get_remapping(env1, env2))"
   ]
  },
  {
   "cell_type": "code",
   "execution_count": 3,
   "id": "adfaf238-9c4d-48c8-8006-4a44aeae8039",
   "metadata": {
    "tags": []
   },
   "outputs": [
    {
     "name": "stdout",
     "output_type": "stream",
     "text": [
      "hidden20:\n",
      "Len env1: 5\n",
      "Len env2: 10\n",
      "Intersection: 2\n",
      "Union: 13\n",
      "env1 - env2: 3\n",
      "env2 - env1: 8\n",
      "Remapping: 1\n",
      "\n",
      "hidden50:\n",
      "Len env1: 21\n",
      "Len env2: 26\n",
      "Intersection: 10\n",
      "Union: 37\n",
      "env1 - env2: 11\n",
      "env2 - env1: 16\n",
      "Remapping: 0.9539285451173782\n",
      "\n",
      "baseline:\n",
      "Len env1: 57\n",
      "Len env2: 64\n",
      "Intersection: 38\n",
      "Union: 83\n",
      "env1 - env2: 19\n",
      "env2 - env1: 26\n",
      "Remapping: 0.8008994460105896\n",
      "\n",
      "hidden200:\n",
      "Len env1: 63\n",
      "Len env2: 81\n",
      "Intersection: 27\n",
      "Union: 117\n",
      "env1 - env2: 36\n",
      "env2 - env1: 54\n",
      "Remapping: 0.8698728382587433\n",
      "\n"
     ]
    },
    {
     "ename": "ValueError",
     "evalue": "NumPy boolean array indexing assignment cannot assign 91 input values to the 211 output values where the mask is true",
     "output_type": "error",
     "traceback": [
      "\u001b[1;31m---------------------------------------------------------------------------\u001b[0m",
      "\u001b[1;31mValueError\u001b[0m                                Traceback (most recent call last)",
      "Cell \u001b[1;32mIn[3], line 6\u001b[0m\n\u001b[0;32m      4\u001b[0m \u001b[38;5;28;01mfor\u001b[39;00m h \u001b[38;5;129;01min\u001b[39;00m hiddens:\n\u001b[0;32m      5\u001b[0m     exp \u001b[38;5;241m=\u001b[39m Experiment\u001b[38;5;241m.\u001b[39mload_experiment(data_path, h)\n\u001b[1;32m----> 6\u001b[0m     anl \u001b[38;5;241m=\u001b[39m Analysis(exp, immediate_pc\u001b[38;5;241m=\u001b[39m\u001b[38;5;28;01mTrue\u001b[39;00m)\n\u001b[0;32m      8\u001b[0m     \u001b[38;5;28mprint\u001b[39m(h \u001b[38;5;241m+\u001b[39m \u001b[38;5;124m'\u001b[39m\u001b[38;5;124m:\u001b[39m\u001b[38;5;124m'\u001b[39m)\n\u001b[0;32m      9\u001b[0m     anl\u001b[38;5;241m.\u001b[39mplace_cell_stats()\n",
      "Cell \u001b[1;32mIn[2], line 6\u001b[0m, in \u001b[0;36mAnalysis.__init__\u001b[1;34m(self, exp, immediate_pc)\u001b[0m\n\u001b[0;32m      4\u001b[0m \u001b[38;5;28mself\u001b[39m\u001b[38;5;241m.\u001b[39mfind_active_cells()\n\u001b[0;32m      5\u001b[0m \u001b[38;5;28;01mif\u001b[39;00m immediate_pc:\n\u001b[1;32m----> 6\u001b[0m     \u001b[38;5;28;43mself\u001b[39;49m\u001b[38;5;241;43m.\u001b[39;49m\u001b[43mfind_place_cells\u001b[49m\u001b[43m(\u001b[49m\u001b[43m)\u001b[49m\n",
      "Cell \u001b[1;32mIn[2], line 15\u001b[0m, in \u001b[0;36mAnalysis.find_place_cells\u001b[1;34m(self)\u001b[0m\n\u001b[0;32m     13\u001b[0m \u001b[38;5;28mself\u001b[39m\u001b[38;5;241m.\u001b[39mplace_cells_per_env \u001b[38;5;241m=\u001b[39m \u001b[38;5;28mdict\u001b[39m()\n\u001b[0;32m     14\u001b[0m \u001b[38;5;28;01mfor\u001b[39;00m env \u001b[38;5;129;01min\u001b[39;00m \u001b[38;5;28mself\u001b[39m\u001b[38;5;241m.\u001b[39mexp\u001b[38;5;241m.\u001b[39mpfs_per_env\u001b[38;5;241m.\u001b[39mkeys():\n\u001b[1;32m---> 15\u001b[0m     \u001b[43mexp\u001b[49m\u001b[38;5;241;43m.\u001b[39;49m\u001b[43mcompile_grid_cells\u001b[49m\u001b[43m(\u001b[49m\u001b[43menv\u001b[49m\u001b[43m)\u001b[49m\n\u001b[0;32m     16\u001b[0m     exp\u001b[38;5;241m.\u001b[39mload_pfs()\n\u001b[0;32m     17\u001b[0m     \u001b[38;5;28mself\u001b[39m\u001b[38;5;241m.\u001b[39mplace_cells_per_env[env] \u001b[38;5;241m=\u001b[39m \u001b[38;5;28mset\u001b[39m(exp\u001b[38;5;241m.\u001b[39mpfs\u001b[38;5;241m.\u001b[39mget_place_cells()\u001b[38;5;241m.\u001b[39mcpu()\u001b[38;5;241m.\u001b[39mnumpy())\n",
      "File \u001b[1;32m~\\Desktop\\Thesis\\experiment.py:81\u001b[0m, in \u001b[0;36mExperiment.compile_grid_cells\u001b[1;34m(self, env)\u001b[0m\n\u001b[0;32m     79\u001b[0m \u001b[38;5;28;01mdef\u001b[39;00m \u001b[38;5;21mcompile_grid_cells\u001b[39m(\u001b[38;5;28mself\u001b[39m, env):\n\u001b[0;32m     80\u001b[0m     \u001b[38;5;28mself\u001b[39m\u001b[38;5;241m.\u001b[39mcurrent_env \u001b[38;5;241m=\u001b[39m env\n\u001b[1;32m---> 81\u001b[0m     \u001b[38;5;28;43mself\u001b[39;49m\u001b[38;5;241;43m.\u001b[39;49m\u001b[43mgcs\u001b[49m\u001b[38;5;241;43m.\u001b[39;49m\u001b[43mreset_modules\u001b[49m\u001b[43m(\u001b[49m\u001b[43menv\u001b[49m\u001b[43m)\u001b[49m\n\u001b[0;32m     82\u001b[0m     \u001b[38;5;28mself\u001b[39m\u001b[38;5;241m.\u001b[39mgcs\u001b[38;5;241m.\u001b[39mcompile_numpy()\n\u001b[0;32m     83\u001b[0m     \u001b[38;5;28mself\u001b[39m\u001b[38;5;241m.\u001b[39mgrid_cells \u001b[38;5;241m=\u001b[39m to_tensor(\u001b[38;5;28mself\u001b[39m\u001b[38;5;241m.\u001b[39mgcs\u001b[38;5;241m.\u001b[39mgrid_cells\u001b[38;5;241m.\u001b[39mtranspose(\u001b[38;5;241m1\u001b[39m, \u001b[38;5;241m2\u001b[39m, \u001b[38;5;241m0\u001b[39m))\n",
      "File \u001b[1;32m~\\Desktop\\Thesis\\grid_cells.py:156\u001b[0m, in \u001b[0;36mGridCells.reset_modules\u001b[1;34m(self, env)\u001b[0m\n\u001b[0;32m    154\u001b[0m zipped \u001b[38;5;241m=\u001b[39m \u001b[38;5;28menumerate\u001b[39m(\u001b[38;5;28mzip\u001b[39m(\u001b[38;5;28mself\u001b[39m\u001b[38;5;241m.\u001b[39mmodules, angles, shifts, \u001b[38;5;241m*\u001b[39m\u001b[38;5;28mself\u001b[39m\u001b[38;5;241m.\u001b[39mget_optionals(env)))\n\u001b[0;32m    155\u001b[0m \u001b[38;5;28;01mfor\u001b[39;00m i, (module, angle, displacement, mask, \u001b[38;5;241m*\u001b[39moptionals) \u001b[38;5;129;01min\u001b[39;00m zipped:\n\u001b[1;32m--> 156\u001b[0m     \u001b[43mmodule\u001b[49m\u001b[38;5;241;43m.\u001b[39;49m\u001b[43mreset_module\u001b[49m\u001b[43m(\u001b[49m\u001b[43mangle\u001b[49m\u001b[43m,\u001b[49m\u001b[43m \u001b[49m\u001b[43mdisplacement\u001b[49m\u001b[43m,\u001b[49m\u001b[43m \u001b[49m\u001b[43mheterogeneous\u001b[49m\u001b[38;5;241;43m=\u001b[39;49m\u001b[38;5;28;43mself\u001b[39;49m\u001b[38;5;241;43m.\u001b[39;49m\u001b[43mheterogeneous\u001b[49m\u001b[43m,\u001b[49m\u001b[43m \u001b[49m\u001b[43mmask\u001b[49m\u001b[38;5;241;43m=\u001b[39;49m\u001b[43mmask\u001b[49m\u001b[43m)\u001b[49m\n\u001b[0;32m    157\u001b[0m     \u001b[38;5;28mself\u001b[39m\u001b[38;5;241m.\u001b[39mapply_optionals(env, module, i, \u001b[38;5;241m*\u001b[39moptionals)\n",
      "File \u001b[1;32m~\\Desktop\\Thesis\\grid_cells.py:97\u001b[0m, in \u001b[0;36mGridCellModule.reset_module\u001b[1;34m(self, rot_angle, displacement, heterogeneous, mask)\u001b[0m\n\u001b[0;32m     96\u001b[0m \u001b[38;5;28;01mdef\u001b[39;00m \u001b[38;5;21mreset_module\u001b[39m(\u001b[38;5;28mself\u001b[39m, rot_angle, displacement, heterogeneous\u001b[38;5;241m=\u001b[39m\u001b[38;5;28;01mFalse\u001b[39;00m, mask\u001b[38;5;241m=\u001b[39m\u001b[38;5;28;01mNone\u001b[39;00m):\n\u001b[1;32m---> 97\u001b[0m     \u001b[38;5;28;43mself\u001b[39;49m\u001b[38;5;241;43m.\u001b[39;49m\u001b[43mcreate_grid_cell\u001b[49m\u001b[43m(\u001b[49m\u001b[43mheterogeneous\u001b[49m\u001b[38;5;241;43m=\u001b[39;49m\u001b[43mheterogeneous\u001b[49m\u001b[43m,\u001b[49m\u001b[43m \u001b[49m\u001b[43mmask\u001b[49m\u001b[38;5;241;43m=\u001b[39;49m\u001b[43mmask\u001b[49m\u001b[43m)\u001b[49m\n\u001b[0;32m     98\u001b[0m     gc \u001b[38;5;241m=\u001b[39m rotate(\u001b[38;5;28mself\u001b[39m\u001b[38;5;241m.\u001b[39mgrid_cell, rot_angle, reshape\u001b[38;5;241m=\u001b[39m\u001b[38;5;28;01mFalse\u001b[39;00m)\n\u001b[0;32m     99\u001b[0m     gcs \u001b[38;5;241m=\u001b[39m np\u001b[38;5;241m.\u001b[39mtile(gc, (\u001b[38;5;28mself\u001b[39m\u001b[38;5;241m.\u001b[39mn, \u001b[38;5;241m1\u001b[39m, \u001b[38;5;241m1\u001b[39m))\n",
      "File \u001b[1;32m~\\Desktop\\Thesis\\grid_cells.py:30\u001b[0m, in \u001b[0;36mGridCellModule.create_grid_cell\u001b[1;34m(self, heterogeneous, mask)\u001b[0m\n\u001b[0;32m     28\u001b[0m \u001b[38;5;28;01mif\u001b[39;00m heterogeneous:\n\u001b[0;32m     29\u001b[0m     \u001b[38;5;28mself\u001b[39m\u001b[38;5;241m.\u001b[39mmask \u001b[38;5;241m=\u001b[39m np\u001b[38;5;241m.\u001b[39mrandom\u001b[38;5;241m.\u001b[39muniform(\u001b[38;5;241m0.5\u001b[39m, \u001b[38;5;241m1.5\u001b[39m, \u001b[38;5;28mint\u001b[39m(image\u001b[38;5;241m.\u001b[39msum())) \u001b[38;5;28;01mif\u001b[39;00m mask \u001b[38;5;129;01mis\u001b[39;00m \u001b[38;5;28;01mNone\u001b[39;00m \u001b[38;5;28;01melse\u001b[39;00m mask\n\u001b[1;32m---> 30\u001b[0m     \u001b[43mimage\u001b[49m\u001b[43m[\u001b[49m\u001b[43mimage\u001b[49m\u001b[38;5;241;43m.\u001b[39;49m\u001b[43mastype\u001b[49m\u001b[43m(\u001b[49m\u001b[38;5;28;43mbool\u001b[39;49m\u001b[43m)\u001b[49m\u001b[43m]\u001b[49m \u001b[38;5;241m=\u001b[39m \u001b[38;5;28mself\u001b[39m\u001b[38;5;241m.\u001b[39mmask\n\u001b[0;32m     32\u001b[0m \u001b[38;5;28mself\u001b[39m\u001b[38;5;241m.\u001b[39mgrid_cell \u001b[38;5;241m=\u001b[39m \u001b[38;5;28mself\u001b[39m\u001b[38;5;241m.\u001b[39mconvolve(image, \u001b[38;5;28mself\u001b[39m\u001b[38;5;241m.\u001b[39mget_gaussian_kernel())\n",
      "\u001b[1;31mValueError\u001b[0m: NumPy boolean array indexing assignment cannot assign 91 input values to the 211 output values where the mask is true"
     ]
    }
   ],
   "source": [
    "hiddens = [f'hidden{n}' for n in [20, 50, 200, 500]]\n",
    "hiddens.insert(2, 'baseline')\n",
    "\n",
    "for h in hiddens:\n",
    "    exp = Experiment.load_experiment(data_path, h)\n",
    "    anl = Analysis(exp, immediate_pc=True)\n",
    "    \n",
    "    print(h + ':')\n",
    "    anl.place_cell_stats()\n",
    "    print()"
   ]
  },
  {
   "cell_type": "code",
   "execution_count": 4,
   "id": "4dc0b464-b177-4bca-9803-67f23da06e82",
   "metadata": {
    "tags": []
   },
   "outputs": [
    {
     "name": "stdout",
     "output_type": "stream",
     "text": [
      "hidden20:\n",
      "Len env1: 18 | Len env2: 18\n",
      "Intersection: 18\n",
      "Union: 18\n",
      "IoU: 1.0\n",
      "\n",
      "hidden50:\n",
      "Len env1: 39 | Len env2: 42\n",
      "Intersection: 38\n",
      "Union: 43\n",
      "IoU: 0.8837209302325582\n",
      "\n",
      "baseline:\n",
      "Len env1: 89 | Len env2: 96\n",
      "Intersection: 85\n",
      "Union: 100\n",
      "IoU: 0.85\n",
      "\n",
      "hidden200:\n",
      "Len env1: 98 | Len env2: 92\n",
      "Intersection: 67\n",
      "Union: 123\n",
      "IoU: 0.5447154471544715\n",
      "\n",
      "hidden500:\n",
      "Len env1: 166 | Len env2: 171\n",
      "Intersection: 97\n",
      "Union: 240\n",
      "IoU: 0.4041666666666667\n",
      "\n"
     ]
    }
   ],
   "source": [
    "for h in hiddens:\n",
    "    exp = Experiment.load_experiment(data_path, h)\n",
    "    anl = Analysis(exp)\n",
    "    act1, act2 = *anl.active_per_env.values(),\n",
    "    print(h + ':')\n",
    "    print('Len env1:', len(act1), '| Len env2:', len(act2))\n",
    "    print(\"Intersection:\", len(act1.intersection(act2)))\n",
    "    print(\"Union:\", len(act1.union(act2)))\n",
    "    print(\"IoU:\", len(act1.intersection(act2)) / len(act1.union(act2)))\n",
    "    print()"
   ]
  },
  {
   "cell_type": "code",
   "execution_count": null,
   "id": "44ee84ce-b73d-45f8-9e64-e54568a45853",
   "metadata": {},
   "outputs": [],
   "source": []
  }
 ],
 "metadata": {
  "kernelspec": {
   "display_name": "Python 3 (ipykernel)",
   "language": "python",
   "name": "python3"
  },
  "language_info": {
   "codemirror_mode": {
    "name": "ipython",
    "version": 3
   },
   "file_extension": ".py",
   "mimetype": "text/x-python",
   "name": "python",
   "nbconvert_exporter": "python",
   "pygments_lexer": "ipython3",
   "version": "3.10.9"
  }
 },
 "nbformat": 4,
 "nbformat_minor": 5
}
