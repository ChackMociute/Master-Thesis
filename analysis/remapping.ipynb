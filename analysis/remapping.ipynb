{
 "cells": [
  {
   "cell_type": "markdown",
   "id": "d9202403-a005-4ca7-8872-3ecf3af4bac9",
   "metadata": {
    "tags": []
   },
   "source": [
    "# Remapping analysis"
   ]
  },
  {
   "cell_type": "code",
   "execution_count": 5,
   "id": "82ee4f6e-c16c-41e2-b01e-467dd3e15706",
   "metadata": {
    "tags": []
   },
   "outputs": [],
   "source": [
    "import os\n",
    "import sys\n",
    "import torch\n",
    "import numpy as np\n",
    "import matplotlib.pyplot as plt\n",
    "\n",
    "module_path = os.path.abspath(os.path.join('..'))\n",
    "if module_path not in sys.path:\n",
    "    sys.path.append(module_path)\n",
    "\n",
    "from experiment import Experiment\n",
    "from utils import print_stats\n",
    "from itertools import product\n",
    "from scipy.stats import pearsonr\n",
    "from gc import collect\n",
    "\n",
    "\n",
    "data_path = \"../data\"\n",
    "save_path = \"../figs\""
   ]
  },
  {
   "cell_type": "code",
   "execution_count": 2,
   "id": "2153fdcb-4e65-4bbb-b437-6c98510a813e",
   "metadata": {
    "tags": []
   },
   "outputs": [],
   "source": [
    "class Analysis:\n",
    "    def __init__(self, exp, immediate_pc=False):\n",
    "        self.exp = exp\n",
    "        self.find_active_cells()\n",
    "        if immediate_pc:\n",
    "            self.find_place_cells()\n",
    "    \n",
    "    def find_active_cells(self):\n",
    "        self.active_per_env = {env: set(pfs.get_active_cells().cpu().numpy())\n",
    "                               for env, pfs in self.exp.pfs_per_env.items()}\n",
    "    \n",
    "    def find_place_cells(self):\n",
    "        self.place_cells_per_env = dict()\n",
    "        for env in self.exp.pfs_per_env.keys():\n",
    "            exp.compile_grid_cells(env)\n",
    "            exp.load_pfs()\n",
    "            self.place_cells_per_env[env] = set(exp.pfs.get_place_cells().cpu().numpy())\n",
    "    \n",
    "    def get_remapping(self, env1, env2):\n",
    "        pc1, pc2 = self.place_cells_per_env[env1], self.place_cells_per_env[env2]\n",
    "        pairs = np.asarray(list(product(pc1, pc2)))\n",
    "        pairs = pairs[pairs[:,0] != pairs[:,1]]\n",
    "\n",
    "        with torch.no_grad():\n",
    "            d1 = exp.pfs_per_env[env1].pairwise_distances(pairs).cpu()\n",
    "            d2 = exp.pfs_per_env[env2].pairwise_distances(pairs).cpu()\n",
    "            return 1 - max(0, pearsonr(d1, d2).statistic)\n",
    "    \n",
    "    def get_turnover(self, env1, env2, all_active=False):\n",
    "        units = self.active_per_env if all_active else self.place_cells_per_env\n",
    "        u1, u2 = units[env1], units[env2]\n",
    "        s = 1 - (len(u1) + len(u2)) / 2 / self.exp.pfs.N\n",
    "        rmsd = lambda x, y: np.sqrt(((x - y)**2).sum())\n",
    "        \n",
    "        alpha_0 = np.asarray([s, 0, 1 - s])\n",
    "        beta = np.asarray([s**2, 2 * s * (1 - s), (1 - s)**2])\n",
    "        alpha = np.asarray([self.exp.pfs.N - len(u1.union(u2)),\n",
    "                            len(u1.union(u2) - u1.intersection(u2)),\n",
    "                            len(u1.intersection(u2))]) / self.exp.pfs.N\n",
    "        \n",
    "        return 1 - (rmsd(alpha, beta) / rmsd(alpha_0, beta))\n",
    "    \n",
    "    def place_cell_stats(self, env1=1, env2=2):\n",
    "        pc1, pc2 = self.place_cells_per_env[env1], self.place_cells_per_env[env2]\n",
    "\n",
    "        print(\"Len env1:\", len(pc1))\n",
    "        print(\"Len env2:\", len(pc2))\n",
    "        print(\"Intersection:\", len(pc1.intersection(pc2)))\n",
    "        print(\"Union:\", len(pc1.union(pc2)))\n",
    "        print(\"env1 - env2:\", len(pc1 - pc2))\n",
    "        print(\"env2 - env1:\", len(pc2 - pc1))\n",
    "        print(\"Remapping:\", self.get_remapping(env1, env2))\n",
    "        print(\"Turnover:\", self.get_turnover(env1, env2))"
   ]
  },
  {
   "cell_type": "code",
   "execution_count": 3,
   "id": "b52e7319-5647-44bc-a025-b23a39888a09",
   "metadata": {
    "tags": []
   },
   "outputs": [],
   "source": [
    "hiddens = [f'hidden{n}' for n in [20, 50, 200, 500]]\n",
    "hiddens.insert(2, 'baseline')"
   ]
  },
  {
   "cell_type": "code",
   "execution_count": null,
   "id": "92735fb6-fb2c-41b5-8876-5f78ba3d25c7",
   "metadata": {
    "tags": []
   },
   "outputs": [],
   "source": [
    "for h in hiddens:\n",
    "    exp = Experiment.load_experiment(data_path, h)\n",
    "    anl = Analysis(exp, immediate_pc=True)\n",
    "    \n",
    "    print(h + ':')\n",
    "    anl.place_cell_stats()\n",
    "    print()"
   ]
  },
  {
   "cell_type": "code",
   "execution_count": 8,
   "id": "4dc0b464-b177-4bca-9803-67f23da06e82",
   "metadata": {
    "tags": []
   },
   "outputs": [
    {
     "name": "stdout",
     "output_type": "stream",
     "text": [
      "hidden20:\n",
      "Len env1: 18 | Len env2: 18\n",
      "Intersection: 18\n",
      "Union: 18\n",
      "IoU: 1.0\n",
      "Turnover: 0.0\n",
      "\n",
      "hidden50:\n",
      "Len env1: 39 | Len env2: 42\n",
      "Intersection: 38\n",
      "Union: 43\n",
      "IoU: 0.8837209302325582\n",
      "Turnover: 0.3248862897985707\n",
      "\n",
      "baseline:\n",
      "Len env1: 89 | Len env2: 96\n",
      "Intersection: 85\n",
      "Union: 100\n",
      "IoU: 0.85\n",
      "Turnover: 0.2923486867148839\n",
      "\n",
      "hidden200:\n",
      "Len env1: 98 | Len env2: 92\n",
      "Intersection: 67\n",
      "Union: 123\n",
      "IoU: 0.5447154471544715\n",
      "Turnover: 0.5614035087719299\n",
      "\n",
      "hidden500:\n",
      "Len env1: 166 | Len env2: 171\n",
      "Intersection: 97\n",
      "Union: 240\n",
      "IoU: 0.4041666666666667\n",
      "Turnover: 0.6400186187234538\n",
      "\n"
     ]
    }
   ],
   "source": [
    "for h in hiddens:\n",
    "    exp = Experiment.load_experiment(data_path, h)\n",
    "    anl = Analysis(exp)\n",
    "    act1, act2 = *anl.active_per_env.values(),\n",
    "    print(h + ':')\n",
    "    print('Len env1:', len(act1), '| Len env2:', len(act2))\n",
    "    print(\"Intersection:\", len(act1.intersection(act2)))\n",
    "    print(\"Union:\", len(act1.union(act2)))\n",
    "    print(\"IoU:\", len(act1.intersection(act2)) / len(act1.union(act2)))\n",
    "    print(\"Turnover:\", anl.get_turnover(1, 2, all_active=True))\n",
    "    print()"
   ]
  },
  {
   "cell_type": "code",
   "execution_count": 3,
   "id": "bdbb3fdd-9571-4b5f-a571-21c6b0bfb602",
   "metadata": {
    "tags": []
   },
   "outputs": [],
   "source": [
    "lr1s = [f'l1_{n}' for n in ['01', '001', '0001', '00001', '000001', '0']]\n",
    "lr1s.insert(3, 'baseline')"
   ]
  },
  {
   "cell_type": "code",
   "execution_count": 8,
   "id": "5068243b-f932-4345-8667-53a2417bff0a",
   "metadata": {
    "tags": []
   },
   "outputs": [
    {
     "name": "stdout",
     "output_type": "stream",
     "text": [
      "l1_01:\n",
      "Len env1: 62\n",
      "Len env2: 55\n",
      "Intersection: 33\n",
      "Union: 84\n",
      "env1 - env2: 29\n",
      "env2 - env1: 22\n",
      "Remapping: 0.890890508890152\n",
      "Turnover: 0.8028039107175797\n",
      "\n",
      "l1_001:\n",
      "Len env1: 52\n",
      "Len env2: 65\n",
      "Intersection: 35\n",
      "Union: 82\n",
      "env1 - env2: 17\n",
      "env2 - env1: 30\n",
      "Remapping: 0.7286943793296814\n",
      "Turnover: 0.7398388981122794\n",
      "\n",
      "l1_0001:\n",
      "Len env1: 34\n",
      "Len env2: 45\n",
      "Intersection: 20\n",
      "Union: 59\n",
      "env1 - env2: 14\n",
      "env2 - env1: 25\n",
      "Remapping: 0.6971185803413391\n",
      "Turnover: 0.7140098691267969\n",
      "\n",
      "baseline:\n",
      "Len env1: 57\n",
      "Len env2: 64\n",
      "Intersection: 38\n",
      "Union: 83\n",
      "env1 - env2: 19\n",
      "env2 - env1: 26\n",
      "Remapping: 0.8008994460105896\n",
      "Turnover: 0.7052341597796143\n",
      "\n",
      "l1_00001:\n",
      "Len env1: 46\n",
      "Len env2: 59\n",
      "Intersection: 28\n",
      "Union: 77\n",
      "env1 - env2: 18\n",
      "env2 - env1: 31\n",
      "Remapping: 0.6604875922203064\n",
      "Turnover: 0.7911699779249448\n",
      "\n",
      "l1_000001:\n",
      "Len env1: 41\n",
      "Len env2: 69\n",
      "Intersection: 24\n",
      "Union: 86\n",
      "env1 - env2: 17\n",
      "env2 - env1: 45\n",
      "Remapping: 0.7910145670175552\n",
      "Turnover: 0.988293897882939\n",
      "\n",
      "l1_0:\n",
      "Len env1: 46\n",
      "Len env2: 36\n",
      "Intersection: 17\n",
      "Union: 65\n",
      "env1 - env2: 29\n",
      "env2 - env1: 19\n",
      "Remapping: 0.753467857837677\n",
      "Turnover: 0.8612279226240538\n",
      "\n"
     ]
    }
   ],
   "source": [
    "for lr in lr1s:\n",
    "    collect()\n",
    "    exp = Experiment.load_experiment(data_path, lr)\n",
    "    anl = Analysis(exp, immediate_pc=True)\n",
    "    \n",
    "    print(lr + ':')\n",
    "    anl.place_cell_stats()\n",
    "    print()\n",
    "    del anl; del exp"
   ]
  },
  {
   "cell_type": "code",
   "execution_count": 9,
   "id": "4886edd4-9b17-4ded-a468-b06c1b9b7929",
   "metadata": {
    "tags": []
   },
   "outputs": [
    {
     "name": "stdout",
     "output_type": "stream",
     "text": [
      "l1_01:\n",
      "Len env1: 84 | Len env2: 84\n",
      "Intersection: 73\n",
      "Union: 95\n",
      "IoU: 0.7684210526315789\n",
      "Turnover: 0.38095238095238093\n",
      "\n",
      "l1_001:\n",
      "Len env1: 84 | Len env2: 84\n",
      "Intersection: 75\n",
      "Union: 93\n",
      "IoU: 0.8064516129032258\n",
      "Turnover: 0.3116883116883117\n",
      "\n",
      "l1_0001:\n",
      "Len env1: 77 | Len env2: 74\n",
      "Intersection: 61\n",
      "Union: 90\n",
      "IoU: 0.6777777777777778\n",
      "Turnover: 0.4682434563229265\n",
      "\n",
      "baseline:\n",
      "Len env1: 89 | Len env2: 96\n",
      "Intersection: 85\n",
      "Union: 100\n",
      "IoU: 0.85\n",
      "Turnover: 0.2923486867148839\n",
      "\n",
      "l1_00001:\n",
      "Len env1: 79 | Len env2: 81\n",
      "Intersection: 66\n",
      "Union: 94\n",
      "IoU: 0.7021276595744681\n",
      "Turnover: 0.4666666666666668\n",
      "\n",
      "l1_000001:\n",
      "Len env1: 82 | Len env2: 87\n",
      "Intersection: 74\n",
      "Union: 95\n",
      "IoU: 0.7789473684210526\n",
      "Turnover: 0.3656396653744134\n",
      "\n",
      "l1_0:\n",
      "Len env1: 79 | Len env2: 61\n",
      "Intersection: 52\n",
      "Union: 88\n",
      "IoU: 0.5909090909090909\n",
      "Turnover: 0.5674876847290641\n",
      "\n"
     ]
    }
   ],
   "source": [
    "for lr in lr1s:\n",
    "    exp = Experiment.load_experiment(data_path, lr)\n",
    "    anl = Analysis(exp)\n",
    "    act1, act2 = *anl.active_per_env.values(),\n",
    "    print(lr + ':')\n",
    "    print('Len env1:', len(act1), '| Len env2:', len(act2))\n",
    "    print(\"Intersection:\", len(act1.intersection(act2)))\n",
    "    print(\"Union:\", len(act1.union(act2)))\n",
    "    print(\"IoU:\", len(act1.intersection(act2)) / len(act1.union(act2)))\n",
    "    print(\"Turnover:\", anl.get_turnover(1, 2, all_active=True))\n",
    "    print()"
   ]
  },
  {
   "cell_type": "code",
   "execution_count": null,
   "id": "5bb37c54-864f-4f71-96c1-3fd9e62d04dd",
   "metadata": {},
   "outputs": [],
   "source": []
  }
 ],
 "metadata": {
  "kernelspec": {
   "display_name": "Python 3 (ipykernel)",
   "language": "python",
   "name": "python3"
  },
  "language_info": {
   "codemirror_mode": {
    "name": "ipython",
    "version": 3
   },
   "file_extension": ".py",
   "mimetype": "text/x-python",
   "name": "python",
   "nbconvert_exporter": "python",
   "pygments_lexer": "ipython3",
   "version": "3.11.3"
  }
 },
 "nbformat": 4,
 "nbformat_minor": 5
}
