{
 "cells": [
  {
   "cell_type": "markdown",
   "id": "cb21bde5-b913-42ef-be94-398c79dc4c86",
   "metadata": {},
   "source": [
    "# Network weight analysis"
   ]
  },
  {
   "cell_type": "code",
   "execution_count": 5,
   "id": "82ee4f6e-c16c-41e2-b01e-467dd3e15706",
   "metadata": {
    "tags": []
   },
   "outputs": [],
   "source": [
    "import os\n",
    "import sys\n",
    "import torch\n",
    "import numpy as np\n",
    "import matplotlib.pyplot as plt\n",
    "\n",
    "module_path = os.path.abspath(os.path.join('..'))\n",
    "if module_path not in sys.path:\n",
    "    sys.path.append(module_path)\n",
    "\n",
    "from experiment import Experiment\n",
    "from utils import print_stats\n",
    "\n",
    "\n",
    "data_path = \"../data\"\n",
    "save_path = \"../figs\""
   ]
  },
  {
   "cell_type": "code",
   "execution_count": 2,
   "id": "18f07355-6fd6-491f-a580-8b06b5123ba3",
   "metadata": {
    "tags": []
   },
   "outputs": [],
   "source": [
    "exp = Experiment.load_experiment(data_path, 'baseline')"
   ]
  },
  {
   "cell_type": "code",
   "execution_count": 3,
   "id": "e32bb604-d5f4-40a2-906c-6946253797f8",
   "metadata": {
    "tags": []
   },
   "outputs": [],
   "source": [
    "exp.compile_grid_cells(1)\n",
    "exp.load_pfs()"
   ]
  },
  {
   "cell_type": "code",
   "execution_count": 6,
   "id": "b1d1a561-8ef5-4459-9c32-59547924a158",
   "metadata": {
    "tags": []
   },
   "outputs": [
    {
     "name": "stdout",
     "output_type": "stream",
     "text": [
      "Bias stats:\n",
      "min   |max  |mean |std  |shape\n",
      "-0.412|0.407|0.044|0.188|torch.Size([128])\n",
      "\n",
      "Weight stats:\n",
      "min   |max  |mean |std  |shape\n",
      "0.000|11.255|0.994|0.963|torch.Size([128, 1000])\n",
      "\n",
      "Aggregated weight stats:\n",
      "min   |max  |mean |std  |shape\n",
      "936.681|1097.668|994.358|48.996|torch.Size([128])\n"
     ]
    }
   ],
   "source": [
    "net = exp.agent.actor\n",
    "net.clamp_weights()\n",
    "\n",
    "print(\"Bias stats:\")\n",
    "print_stats(net.b1)\n",
    "print(\"\\nWeight stats:\")\n",
    "print_stats(net.w1)\n",
    "print(\"\\nAggregated weight stats:\")\n",
    "print_stats(net.w1.sum(1))"
   ]
  },
  {
   "cell_type": "code",
   "execution_count": 7,
   "id": "faa3e869-867b-4ba5-adee-5be8a8c6d0d5",
   "metadata": {
    "tags": []
   },
   "outputs": [
    {
     "name": "stdout",
     "output_type": "stream",
     "text": [
      "tensor([-10.3782, -10.5052, -10.6467, -10.9363,  11.3086,  -9.9885,  10.0321,\n",
      "        -10.1837, -10.1984,  11.3482])\n"
     ]
    }
   ],
   "source": [
    "hidden = exp.agent_kwargs['actor_hidden']\n",
    "idx = net.lin2.weight[2:].detach().cpu().abs().argsort(dim=-1)[:,-5:].numpy() + [[0], [hidden]]\n",
    "print(net.lin2.weight[2:].detach().cpu().flatten()[idx.flatten()])"
   ]
  },
  {
   "cell_type": "code",
   "execution_count": 20,
   "id": "9b028193-3a80-4e45-b2e1-1960731cb282",
   "metadata": {},
   "outputs": [
    {
     "name": "stdout",
     "output_type": "stream",
     "text": [
      "Layer 2 weights from active hidden units\n",
      "min   |max  |mean |std  |shape\n",
      "-10.936|11.348|0.066|6.000|torch.Size([2, 89])\n",
      "\n",
      "Layer 2 weights from inactive hidden units\n",
      "min   |max  |mean |std  |shape\n",
      "-4.069|5.231|0.160|1.159|torch.Size([2, 39])\n"
     ]
    },
    {
     "data": {
      "image/png": "[encoded data removed]",
      "text/plain": [
       "<Figure size 640x480 with 1 Axes>"
      ]
     },
     "metadata": {},
     "output_type": "display_data"
    }
   ],
   "source": [
    "hidden = net.lin1(exp.grid_cells).permute((-1, 0, 1)).detach().cpu().numpy()\n",
    "used = exp.pfs.scales.squeeze().cpu().detach().numpy() > 0.001\n",
    "\n",
    "print(\"Layer 2 weights from active hidden units\")\n",
    "print_stats(net.lin2.weight[2:, used])\n",
    "print(\"\\nLayer 2 weights from inactive hidden units\")\n",
    "print_stats(net.lin2.weight[2:, ~used])\n",
    "\n",
    "plt.hist([*net.lin2.weight[2:, used].detach().cpu(),\n",
    "          *net.lin2.weight[2:, ~used].detach().cpu()],\n",
    "         histtype='barstacked')\n",
    "plt.show()"
   ]
  }
 ],
 "metadata": {
  "kernelspec": {
   "display_name": "Python 3 (ipykernel)",
   "language": "python",
   "name": "python3"
  },
  "language_info": {
   "codemirror_mode": {
    "name": "ipython",
    "version": 3
   },
   "file_extension": ".py",
   "mimetype": "text/x-python",
   "name": "python",
   "nbconvert_exporter": "python",
   "pygments_lexer": "ipython3",
   "version": "3.10.9"
  }
 },
 "nbformat": 4,
 "nbformat_minor": 5
}
