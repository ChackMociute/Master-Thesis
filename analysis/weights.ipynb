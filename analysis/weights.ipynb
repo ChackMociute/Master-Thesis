{
 "cells": [
  {
   "cell_type": "markdown",
   "id": "cb21bde5-b913-42ef-be94-398c79dc4c86",
   "metadata": {},
   "source": [
    "# Network weight analysis"
   ]
  },
  {
   "cell_type": "code",
   "execution_count": 1,
   "id": "82ee4f6e-c16c-41e2-b01e-467dd3e15706",
   "metadata": {
    "tags": []
   },
   "outputs": [],
   "source": [
    "import os\n",
    "import sys\n",
    "import torch\n",
    "import numpy as np\n",
    "import matplotlib.pyplot as plt\n",
    "plt.style.use('tableau-colorblind10')\n",
    "\n",
    "module_path = os.path.abspath(os.path.join('..'))\n",
    "if module_path not in sys.path:\n",
    "    sys.path.append(module_path)\n",
    "\n",
    "from experiment import Experiment\n",
    "from analysis import MultiAnalysis, MultiRunAnalysis\n",
    "from utils import print_stats\n",
    "from scipy.stats import pearsonr, linregress, ranksums\n",
    "from statsmodels.stats.proportion import proportions_ztest\n",
    "\n",
    "\n",
    "data_path = \"../data\"\n",
    "save_path = \"../figs\""
   ]
  },
  {
   "cell_type": "code",
   "execution_count": 2,
   "id": "6c710532-3eb6-414a-8cae-ae56f96e4d48",
   "metadata": {
    "tags": []
   },
   "outputs": [],
   "source": [
    "exp = Experiment.load_experiment(data_path, 'baseline/0')"
   ]
  },
  {
   "cell_type": "raw",
   "id": "5b391ed0-dee9-46c0-8cd6-d4fac78a9267",
   "metadata": {
    "tags": []
   },
   "source": [
    "exp.compile_grid_cells(1)\n",
    "exp.load_pfs()"
   ]
  },
  {
   "cell_type": "code",
   "execution_count": 3,
   "id": "4d0ce1d2-58b0-4e4d-b214-83264053890d",
   "metadata": {
    "tags": []
   },
   "outputs": [
    {
     "name": "stdout",
     "output_type": "stream",
     "text": [
      "Bias stats:\n",
      "min   |max  |mean |std  |shape\n",
      "-0.143|0.068|0.015|0.043|torch.Size([128])\n",
      "\n",
      "Weight stats:\n",
      "min   |max  |mean |std  |shape\n",
      "0.000|11.546|0.923|0.946|torch.Size([128, 1000])\n",
      "\n",
      "Aggregated weight stats:\n",
      "min   |max  |mean |std  |shape\n",
      "842.406|1093.026|923.482|83.142|torch.Size([128])\n"
     ]
    }
   ],
   "source": [
    "net = exp.agent.actor\n",
    "net.clamp_weights()\n",
    "\n",
    "print(\"Bias stats:\")\n",
    "print_stats(net.b1)\n",
    "print(\"\\nWeight stats:\")\n",
    "print_stats(net.w1)\n",
    "print(\"\\nAggregated weight stats:\")\n",
    "print_stats(net.w1.sum(1))"
   ]
  },
  {
   "cell_type": "raw",
   "id": "b2f41832-3476-4ae3-bd8c-5b8f02b9ff00",
   "metadata": {},
   "source": [
    "hidden = net.lin1(exp.grid_cells).permute((-1, 0, 1)).detach().cpu().numpy()\n",
    "used = exp.pfs.scales.squeeze().cpu().detach().numpy() > 0.001\n",
    "\n",
    "print(\"Layer 2 weights from active hidden units\")\n",
    "print_stats(net.lin2.weight[2:, used])\n",
    "print(\"\\nLayer 2 weights from inactive hidden units\")\n",
    "print_stats(net.lin2.weight[2:, ~used])\n",
    "\n",
    "plt.hist([*net.lin2.weight[2:, used].detach().cpu(),\n",
    "          *net.lin2.weight[2:, ~used].detach().cpu()],\n",
    "         histtype='barstacked')\n",
    "plt.show()"
   ]
  },
  {
   "cell_type": "markdown",
   "id": "d0083a9e-3189-4899-8614-669777b3294a",
   "metadata": {},
   "source": [
    "### L1 regularization effect"
   ]
  },
  {
   "cell_type": "code",
   "execution_count": 4,
   "id": "2988f00c-5b13-4a80-a981-1827e3c3fd76",
   "metadata": {
    "tags": []
   },
   "outputs": [],
   "source": [
    "l1s = [f'l1_{n}' for n in ['1', '05', '01', '001', '0001', '00001', '000001', '0']]\n",
    "l1s.insert(4, 'baseline')"
   ]
  },
  {
   "cell_type": "code",
   "execution_count": 6,
   "id": "5501b4b8-5db4-435a-8442-71ddca15375b",
   "metadata": {
    "tags": []
   },
   "outputs": [],
   "source": [
    "ma = MultiAnalysis(data_path, l1s)"
   ]
  },
  {
   "cell_type": "code",
   "execution_count": 7,
   "id": "71efba55-4d0b-470d-b4aa-e49600b9e3e0",
   "metadata": {
    "tags": []
   },
   "outputs": [
    {
     "name": "stdout",
     "output_type": "stream",
     "text": [
      "l1_1:\n",
      "  44.866 ± 29.875\n",
      "\n",
      "l1_05:\n",
      "  68.733 ± 29.788\n",
      "\n",
      "l1_01:\n",
      "  260.695 ± 36.699\n",
      "\n",
      "l1_001:\n",
      "  821.359 ± 41.104\n",
      "\n",
      "baseline:\n",
      "  901.298 ± 37.373\n",
      "\n",
      "l1_0001:\n",
      "  962.475 ± 32.738\n",
      "\n",
      "l1_00001:\n",
      "  970.330 ± 29.982\n",
      "\n",
      "l1_000001:\n",
      "  971.186 ± 30.311\n",
      "\n",
      "l1_0:\n",
      "  972.167 ± 28.810\n",
      "\n"
     ]
    }
   ],
   "source": [
    "means, stds = ma.nonzero_weights()\n",
    "for l1, mean, std in zip(l1s, means, stds):\n",
    "    print(f\"{l1}:\\n  {mean:.03f} ± {std:.03f}\")\n",
    "    print()"
   ]
  },
  {
   "cell_type": "code",
   "execution_count": 8,
   "id": "662046e1-7087-466c-95f5-b251d92bb408",
   "metadata": {
    "tags": []
   },
   "outputs": [],
   "source": [
    "l1s = [1, 0.5, 0.1, 0.01, 0.005, 0.001, 0.0001, 0.00001, 0]"
   ]
  },
  {
   "cell_type": "code",
   "execution_count": 9,
   "id": "80435538-7c20-4348-8ca8-0ba0c501d30a",
   "metadata": {
    "tags": []
   },
   "outputs": [
    {
     "data": {
      "image/png": "[encoded data removed]",
      "text/plain": [
       "<Figure size 600x200 with 1 Axes>"
      ]
     },
     "metadata": {},
     "output_type": "display_data"
    }
   ],
   "source": [
    "plt.figure(figsize=(6, 2))\n",
    "plt.semilogx(l1s, means)\n",
    "plt.fill_between(l1s, np.asarray(means) - stds, np.asarray(means) + stds, alpha=0.5)\n",
    "plt.xscale('symlog', linthresh=1e-5, linscale=0.4, subs=range(2, 10))\n",
    "plt.xlabel(\"$\\\\lambda_{l1}$\", fontsize=14, labelpad=-40)\n",
    "plt.ylabel(\"Average # of\\nnonzero weights\", fontsize=12)\n",
    "plt.tight_layout()\n",
    "plt.savefig(\"../figs/nonzero.png\")\n",
    "plt.show()"
   ]
  },
  {
   "cell_type": "markdown",
   "id": "ecb3fe16-b610-487f-9abc-0174244e2fc3",
   "metadata": {},
   "source": [
    "### Firing rate correlation"
   ]
  },
  {
   "cell_type": "code",
   "execution_count": 10,
   "id": "47bdb44b-fca6-417e-afbd-51bef24db291",
   "metadata": {
    "tags": []
   },
   "outputs": [],
   "source": [
    "exp = Experiment.load_experiment(data_path, 'baseline/2')\n",
    "net = exp.agent.actor\n",
    "net.clamp_weights()"
   ]
  },
  {
   "cell_type": "code",
   "execution_count": 11,
   "id": "0ef9ff58-41ba-4b94-b4d2-3fbbc20fa1a5",
   "metadata": {
    "tags": []
   },
   "outputs": [],
   "source": [
    "exp.compile_grid_cells(1)\n",
    "exp.load_pfs()"
   ]
  },
  {
   "cell_type": "code",
   "execution_count": 12,
   "id": "bf683d80-78e3-4db4-adb6-1c099926b4b1",
   "metadata": {
    "tags": []
   },
   "outputs": [],
   "source": [
    "idx = exp.pfs.get_place_cells().cpu()"
   ]
  },
  {
   "cell_type": "code",
   "execution_count": 13,
   "id": "01ea46ca-cd32-4914-ae9b-f0ddfde4886c",
   "metadata": {
    "tags": []
   },
   "outputs": [
    {
     "data": {
      "image/png": "[encoded data removed]",
      "text/plain": [
       "<Figure size 600x300 with 1 Axes>"
      ]
     },
     "metadata": {},
     "output_type": "display_data"
    }
   ],
   "source": [
    "dists = exp.pfs.means[idx].detach().pow(2).sum(-1).cpu()\n",
    "scales = exp.pfs.scales[idx].pow(2).detach().cpu()\n",
    "w_x, w_y = net.lin2.weight.detach().abs().cpu()[2:,idx]\n",
    "\n",
    "slope, intercept, rho, *_ = linregress(dists, scales.squeeze()/scales.max(), alternative='greater')\n",
    "\n",
    "plt.figure(figsize=(6, 3))\n",
    "plt.scatter(dists, scales/scales.max(), label=f'Peaks, $r={rho:.03}$')\n",
    "plt.scatter(dists, w_x/w_x.max(), label=f'Weights (x), $r={pearsonr(w_x, dists).statistic:.03}$', alpha=0.5)\n",
    "plt.scatter(dists, w_y/w_y.max(), label=f'Weights (y), $r={pearsonr(w_y, dists).statistic:.03}$', alpha=0.5)\n",
    "plt.axline([0, intercept], slope=slope, c='gray')\n",
    "plt.xlabel(\"Distance from the Origin\", fontsize=14)\n",
    "plt.ylabel(\"Normalized Magnitude\", fontsize=12)\n",
    "plt.title(\"Peak Firing Correlated with Distance\", fontsize=18)\n",
    "plt.legend()\n",
    "plt.tight_layout()\n",
    "plt.savefig(\"../figs/dist_corr.png\")\n",
    "plt.show()"
   ]
  },
  {
   "cell_type": "code",
   "execution_count": 14,
   "id": "f1081ed5-129f-45b4-80f8-19580fe876e9",
   "metadata": {
    "tags": []
   },
   "outputs": [
    {
     "name": "stdout",
     "output_type": "stream",
     "text": [
      "PearsonRResult(statistic=0.9999999, pvalue=3.445605731044788e-177)\n",
      "PearsonRResult(statistic=0.5329623, pvalue=2.801504155153122e-05)\n",
      "PearsonRResult(statistic=0.4015727, pvalue=0.0023754807183582506)\n"
     ]
    }
   ],
   "source": [
    "print(pearsonr(dists, dists))\n",
    "print(pearsonr(w_x, dists))\n",
    "print(pearsonr(w_y, dists))"
   ]
  },
  {
   "cell_type": "markdown",
   "id": "64ffdc4b-a43e-4264-826f-d313e397eb81",
   "metadata": {},
   "source": [
    "### Nonzero Weights to Inactive Cells"
   ]
  },
  {
   "cell_type": "code",
   "execution_count": 2,
   "id": "d52051c1-2d21-4d7e-85ae-622c0122c155",
   "metadata": {
    "tags": []
   },
   "outputs": [],
   "source": [
    "mra = MultiRunAnalysis(data_path, 'hidden500')"
   ]
  },
  {
   "cell_type": "code",
   "execution_count": 3,
   "id": "528150e3-973a-40a4-b4e8-bf7e56a91010",
   "metadata": {
    "tags": []
   },
   "outputs": [],
   "source": [
    "idx = [exp.pfs_per_env[1].get_active_cells_() for exp in mra.exps]\n",
    "\n",
    "active = mra.get_weights()[torch.stack(idx)].cpu().flatten()\n",
    "inactive = mra.get_weights()[~torch.stack(idx)].cpu().flatten()\n",
    "\n",
    "counts = [(active.abs() > 0.001).sum().item(), (inactive.abs() > 0.001).sum().item()]\n",
    "nobs = [active.shape.numel(), inactive.shape.numel()]"
   ]
  },
  {
   "cell_type": "code",
   "execution_count": 4,
   "id": "54925a82-305a-4ce9-98f8-854ef7213241",
   "metadata": {
    "tags": []
   },
   "outputs": [
    {
     "data": {
      "text/plain": [
       "array([0.87608108, 0.92365985])"
      ]
     },
     "execution_count": 4,
     "metadata": {},
     "output_type": "execute_result"
    }
   ],
   "source": [
    "np.asarray(counts) / np.asarray(nobs)"
   ]
  },
  {
   "cell_type": "code",
   "execution_count": 5,
   "id": "6f1609c0-7895-40ea-a2d4-890f83a81db7",
   "metadata": {
    "tags": []
   },
   "outputs": [
    {
     "data": {
      "text/plain": [
       "(-113.11842145225461, 0.0)"
      ]
     },
     "execution_count": 5,
     "metadata": {},
     "output_type": "execute_result"
    }
   ],
   "source": [
    "proportions_ztest(counts, nobs)"
   ]
  },
  {
   "cell_type": "code",
   "execution_count": 6,
   "id": "7858ed5c-4812-471c-8e0b-ae93ff43f459",
   "metadata": {
    "tags": []
   },
   "outputs": [
    {
     "data": {
      "text/plain": [
       "[0.8664227724075317, 0.9516165852546692]"
      ]
     },
     "execution_count": 6,
     "metadata": {},
     "output_type": "execute_result"
    }
   ],
   "source": [
    "[active.abs().mean().item(), inactive.abs().mean().item()]"
   ]
  },
  {
   "cell_type": "code",
   "execution_count": 7,
   "id": "924ef34a-c7dc-4753-8e99-d64adfe4a938",
   "metadata": {
    "tags": []
   },
   "outputs": [
    {
     "data": {
      "text/plain": [
       "RanksumsResult(statistic=-94.18131331162873, pvalue=0.0)"
      ]
     },
     "execution_count": 7,
     "metadata": {},
     "output_type": "execute_result"
    }
   ],
   "source": [
    "ranksums(active.abs(), inactive.abs())"
   ]
  }
 ],
 "metadata": {
  "kernelspec": {
   "display_name": "Python 3 (ipykernel)",
   "language": "python",
   "name": "python3"
  },
  "language_info": {
   "codemirror_mode": {
    "name": "ipython",
    "version": 3
   },
   "file_extension": ".py",
   "mimetype": "text/x-python",
   "name": "python",
   "nbconvert_exporter": "python",
   "pygments_lexer": "ipython3",
   "version": "3.11.3"
  }
 },
 "nbformat": 4,
 "nbformat_minor": 5
}
