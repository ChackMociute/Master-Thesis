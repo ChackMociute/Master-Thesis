{
 "cells": [
  {
   "cell_type": "markdown",
   "id": "7e7d731a-f9f2-4570-a654-e3c1c0e3f98a",
   "metadata": {
    "tags": []
   },
   "source": [
    "# Statistical Analyses"
   ]
  },
  {
   "cell_type": "code",
   "execution_count": 1,
   "id": "7140814d-a458-461e-b1de-32bb7ec2fc47",
   "metadata": {
    "tags": []
   },
   "outputs": [],
   "source": [
    "import os\n",
    "import sys\n",
    "import numpy as np\n",
    "import pandas as pd\n",
    "import matplotlib.pyplot as plt\n",
    "plt.style.use('tableau-colorblind10')\n",
    "\n",
    "module_path = os.path.abspath(os.path.join('..'))\n",
    "if module_path not in sys.path:\n",
    "    sys.path.append(module_path)\n",
    "\n",
    "from analysis import MultiAnalysis, MultiRunAnalysis, MultiAnalysis2Fits\n",
    "from scipy.stats import ranksums, kruskal, wilcoxon\n",
    "from statsmodels.stats.proportion import proportions_ztest\n",
    "\n",
    "\n",
    "data_path = \"../data\"\n",
    "save_path = \"../figs\""
   ]
  },
  {
   "cell_type": "markdown",
   "id": "e2fff3ae-2f2a-4e4c-b92e-fd190417e78e",
   "metadata": {
    "jp-MarkdownHeadingCollapsed": true,
    "tags": []
   },
   "source": [
    "### Confidence Interval Tables"
   ]
  },
  {
   "cell_type": "code",
   "execution_count": 2,
   "id": "ac40ac2f-b891-4c42-a4b7-60fa8fa5ae00",
   "metadata": {
    "tags": []
   },
   "outputs": [],
   "source": [
    "ma = MultiAnalysis(data_path, ['baseline'])\n",
    "df = ma.get_confidence_intervals()\n",
    "\n",
    "df = df.unstack(0).stack(0, future_stack=True)\n",
    "df.index = df.index.swaplevel(0, 2)\n",
    "df = df.sort_index()\n",
    "\n",
    "active = df.loc[('active', ['proportion', 'IoU', 'turnover'], slice(None))]\n",
    "place = df.loc[('place', ['proportion', 'IoU', 'turnover', 'remapping'], slice(None))]"
   ]
  },
  {
   "cell_type": "code",
   "execution_count": 3,
   "id": "c45da6c7-ea32-4cd2-ab2f-c60054e03412",
   "metadata": {
    "tags": []
   },
   "outputs": [
    {
     "name": "stdout",
     "output_type": "stream",
     "text": [
      "\\begin{tabular}{llllll}\n",
      "\\toprule\n",
      " & proportion (trn) & proportion (unt) & IoU (unt) & turnover (unt) & remapping (unt) \\\\\n",
      "\\midrule\n",
      "active & 0.47$\\pm$0.04 & 0.56$\\pm$0.06 & 0.69$\\pm$0.03 & 0.38$\\pm$0.06 & NaN \\\\\n",
      "place & 0.41$\\pm$0.04 & 0.33$\\pm$0.06 & 0.37$\\pm$0.06 & 0.80$\\pm$0.08 & 0.97$\\pm$0.03 \\\\\n",
      "\\bottomrule\n",
      "\\end{tabular}\n",
      "\n"
     ]
    }
   ],
   "source": [
    "remaps = pd.concat([active, place]).unstack(0)\n",
    "remaps.index = remaps.index.map('{0[0]} ({0[1]})'.format)\n",
    "print(remaps.T.droplevel(0).to_latex())"
   ]
  },
  {
   "cell_type": "code",
   "execution_count": 4,
   "id": "58a285e8-5c73-4fd8-bf25-ab1653dae63a",
   "metadata": {
    "tags": []
   },
   "outputs": [
    {
     "name": "stdout",
     "output_type": "stream",
     "text": [
      "\\begin{tabular}{llll}\n",
      "\\toprule\n",
      " & coverage & sizes & scales \\\\\n",
      "\\midrule\n",
      "trn & 0.95$\\pm$0.04 & 0.06$\\pm$6.8e-03 & 0.30$\\pm$0.02 \\\\\n",
      "unt & 0.52$\\pm$0.08 & 0.02$\\pm$3.4e-03 & 0.13$\\pm$0.03 \\\\\n",
      "\\bottomrule\n",
      "\\end{tabular}\n",
      "\n"
     ]
    }
   ],
   "source": [
    "coverage = df.loc['place'].loc[['coverage', 'sizes', 'scales']]\n",
    "print(coverage.unstack(0).droplevel(0, axis=1).to_latex())"
   ]
  },
  {
   "cell_type": "markdown",
   "id": "c299b5ff-7ff5-420f-a7d4-d998ecd6c0d7",
   "metadata": {},
   "source": [
    "### Miscellaneous Statistical Test"
   ]
  },
  {
   "cell_type": "markdown",
   "id": "90c1fbe7-3dfd-4833-983d-bc5b68b3976b",
   "metadata": {
    "jp-MarkdownHeadingCollapsed": true,
    "tags": []
   },
   "source": [
    "#### Hidden unit proportions"
   ]
  },
  {
   "cell_type": "code",
   "execution_count": 6,
   "id": "a2a0c8f7-ac3f-4165-82e0-3596b84c297d",
   "metadata": {
    "tags": []
   },
   "outputs": [],
   "source": [
    "mra = MultiRunAnalysis(data_path, 'baseline')"
   ]
  },
  {
   "cell_type": "code",
   "execution_count": 7,
   "id": "d812a815-280d-45cc-aa26-d8bf7ff23d1f",
   "metadata": {
    "tags": []
   },
   "outputs": [],
   "source": [
    "trn = mra.df[mra.df.index.get_level_values(1) == 1].loc[(slice(None), slice(None), 'proportion')]\n",
    "unt = mra.df[mra.df.index.get_level_values(1) != 1].loc[(slice(None), slice(None), 'proportion')]"
   ]
  },
  {
   "cell_type": "code",
   "execution_count": 8,
   "id": "15186201-9127-4622-b5ec-126622280698",
   "metadata": {
    "tags": []
   },
   "outputs": [
    {
     "data": {
      "text/plain": [
       "RanksumsResult(statistic=3.3628627914094493, pvalue=0.0003856934678807837)"
      ]
     },
     "execution_count": 8,
     "metadata": {},
     "output_type": "execute_result"
    }
   ],
   "source": [
    "ranksums(trn.place, unt.place, alternative='greater')"
   ]
  },
  {
   "cell_type": "code",
   "execution_count": 9,
   "id": "38f86eb7-50bb-450c-b922-094d61e056dc",
   "metadata": {
    "tags": []
   },
   "outputs": [
    {
     "data": {
      "text/plain": [
       "RanksumsResult(statistic=-3.3968311024337874, pvalue=0.00034085514668541917)"
      ]
     },
     "execution_count": 9,
     "metadata": {},
     "output_type": "execute_result"
    }
   ],
   "source": [
    "ranksums(trn.active, unt.active, alternative='less')"
   ]
  },
  {
   "cell_type": "markdown",
   "id": "15d59041-20bc-421a-bff9-675f27978574",
   "metadata": {
    "jp-MarkdownHeadingCollapsed": true,
    "tags": []
   },
   "source": [
    "#### Scales"
   ]
  },
  {
   "cell_type": "code",
   "execution_count": 10,
   "id": "8cd7be14-c75a-41e5-ae0a-a4529e094e99",
   "metadata": {
    "tags": []
   },
   "outputs": [],
   "source": [
    "trn = mra.df[mra.df.index.get_level_values(1) == 1].loc[(slice(None), slice(None), 'scales')].place\n",
    "unt = mra.df[mra.df.index.get_level_values(1) != 1].loc[(slice(None), slice(None), 'scales')].place"
   ]
  },
  {
   "cell_type": "code",
   "execution_count": 11,
   "id": "9340b0d5-5169-4942-b15e-4bc1f70a74d8",
   "metadata": {
    "tags": []
   },
   "outputs": [
    {
     "data": {
      "text/html": [
       "<div>\n",
       "<style scoped>\n",
       "    .dataframe tbody tr th:only-of-type {\n",
       "        vertical-align: middle;\n",
       "    }\n",
       "\n",
       "    .dataframe tbody tr th {\n",
       "        vertical-align: top;\n",
       "    }\n",
       "\n",
       "    .dataframe thead th {\n",
       "        text-align: right;\n",
       "    }\n",
       "</style>\n",
       "<table border=\"1\" class=\"dataframe\">\n",
       "  <thead>\n",
       "    <tr style=\"text-align: right;\">\n",
       "      <th></th>\n",
       "      <th></th>\n",
       "      <th>place</th>\n",
       "    </tr>\n",
       "  </thead>\n",
       "  <tbody>\n",
       "    <tr>\n",
       "      <th>trn</th>\n",
       "      <th>scales</th>\n",
       "      <td>0.25$\\pm$0.03</td>\n",
       "    </tr>\n",
       "    <tr>\n",
       "      <th>unt</th>\n",
       "      <th>scales</th>\n",
       "      <td>0.16$\\pm$0.03</td>\n",
       "    </tr>\n",
       "  </tbody>\n",
       "</table>\n",
       "</div>"
      ],
      "text/plain": [
       "                    place\n",
       "trn scales  0.25$\\pm$0.03\n",
       "unt scales  0.16$\\pm$0.03"
      ]
     },
     "execution_count": 11,
     "metadata": {},
     "output_type": "execute_result"
    }
   ],
   "source": [
    "mra.get_confidece_intervals().loc[(slice(None), 'scales'), ['place']]"
   ]
  },
  {
   "cell_type": "code",
   "execution_count": 12,
   "id": "99fd58a1-e8b8-4c6d-bd5e-ad4287cec831",
   "metadata": {
    "tags": []
   },
   "outputs": [
    {
     "data": {
      "text/plain": [
       "RanksumsResult(statistic=3.3968311024337874, pvalue=0.0006817102933708383)"
      ]
     },
     "execution_count": 12,
     "metadata": {},
     "output_type": "execute_result"
    }
   ],
   "source": [
    "ranksums(trn, unt)"
   ]
  },
  {
   "cell_type": "markdown",
   "id": "6161c4b3-38a9-48c6-8f48-0c43e69f9fd3",
   "metadata": {
    "jp-MarkdownHeadingCollapsed": true,
    "tags": []
   },
   "source": [
    "### Hidden Size"
   ]
  },
  {
   "cell_type": "markdown",
   "id": "d38af884-ea86-4fa7-b0a7-a7e6f04bfca3",
   "metadata": {
    "tags": []
   },
   "source": [
    "#### Proportions"
   ]
  },
  {
   "cell_type": "code",
   "execution_count": 13,
   "id": "58772aff-fa96-4887-ae0e-7eb1cdb0d01a",
   "metadata": {
    "tags": []
   },
   "outputs": [],
   "source": [
    "mra = MultiRunAnalysis(data_path, 'hidden500')"
   ]
  },
  {
   "cell_type": "code",
   "execution_count": 14,
   "id": "ea60c44f-dc50-42a3-b3fb-31dfa16f2e55",
   "metadata": {
    "tags": []
   },
   "outputs": [],
   "source": [
    "df = mra.df.loc[(slice(None), slice(None), 'proportion'), :]\n",
    "trn_ac = df.active.loc[(slice(None), 1, slice(None))]\n",
    "unt_ac = df[df.index.get_level_values(1) != 1].active\n",
    "trn_pc = df.place.loc[(slice(None), 1, slice(None))]\n",
    "unt_pc = df[df.index.get_level_values(1) != 1].place"
   ]
  },
  {
   "cell_type": "code",
   "execution_count": 15,
   "id": "16fa7ab0-c8bb-408b-ac21-ea509a5632e1",
   "metadata": {
    "tags": []
   },
   "outputs": [
    {
     "data": {
      "text/plain": [
       "KruskalResult(statistic=6.4691314031180465, pvalue=0.03937730272825077)"
      ]
     },
     "execution_count": 15,
     "metadata": {},
     "output_type": "execute_result"
    }
   ],
   "source": [
    "kruskal(trn_ac, unt_ac, trn_pc)"
   ]
  },
  {
   "cell_type": "code",
   "execution_count": 16,
   "id": "137c12fb-99f2-48bb-a13f-04a89f351ace",
   "metadata": {
    "tags": []
   },
   "outputs": [
    {
     "data": {
      "text/plain": [
       "WilcoxonResult(statistic=210.0, pvalue=0.9999557754248939)"
      ]
     },
     "execution_count": 16,
     "metadata": {},
     "output_type": "execute_result"
    }
   ],
   "source": [
    "wilcoxon(unt_pc, unt_ac, alternative='less')"
   ]
  },
  {
   "cell_type": "markdown",
   "id": "f36f5ac3-bc70-4551-a88a-03f1f034a2d8",
   "metadata": {},
   "source": [
    "#### Coverage"
   ]
  },
  {
   "cell_type": "code",
   "execution_count": 17,
   "id": "1acf1910-ad0e-49b2-b49e-d513ac6e7555",
   "metadata": {
    "tags": []
   },
   "outputs": [],
   "source": [
    "hiddens = [f'hidden{n}' for n in [20, 50, 200, 500]]\n",
    "hiddens.insert(2, 'baseline')\n",
    "\n",
    "ma = MultiAnalysis(data_path, hiddens)"
   ]
  },
  {
   "cell_type": "code",
   "execution_count": 18,
   "id": "875b80ca-3eec-4892-91d2-9433af3ced56",
   "metadata": {
    "tags": []
   },
   "outputs": [
    {
     "data": {
      "text/plain": [
       "{'coverage': KruskalResult(statistic=21.559069767441873, pvalue=0.0002452650268510063),\n",
       " 'scales': KruskalResult(statistic=23.07692307692308, pvalue=0.00012222331995353944),\n",
       " 'sizes': KruskalResult(statistic=21.74030769230771, pvalue=0.00022573999700744197)}"
      ]
     },
     "execution_count": 18,
     "metadata": {},
     "output_type": "execute_result"
    }
   ],
   "source": [
    "var = ['coverage', 'scales', 'sizes']\n",
    "units = ['place']\n",
    "how = 'trn'\n",
    "\n",
    "{v: kruskal(*data) for v, data in ma.get_data_for_statistical_test(var, units, how).items()}"
   ]
  },
  {
   "cell_type": "code",
   "execution_count": 19,
   "id": "663c5f99-4aa2-4a15-8189-5fd3129585fb",
   "metadata": {
    "tags": []
   },
   "outputs": [
    {
     "data": {
      "text/plain": [
       "{'coverage': KruskalResult(statistic=93.9118811881188, pvalue=1.9414960931685915e-19),\n",
       " 'scales': KruskalResult(statistic=91.98487128712873, pvalue=4.986168446002239e-19),\n",
       " 'sizes': KruskalResult(statistic=61.22803960396044, pvalue=1.6009576809359902e-12)}"
      ]
     },
     "execution_count": 19,
     "metadata": {},
     "output_type": "execute_result"
    }
   ],
   "source": [
    "var = ['coverage', 'scales', 'sizes']\n",
    "units = ['place']\n",
    "how = 'unt'\n",
    "\n",
    "{v: kruskal(*data) for v, data in ma.get_data_for_statistical_test(var, units, how).items()}"
   ]
  },
  {
   "cell_type": "code",
   "execution_count": 20,
   "id": "93fdac6c-8ef9-46a9-92d1-3981f671c5de",
   "metadata": {
    "tags": []
   },
   "outputs": [
    {
     "data": {
      "image/png": "[encoded data removed]",
      "text/plain": [
       "<Figure size 640x480 with 1 Axes>"
      ]
     },
     "metadata": {},
     "output_type": "display_data"
    }
   ],
   "source": [
    "df = ma.coverage_stats().loc[:, 'place']\n",
    "ax = df.loc[('trn', 'sizes')].T.plot()\n",
    "ax.set_prop_cycle(None)\n",
    "df.loc[('unt', 'sizes')].T.plot(ax=ax, linestyle='--')\n",
    "plt.show()"
   ]
  },
  {
   "cell_type": "markdown",
   "id": "80ae209c-70eb-4f38-bc92-2672d41233d5",
   "metadata": {
    "tags": []
   },
   "source": [
    "#### Remapping"
   ]
  },
  {
   "cell_type": "code",
   "execution_count": 21,
   "id": "63bb24c4-3b4d-49bb-abd3-6b89291ba370",
   "metadata": {
    "tags": []
   },
   "outputs": [],
   "source": [
    "hiddens = [f'hidden{n}' for n in [20, 50, 200, 500]]\n",
    "hiddens.insert(2, 'baseline')\n",
    "\n",
    "ma = MultiAnalysis(data_path, hiddens)"
   ]
  },
  {
   "cell_type": "code",
   "execution_count": 22,
   "id": "7d1aa54a-5e6a-4539-ac62-67eb4b906919",
   "metadata": {
    "tags": []
   },
   "outputs": [
    {
     "data": {
      "text/plain": [
       "{'remapping': KruskalResult(statistic=9.376355204397136, pvalue=0.05235081957161648),\n",
       " 'turnover': KruskalResult(statistic=15.362639529022067, pvalue=0.004005262326750263)}"
      ]
     },
     "execution_count": 22,
     "metadata": {},
     "output_type": "execute_result"
    }
   ],
   "source": [
    "var = ['remapping', 'turnover']\n",
    "units = ['place']\n",
    "how = 'unt'\n",
    "\n",
    "{v: kruskal(*data) for v, data in ma.get_data_for_statistical_test(var, units, how).items()}"
   ]
  },
  {
   "cell_type": "code",
   "execution_count": 23,
   "id": "04f1fcac-1b9e-4034-9273-a967f112c69d",
   "metadata": {
    "tags": []
   },
   "outputs": [
    {
     "data": {
      "text/plain": [
       "{'turnover': KruskalResult(statistic=83.90504007166605, pvalue=2.5896477574670777e-17)}"
      ]
     },
     "execution_count": 23,
     "metadata": {},
     "output_type": "execute_result"
    }
   ],
   "source": [
    "var = ['turnover']\n",
    "units = ['active']\n",
    "how = 'unt'\n",
    "\n",
    "{v: kruskal(*data) for v, data in ma.get_data_for_statistical_test(var, units, how).items()}"
   ]
  },
  {
   "cell_type": "markdown",
   "id": "b810e801-a9a4-4006-aadc-3b47310565ea",
   "metadata": {
    "jp-MarkdownHeadingCollapsed": true,
    "tags": []
   },
   "source": [
    "### L1 Regularization"
   ]
  },
  {
   "cell_type": "code",
   "execution_count": 24,
   "id": "1a8eeded-4423-4763-a1a4-a255646b3d36",
   "metadata": {
    "tags": []
   },
   "outputs": [],
   "source": [
    "l1s = [f'l1_{n}' for n in ['1', '05', '01', '001', '0001', '00001', '000001', '0']]\n",
    "l1s.insert(4, 'baseline')\n",
    "\n",
    "ma = MultiAnalysis(data_path, l1s)"
   ]
  },
  {
   "cell_type": "code",
   "execution_count": 25,
   "id": "869eb6bc-2aff-4220-b170-0f47b4a91a5c",
   "metadata": {
    "tags": []
   },
   "outputs": [
    {
     "data": {
      "text/plain": [
       "{'proportion': KruskalResult(statistic=2.226632144019082, pvalue=0.6941565551813774)}"
      ]
     },
     "execution_count": 25,
     "metadata": {},
     "output_type": "execute_result"
    }
   ],
   "source": [
    "var = ['proportion']\n",
    "units = ['place']\n",
    "how = 'unt'\n",
    "\n",
    "data = ma.get_data_for_statistical_test(var, units, how, l1s[4:])\n",
    "\n",
    "{v: kruskal(*data) for v, data in data.items()}"
   ]
  },
  {
   "cell_type": "code",
   "execution_count": 26,
   "id": "bf612cd5-6a72-43dc-967a-e54d4bdf1c59",
   "metadata": {
    "tags": []
   },
   "outputs": [
    {
     "data": {
      "text/plain": [
       "{'proportion': KruskalResult(statistic=8.455413338959048, pvalue=0.07625029589673091)}"
      ]
     },
     "execution_count": 26,
     "metadata": {},
     "output_type": "execute_result"
    }
   ],
   "source": [
    "units = ['active']\n",
    "\n",
    "data = ma.get_data_for_statistical_test(var, units, how, l1s[4:])\n",
    "\n",
    "{v: kruskal(*data) for v, data in data.items()}"
   ]
  },
  {
   "cell_type": "code",
   "execution_count": 27,
   "id": "21945e53-dd9f-48e7-a9f2-9c908920ec42",
   "metadata": {
    "tags": []
   },
   "outputs": [
    {
     "data": {
      "text/plain": [
       "{'remapping': KruskalResult(statistic=5.573600137409806, pvalue=0.23333532071595012),\n",
       " 'turnover': KruskalResult(statistic=4.167091988308649, pvalue=0.3838644580242972)}"
      ]
     },
     "execution_count": 27,
     "metadata": {},
     "output_type": "execute_result"
    }
   ],
   "source": [
    "var = ['remapping', 'turnover']\n",
    "units = ['place']\n",
    "how = 'unt'\n",
    "\n",
    "data = ma.get_data_for_statistical_test(var, units, how, l1s[4:])\n",
    "\n",
    "{v: kruskal(*data) for v, data in data.items()}"
   ]
  },
  {
   "cell_type": "code",
   "execution_count": 28,
   "id": "4c154037-4809-4697-8adc-739ee4a5d10b",
   "metadata": {
    "tags": []
   },
   "outputs": [
    {
     "data": {
      "text/plain": [
       "{'turnover': KruskalResult(statistic=5.474733932398125, pvalue=0.24195933057011237)}"
      ]
     },
     "execution_count": 28,
     "metadata": {},
     "output_type": "execute_result"
    }
   ],
   "source": [
    "var = ['turnover']\n",
    "units = ['active']\n",
    "\n",
    "data = ma.get_data_for_statistical_test(var, units, how, l1s[4:])\n",
    "\n",
    "{v: kruskal(*data) for v, data in data.items()}"
   ]
  },
  {
   "cell_type": "code",
   "execution_count": 29,
   "id": "8ff0b44b-ece4-4ba1-95da-d0f52689c3f5",
   "metadata": {
    "tags": []
   },
   "outputs": [],
   "source": [
    "subset = [f'l1_{n}' for n in ['1', '05', '01', '001', '0001', '00001', '000001', '0']]\n",
    "subset.insert(4, 'baseline')"
   ]
  },
  {
   "cell_type": "code",
   "execution_count": 30,
   "id": "49abee48-7d34-4b5a-8e54-c556bc2ed4f7",
   "metadata": {
    "tags": []
   },
   "outputs": [
    {
     "data": {
      "text/plain": [
       "{'proportion': KruskalResult(statistic=101.53237371744069, pvalue=2.0749356720936873e-18)}"
      ]
     },
     "execution_count": 30,
     "metadata": {},
     "output_type": "execute_result"
    }
   ],
   "source": [
    "var = ['proportion']\n",
    "units = ['place']\n",
    "how = 'unt'\n",
    "\n",
    "data = ma.get_data_for_statistical_test(var, units, how)\n",
    "\n",
    "{v: kruskal(*data) for v, data in data.items()}"
   ]
  },
  {
   "cell_type": "code",
   "execution_count": 31,
   "id": "c9274657-fcca-4b87-a55e-be17a28c3b30",
   "metadata": {
    "tags": []
   },
   "outputs": [
    {
     "data": {
      "text/plain": [
       "{'proportion': KruskalResult(statistic=67.26295985413522, pvalue=1.7194976601282186e-11)}"
      ]
     },
     "execution_count": 31,
     "metadata": {},
     "output_type": "execute_result"
    }
   ],
   "source": [
    "units = ['active']\n",
    "\n",
    "data = ma.get_data_for_statistical_test(var, units, how)\n",
    "\n",
    "{v: kruskal(*data) for v, data in data.items()}"
   ]
  },
  {
   "cell_type": "code",
   "execution_count": 32,
   "id": "877510a7-360f-4f84-92ba-15c8ee229295",
   "metadata": {
    "tags": []
   },
   "outputs": [
    {
     "data": {
      "text/plain": [
       "{'remapping': KruskalResult(statistic=9.875187172112131, pvalue=0.2738957015962149),\n",
       " 'turnover': KruskalResult(statistic=10.727507361883621, pvalue=0.21762210340311702)}"
      ]
     },
     "execution_count": 32,
     "metadata": {},
     "output_type": "execute_result"
    }
   ],
   "source": [
    "var = ['remapping', 'turnover']\n",
    "units = ['place']\n",
    "how = 'unt'\n",
    "\n",
    "data = ma.get_data_for_statistical_test(var, units, how, subset)\n",
    "\n",
    "{v: kruskal(*data) for v, data in data.items()}"
   ]
  },
  {
   "cell_type": "code",
   "execution_count": 33,
   "id": "f65527f7-f522-495c-b483-da49fc1e2f32",
   "metadata": {
    "tags": []
   },
   "outputs": [
    {
     "data": {
      "text/plain": [
       "{'turnover': KruskalResult(statistic=125.51278804510552, pvalue=2.4042969879171926e-23)}"
      ]
     },
     "execution_count": 33,
     "metadata": {},
     "output_type": "execute_result"
    }
   ],
   "source": [
    "var = ['turnover']\n",
    "units = ['active']\n",
    "\n",
    "data = ma.get_data_for_statistical_test(var, units, how, subset)\n",
    "\n",
    "{v: kruskal(*data) for v, data in data.items()}"
   ]
  },
  {
   "cell_type": "markdown",
   "id": "afbd07ca-1c15-457b-bfce-61b11a4f7b4f",
   "metadata": {},
   "source": [
    "#### Coverage"
   ]
  },
  {
   "cell_type": "code",
   "execution_count": 34,
   "id": "d877d0a6-6c80-4b5d-aefc-2ab6c09a5de4",
   "metadata": {
    "tags": []
   },
   "outputs": [
    {
     "data": {
      "text/plain": [
       "{'coverage': KruskalResult(statistic=23.190513209038798, pvalue=0.003128069484182739),\n",
       " 'sizes': KruskalResult(statistic=37.79246376811594, pvalue=8.222811174744198e-06),\n",
       " 'scales': KruskalResult(statistic=32.13217391304349, pvalue=8.819849012361027e-05)}"
      ]
     },
     "execution_count": 34,
     "metadata": {},
     "output_type": "execute_result"
    }
   ],
   "source": [
    "var = ['coverage', 'sizes', 'scales']\n",
    "units = ['place']\n",
    "how = 'trn'\n",
    "\n",
    "data = ma.get_data_for_statistical_test(var, units, how)\n",
    "\n",
    "{v: kruskal(*data) for v, data in data.items()}"
   ]
  },
  {
   "cell_type": "code",
   "execution_count": 35,
   "id": "f5b12307-8933-4246-a823-0de9c494e1d3",
   "metadata": {
    "tags": []
   },
   "outputs": [
    {
     "data": {
      "text/plain": [
       "{'coverage': KruskalResult(statistic=97.5907182320442, pvalue=1.3255383699227873e-17),\n",
       " 'sizes': KruskalResult(statistic=88.38696132596692, pvalue=9.879572749626937e-16),\n",
       " 'scales': KruskalResult(statistic=134.42585635359114, pvalue=3.4160770862330103e-25)}"
      ]
     },
     "execution_count": 35,
     "metadata": {},
     "output_type": "execute_result"
    }
   ],
   "source": [
    "var = ['coverage', 'sizes', 'scales']\n",
    "units = ['place']\n",
    "how = 'unt'\n",
    "\n",
    "data = ma.get_data_for_statistical_test(var, units, how)\n",
    "\n",
    "{v: kruskal(*data) for v, data in data.items()}"
   ]
  },
  {
   "cell_type": "code",
   "execution_count": 36,
   "id": "2e2bd31d-c726-4463-8ba5-35c76d87a53b",
   "metadata": {
    "tags": []
   },
   "outputs": [
    {
     "data": {
      "image/png": "[encoded data removed]",
      "text/plain": [
       "<Figure size 640x480 with 1 Axes>"
      ]
     },
     "metadata": {},
     "output_type": "display_data"
    }
   ],
   "source": [
    "df = ma.coverage_stats().loc[:, 'place']\n",
    "ax = df.loc[('trn', 'sizes')].T.plot()\n",
    "ax.set_prop_cycle(None)\n",
    "df.loc[('unt', 'sizes')].T.plot(ax=ax, linestyle='--')\n",
    "plt.show()"
   ]
  },
  {
   "cell_type": "markdown",
   "id": "e0665081-91b4-4441-8b48-87dcf2c5c02a",
   "metadata": {
    "jp-MarkdownHeadingCollapsed": true,
    "tags": []
   },
   "source": [
    "### Hidden Unit Regularization"
   ]
  },
  {
   "cell_type": "code",
   "execution_count": 37,
   "id": "96aa021e-df09-4488-bb80-ba2021a4befa",
   "metadata": {
    "tags": []
   },
   "outputs": [],
   "source": [
    "hps = [f'hp_{n}' for n in ['05', '01', '005', '0005', '0001', '0']]\n",
    "hps.insert(3, 'baseline')\n",
    "\n",
    "ma = MultiAnalysis(data_path, hps)"
   ]
  },
  {
   "cell_type": "code",
   "execution_count": 38,
   "id": "8b46bade-5d10-401f-9877-835448e0b135",
   "metadata": {
    "tags": []
   },
   "outputs": [
    {
     "data": {
      "text/plain": [
       "{'proportion': KruskalResult(statistic=28.624169014084526, pvalue=7.165189693969824e-05)}"
      ]
     },
     "execution_count": 38,
     "metadata": {},
     "output_type": "execute_result"
    }
   ],
   "source": [
    "var = ['proportion']\n",
    "units = ['place']\n",
    "how = 'trn'\n",
    "\n",
    "data = ma.get_data_for_statistical_test(var, units, how)\n",
    "\n",
    "{v: kruskal(*data) for v, data in data.items()}"
   ]
  },
  {
   "cell_type": "code",
   "execution_count": 39,
   "id": "28ce2e0a-e11d-4530-808b-3c12d0a36ca2",
   "metadata": {
    "tags": []
   },
   "outputs": [
    {
     "data": {
      "text/plain": [
       "{'proportion': KruskalResult(statistic=32.48516746411486, pvalue=1.316947664174e-05)}"
      ]
     },
     "execution_count": 39,
     "metadata": {},
     "output_type": "execute_result"
    }
   ],
   "source": [
    "units = ['active']\n",
    "\n",
    "data = ma.get_data_for_statistical_test(var, units, how)\n",
    "\n",
    "{v: kruskal(*data) for v, data in data.items()}"
   ]
  },
  {
   "cell_type": "code",
   "execution_count": 40,
   "id": "78b60e33-22ae-4a4e-aa5e-6bc19be62278",
   "metadata": {
    "tags": []
   },
   "outputs": [
    {
     "data": {
      "text/plain": [
       "{'proportion': KruskalResult(statistic=127.38608521999947, pvalue=4.5630158194690255e-25)}"
      ]
     },
     "execution_count": 40,
     "metadata": {},
     "output_type": "execute_result"
    }
   ],
   "source": [
    "how='unt'\n",
    "\n",
    "data = ma.get_data_for_statistical_test(var, units, how)\n",
    "\n",
    "{v: kruskal(*data) for v, data in data.items()}"
   ]
  },
  {
   "cell_type": "code",
   "execution_count": 41,
   "id": "1e993cc8-932a-4dc8-951c-786ce8cb5436",
   "metadata": {
    "tags": []
   },
   "outputs": [
    {
     "data": {
      "text/plain": [
       "{'remapping': KruskalResult(statistic=4.981325593803507, pvalue=0.4181634932525504),\n",
       " 'turnover': KruskalResult(statistic=13.637970307345046, pvalue=0.018080215289264425)}"
      ]
     },
     "execution_count": 41,
     "metadata": {},
     "output_type": "execute_result"
    }
   ],
   "source": [
    "var = ['remapping', 'turnover']\n",
    "units = ['place']\n",
    "how = 'unt'\n",
    "\n",
    "data = ma.get_data_for_statistical_test(var, units, how, hps[:-1])\n",
    "\n",
    "{v: kruskal(*data) for v, data in data.items()}"
   ]
  },
  {
   "cell_type": "code",
   "execution_count": 42,
   "id": "1ca3ba4e-3a3a-4f2c-941c-a79cfeb6ef7d",
   "metadata": {
    "tags": []
   },
   "outputs": [
    {
     "data": {
      "text/plain": [
       "{'turnover': KruskalResult(statistic=28.826732700005397, pvalue=8.477192193688873e-06)}"
      ]
     },
     "execution_count": 42,
     "metadata": {},
     "output_type": "execute_result"
    }
   ],
   "source": [
    "var = ['turnover']\n",
    "units = ['active']\n",
    "\n",
    "data = ma.get_data_for_statistical_test(var, units, how, hps[:-2])\n",
    "data['turnover'][1] = np.nan_to_num(data['turnover'][1], 0)\n",
    "\n",
    "{v: kruskal(*data) for v, data in data.items()}"
   ]
  },
  {
   "cell_type": "code",
   "execution_count": 43,
   "id": "593cdf21-3345-4b43-94af-33f2504bb7b9",
   "metadata": {
    "tags": []
   },
   "outputs": [
    {
     "data": {
      "text/plain": [
       "{'proportion': KruskalResult(statistic=21.817684021543997, pvalue=0.0005670701745801759)}"
      ]
     },
     "execution_count": 43,
     "metadata": {},
     "output_type": "execute_result"
    }
   ],
   "source": [
    "var = ['proportion']\n",
    "units = ['place']\n",
    "how = 'trn'\n",
    "\n",
    "data = ma.get_data_for_statistical_test(var, units, how, hps[:-1])\n",
    "\n",
    "{v: kruskal(*data) for v, data in data.items()}"
   ]
  },
  {
   "cell_type": "code",
   "execution_count": 44,
   "id": "a7a4fa71-40d9-43f8-bfaa-10a072e7fef0",
   "metadata": {
    "tags": []
   },
   "outputs": [
    {
     "data": {
      "text/plain": [
       "{'proportion': KruskalResult(statistic=60.82529101770472, pvalue=1.9456306032471456e-12)}"
      ]
     },
     "execution_count": 44,
     "metadata": {},
     "output_type": "execute_result"
    }
   ],
   "source": [
    "var = ['proportion']\n",
    "units = ['place']\n",
    "how = 'unt'\n",
    "\n",
    "data = ma.get_data_for_statistical_test(var, units, how, hps[:-2])\n",
    "\n",
    "{v: kruskal(*data) for v, data in data.items()}"
   ]
  },
  {
   "cell_type": "markdown",
   "id": "f872f731-7f1a-4f36-abcf-7dd5221ff31a",
   "metadata": {},
   "source": [
    "#### Coverage"
   ]
  },
  {
   "cell_type": "code",
   "execution_count": 45,
   "id": "2d6b7fc6-66db-4dc9-af34-b6340b2761b7",
   "metadata": {
    "tags": []
   },
   "outputs": [
    {
     "data": {
      "text/plain": [
       "{'coverage': KruskalResult(statistic=7.579530588687953, pvalue=0.10825303416929885),\n",
       " 'sizes': KruskalResult(statistic=14.754461538461541, pvalue=0.005238535175017048),\n",
       " 'scales': KruskalResult(statistic=20.37415384615386, pvalue=0.0004212358543149809)}"
      ]
     },
     "execution_count": 45,
     "metadata": {},
     "output_type": "execute_result"
    }
   ],
   "source": [
    "var = ['coverage', 'sizes', 'scales']\n",
    "units = ['place']\n",
    "how = 'trn'\n",
    "\n",
    "data = ma.get_data_for_statistical_test(var, units, how, hps[:-2])\n",
    "\n",
    "{v: kruskal(*data) for v, data in data.items()}"
   ]
  },
  {
   "cell_type": "code",
   "execution_count": 46,
   "id": "7d77abc0-a9c3-4ad4-a6c8-f88248fd25fc",
   "metadata": {
    "tags": []
   },
   "outputs": [
    {
     "data": {
      "text/plain": [
       "{'coverage': KruskalResult(statistic=30.345950413223136, pvalue=1.2607234250744832e-05),\n",
       " 'sizes': KruskalResult(statistic=75.08553719008262, pvalue=8.928317645216199e-15),\n",
       " 'scales': KruskalResult(statistic=93.54975206611567, pvalue=1.2054895984487303e-18)}"
      ]
     },
     "execution_count": 46,
     "metadata": {},
     "output_type": "execute_result"
    }
   ],
   "source": [
    "var = ['coverage', 'sizes', 'scales']\n",
    "units = ['place']\n",
    "how = 'unt'\n",
    "\n",
    "data = ma.get_data_for_statistical_test(var, units, how, hps[:-1])\n",
    "\n",
    "{v: kruskal(*data) for v, data in data.items()}"
   ]
  },
  {
   "cell_type": "code",
   "execution_count": 47,
   "id": "5fe84e90-30e5-4fcf-a858-4e858ce05cc9",
   "metadata": {
    "tags": []
   },
   "outputs": [
    {
     "data": {
      "image/png": "[encoded data removed]",
      "text/plain": [
       "<Figure size 640x480 with 1 Axes>"
      ]
     },
     "metadata": {},
     "output_type": "display_data"
    }
   ],
   "source": [
    "df = ma.coverage_stats().loc[:, 'place'][hps[:-1]]\n",
    "ax = df.loc[('trn', 'sizes')].T.plot()\n",
    "ax.set_prop_cycle(None)\n",
    "df.loc[('unt', 'sizes')].T.plot(ax=ax, linestyle='--')\n",
    "plt.show()"
   ]
  },
  {
   "cell_type": "markdown",
   "id": "6101e4d1-74f1-4081-9200-df0cf9d7437f",
   "metadata": {
    "jp-MarkdownHeadingCollapsed": true,
    "tags": []
   },
   "source": [
    "### Number of Modules"
   ]
  },
  {
   "cell_type": "code",
   "execution_count": 48,
   "id": "32360c00-73df-4169-9475-e0fb52f9c4ed",
   "metadata": {
    "tags": []
   },
   "outputs": [],
   "source": [
    "modules = ['1modules1024cells_homo', '2modules484cells', '3modules324cells', '5modules196cells', 'baseline']\n",
    "\n",
    "ma = MultiAnalysis(data_path, modules)"
   ]
  },
  {
   "cell_type": "code",
   "execution_count": 49,
   "id": "0bf76db9-1d1c-4c1d-bed9-ec952832a557",
   "metadata": {
    "tags": []
   },
   "outputs": [
    {
     "data": {
      "text/plain": [
       "{'proportion': KruskalResult(statistic=0.24506828528072572, pvalue=0.9700053156461638)}"
      ]
     },
     "execution_count": 49,
     "metadata": {},
     "output_type": "execute_result"
    }
   ],
   "source": [
    "var = ['proportion']\n",
    "units = ['place']\n",
    "how = 'trn'\n",
    "\n",
    "data = ma.get_data_for_statistical_test(var, units, how, modules[1:])\n",
    "\n",
    "{v: kruskal(*data) for v, data in data.items()}"
   ]
  },
  {
   "cell_type": "code",
   "execution_count": 50,
   "id": "b5e3c83e-454b-47e8-8b38-83ead7089876",
   "metadata": {
    "tags": []
   },
   "outputs": [
    {
     "data": {
      "text/plain": [
       "{'proportion': KruskalResult(statistic=4.6467075038284955, pvalue=0.19957170315491934)}"
      ]
     },
     "execution_count": 50,
     "metadata": {},
     "output_type": "execute_result"
    }
   ],
   "source": [
    "units = ['active']\n",
    "\n",
    "data = ma.get_data_for_statistical_test(var, units, how, modules[1:])\n",
    "\n",
    "{v: kruskal(*data) for v, data in data.items()}"
   ]
  },
  {
   "cell_type": "code",
   "execution_count": 51,
   "id": "7abb7317-b5c1-4e48-9448-773a69bca28b",
   "metadata": {
    "tags": []
   },
   "outputs": [
    {
     "data": {
      "text/plain": [
       "{'proportion': KruskalResult(statistic=38.357923073306004, pvalue=2.3738855504029786e-08)}"
      ]
     },
     "execution_count": 51,
     "metadata": {},
     "output_type": "execute_result"
    }
   ],
   "source": [
    "units = ['place']\n",
    "how = 'unt'\n",
    "\n",
    "data = ma.get_data_for_statistical_test(var, units, how, modules[1:])\n",
    "\n",
    "{v: kruskal(*data) for v, data in data.items()}"
   ]
  },
  {
   "cell_type": "code",
   "execution_count": 52,
   "id": "a65d1b20-ff05-4a54-9cbf-651d89336cce",
   "metadata": {
    "tags": []
   },
   "outputs": [
    {
     "data": {
      "text/plain": [
       "{'proportion': KruskalResult(statistic=11.541070798334196, pvalue=0.009132597423752711)}"
      ]
     },
     "execution_count": 52,
     "metadata": {},
     "output_type": "execute_result"
    }
   ],
   "source": [
    "units = ['active']\n",
    "\n",
    "data = ma.get_data_for_statistical_test(var, units, how, modules[1:])\n",
    "\n",
    "{v: kruskal(*data) for v, data in data.items()}"
   ]
  },
  {
   "cell_type": "code",
   "execution_count": 53,
   "id": "2e6d76ea-c562-4443-8642-c8a92ab49c6c",
   "metadata": {
    "tags": []
   },
   "outputs": [
    {
     "data": {
      "text/plain": [
       "{'remapping': KruskalResult(statistic=0.09336479733480896, pvalue=0.9543904651440404),\n",
       " 'turnover': KruskalResult(statistic=0.7857319547513827, pvalue=0.675119222773094)}"
      ]
     },
     "execution_count": 53,
     "metadata": {},
     "output_type": "execute_result"
    }
   ],
   "source": [
    "var = ['remapping', 'turnover']\n",
    "units = ['place']\n",
    "how = 'unt'\n",
    "\n",
    "data = ma.get_data_for_statistical_test(var, units, how, modules[2:])\n",
    "# data['remapping'][0] = np.nan_to_num(data['remapping'][0])\n",
    "\n",
    "{v: kruskal(*data) for v, data in data.items()}"
   ]
  },
  {
   "cell_type": "code",
   "execution_count": 54,
   "id": "7034cbc0-7f04-4543-9df8-202be2b9e02e",
   "metadata": {
    "tags": []
   },
   "outputs": [
    {
     "data": {
      "text/plain": [
       "{'turnover': KruskalResult(statistic=24.52000093796531, pvalue=1.94530068296614e-05)}"
      ]
     },
     "execution_count": 54,
     "metadata": {},
     "output_type": "execute_result"
    }
   ],
   "source": [
    "var = ['turnover']\n",
    "units = ['active']\n",
    "\n",
    "data = ma.get_data_for_statistical_test(var, units, how, modules[1:])\n",
    "\n",
    "{v: kruskal(*data) for v, data in data.items()}"
   ]
  },
  {
   "cell_type": "code",
   "execution_count": 55,
   "id": "40292f5f-d47d-4445-8feb-3bfbf1c52ac4",
   "metadata": {
    "tags": []
   },
   "outputs": [
    {
     "data": {
      "text/plain": [
       "{'coverage': KruskalResult(statistic=7.594268476621416, pvalue=0.05518512783009921),\n",
       " 'sizes': KruskalResult(statistic=10.474285714285728, pvalue=0.014936350378810324),\n",
       " 'scales': KruskalResult(statistic=0.9199999999999946, pvalue=0.8205988623005116)}"
      ]
     },
     "execution_count": 55,
     "metadata": {},
     "output_type": "execute_result"
    }
   ],
   "source": [
    "var = ['coverage', 'sizes', 'scales']\n",
    "units = ['place']\n",
    "how = 'trn'\n",
    "\n",
    "data = ma.get_data_for_statistical_test(var, units, how, modules[1:])\n",
    "\n",
    "{v: kruskal(*data) for v, data in data.items()}"
   ]
  },
  {
   "cell_type": "code",
   "execution_count": 56,
   "id": "91c6a920-2a8a-4309-ab02-602fef81900e",
   "metadata": {
    "tags": []
   },
   "outputs": [
    {
     "data": {
      "text/plain": [
       "{'coverage': KruskalResult(statistic=14.685370370370379, pvalue=0.0021062520392731363),\n",
       " 'sizes': KruskalResult(statistic=3.4172222222222217, pvalue=0.33165787547063497),\n",
       " 'scales': KruskalResult(statistic=4.28129629629629, pvalue=0.2326475770848244)}"
      ]
     },
     "execution_count": 56,
     "metadata": {},
     "output_type": "execute_result"
    }
   ],
   "source": [
    "var = ['coverage', 'sizes', 'scales']\n",
    "units = ['place']\n",
    "how = 'unt'\n",
    "\n",
    "data = ma.get_data_for_statistical_test(var, units, how, modules[1:])\n",
    "\n",
    "{v: kruskal(*data) for v, data in data.items()}"
   ]
  },
  {
   "cell_type": "code",
   "execution_count": 57,
   "id": "4336221c-561a-4629-bbe4-80a1c89be823",
   "metadata": {
    "tags": []
   },
   "outputs": [
    {
     "data": {
      "image/png": "[encoded data removed]",
      "text/plain": [
       "<Figure size 640x480 with 1 Axes>"
      ]
     },
     "metadata": {},
     "output_type": "display_data"
    }
   ],
   "source": [
    "df = ma.coverage_stats().loc[:, 'place'][modules[1:]]\n",
    "ax = df.loc[('trn', 'sizes')].T.plot()\n",
    "ax.set_prop_cycle(None)\n",
    "df.loc[('unt', 'sizes')].T.plot(ax=ax, linestyle='--')\n",
    "plt.show()"
   ]
  },
  {
   "cell_type": "markdown",
   "id": "bf9a2ed2-13ea-423f-a12d-8cea54abe361",
   "metadata": {
    "jp-MarkdownHeadingCollapsed": true,
    "tags": []
   },
   "source": [
    "### Number of Cells"
   ]
  },
  {
   "cell_type": "code",
   "execution_count": 58,
   "id": "0c29957a-5dce-4a62-8ceb-875bdd339fae",
   "metadata": {
    "tags": []
   },
   "outputs": [],
   "source": [
    "cells = ['25cells', '49cells', 'baseline', '169cells']\n",
    "\n",
    "ma = MultiAnalysis(data_path, cells)"
   ]
  },
  {
   "cell_type": "code",
   "execution_count": 59,
   "id": "65dcfee1-2dd9-4c2c-a087-a1022455f0b3",
   "metadata": {
    "tags": []
   },
   "outputs": [
    {
     "data": {
      "text/plain": [
       "{'proportion': KruskalResult(statistic=5.1917933130699145, pvalue=0.15827988602903578)}"
      ]
     },
     "execution_count": 59,
     "metadata": {},
     "output_type": "execute_result"
    }
   ],
   "source": [
    "var = ['proportion']\n",
    "units = ['place']\n",
    "how = 'trn'\n",
    "\n",
    "data = ma.get_data_for_statistical_test(var, units, how)\n",
    "\n",
    "{v: kruskal(*data) for v, data in data.items()}"
   ]
  },
  {
   "cell_type": "code",
   "execution_count": 60,
   "id": "8fb43736-0a90-4d89-a9f0-aa06a0dc9961",
   "metadata": {
    "tags": []
   },
   "outputs": [
    {
     "data": {
      "text/plain": [
       "{'proportion': KruskalResult(statistic=15.564226415094344, pvalue=0.0013927803706398462)}"
      ]
     },
     "execution_count": 60,
     "metadata": {},
     "output_type": "execute_result"
    }
   ],
   "source": [
    "units = ['active']\n",
    "\n",
    "data = ma.get_data_for_statistical_test(var, units, how)\n",
    "\n",
    "{v: kruskal(*data) for v, data in data.items()}"
   ]
  },
  {
   "cell_type": "code",
   "execution_count": 61,
   "id": "3ef11b7c-504b-43e5-bea6-912b4e7d6129",
   "metadata": {
    "tags": []
   },
   "outputs": [
    {
     "data": {
      "text/plain": [
       "{'proportion': KruskalResult(statistic=37.9526289822385, pvalue=2.8925042107307897e-08)}"
      ]
     },
     "execution_count": 61,
     "metadata": {},
     "output_type": "execute_result"
    }
   ],
   "source": [
    "units = ['place']\n",
    "how = 'unt'\n",
    "\n",
    "data = ma.get_data_for_statistical_test(var, units, how)\n",
    "\n",
    "{v: kruskal(*data) for v, data in data.items()}"
   ]
  },
  {
   "cell_type": "code",
   "execution_count": 62,
   "id": "9f1384dd-cdeb-4d0c-8d62-ed820f724f8f",
   "metadata": {
    "tags": []
   },
   "outputs": [
    {
     "data": {
      "text/plain": [
       "{'proportion': KruskalResult(statistic=38.77456766563001, pvalue=1.937400348060526e-08)}"
      ]
     },
     "execution_count": 62,
     "metadata": {},
     "output_type": "execute_result"
    }
   ],
   "source": [
    "units = ['active']\n",
    "\n",
    "data = ma.get_data_for_statistical_test(var, units, how)\n",
    "\n",
    "{v: kruskal(*data) for v, data in data.items()}"
   ]
  },
  {
   "cell_type": "code",
   "execution_count": 63,
   "id": "73ce7d95-76fa-47c0-a440-f2a0d6d6405e",
   "metadata": {
    "tags": []
   },
   "outputs": [
    {
     "data": {
      "text/plain": [
       "{'remapping': KruskalResult(statistic=7.775273210831744, pvalue=0.050891782731573),\n",
       " 'turnover': KruskalResult(statistic=34.35021157633159, pvalue=1.6710265548288904e-07)}"
      ]
     },
     "execution_count": 63,
     "metadata": {},
     "output_type": "execute_result"
    }
   ],
   "source": [
    "var = ['remapping', 'turnover']\n",
    "units = ['place']\n",
    "how = 'unt'\n",
    "\n",
    "data = ma.get_data_for_statistical_test(var, units, how)\n",
    "\n",
    "{v: kruskal(*data) for v, data in data.items()}"
   ]
  },
  {
   "cell_type": "code",
   "execution_count": 65,
   "id": "a7c7fa2a-2fc3-49ad-b6c1-ce155d99fa4f",
   "metadata": {
    "tags": []
   },
   "outputs": [
    {
     "data": {
      "text/plain": [
       "{'turnover': KruskalResult(statistic=49.82909857206502, pvalue=8.687555475391704e-11)}"
      ]
     },
     "execution_count": 65,
     "metadata": {},
     "output_type": "execute_result"
    }
   ],
   "source": [
    "var = ['turnover']\n",
    "units = ['active']\n",
    "\n",
    "data = ma.get_data_for_statistical_test(var, units, how)\n",
    "\n",
    "{v: kruskal(*data) for v, data in data.items()}"
   ]
  },
  {
   "cell_type": "code",
   "execution_count": 66,
   "id": "e4e59f8f-c4b6-42b2-bb5f-202c3d1c366e",
   "metadata": {
    "tags": []
   },
   "outputs": [
    {
     "data": {
      "text/plain": [
       "{'coverage': KruskalResult(statistic=6.234285714285704, pvalue=0.10075172198601619),\n",
       " 'sizes': KruskalResult(statistic=11.228571428571428, pvalue=0.010551983436600625),\n",
       " 'scales': KruskalResult(statistic=10.760000000000005, pvalue=0.013097023231777093)}"
      ]
     },
     "execution_count": 66,
     "metadata": {},
     "output_type": "execute_result"
    }
   ],
   "source": [
    "var = ['coverage', 'sizes', 'scales']\n",
    "units = ['place']\n",
    "how = 'trn'\n",
    "\n",
    "data = ma.get_data_for_statistical_test(var, units, how)\n",
    "\n",
    "{v: kruskal(*data) for v, data in data.items()}"
   ]
  },
  {
   "cell_type": "code",
   "execution_count": 67,
   "id": "c3d3f272-0d06-4bd3-8c7b-5efe7020ce42",
   "metadata": {
    "tags": []
   },
   "outputs": [
    {
     "data": {
      "text/plain": [
       "{'coverage': KruskalResult(statistic=4.772592592592616, pvalue=0.18922673464133785),\n",
       " 'sizes': KruskalResult(statistic=7.131666666666689, pvalue=0.06781743540897564),\n",
       " 'scales': KruskalResult(statistic=68.94407407407414, pvalue=7.18357517104875e-15)}"
      ]
     },
     "execution_count": 67,
     "metadata": {},
     "output_type": "execute_result"
    }
   ],
   "source": [
    "var = ['coverage', 'sizes', 'scales']\n",
    "units = ['place']\n",
    "how = 'unt'\n",
    "\n",
    "data = ma.get_data_for_statistical_test(var, units, how)\n",
    "\n",
    "{v: kruskal(*data) for v, data in data.items()}"
   ]
  },
  {
   "cell_type": "code",
   "execution_count": 68,
   "id": "6b98b825-ed33-4f6e-9349-2a58ec021d58",
   "metadata": {
    "tags": []
   },
   "outputs": [
    {
     "data": {
      "image/png": "[encoded data removed]",
      "text/plain": [
       "<Figure size 640x480 with 1 Axes>"
      ]
     },
     "metadata": {},
     "output_type": "display_data"
    }
   ],
   "source": [
    "df = ma.coverage_stats().loc[:, 'place']\n",
    "ax = df.loc[('trn', 'sizes')].T.plot()\n",
    "ax.set_prop_cycle(None)\n",
    "df.loc[('unt', 'sizes')].T.plot(ax=ax, linestyle='--')\n",
    "plt.show()"
   ]
  },
  {
   "cell_type": "markdown",
   "id": "8b87f1ce-ffdd-4a52-8e83-93cbe297c444",
   "metadata": {
    "jp-MarkdownHeadingCollapsed": true,
    "tags": []
   },
   "source": [
    "### Homogeneous Peaks"
   ]
  },
  {
   "cell_type": "code",
   "execution_count": 69,
   "id": "464dc988-0cf3-492c-b7e8-10e2ced8da48",
   "metadata": {
    "tags": []
   },
   "outputs": [],
   "source": [
    "conds = ['homo', 'baseline']\n",
    "ma = MultiAnalysis(data_path, conds)"
   ]
  },
  {
   "cell_type": "code",
   "execution_count": 70,
   "id": "aefdaecc-e672-499d-b84c-6e6776d6d29e",
   "metadata": {
    "tags": []
   },
   "outputs": [
    {
     "data": {
      "text/html": [
       "<div>\n",
       "<style scoped>\n",
       "    .dataframe tbody tr th:only-of-type {\n",
       "        vertical-align: middle;\n",
       "    }\n",
       "\n",
       "    .dataframe tbody tr th {\n",
       "        vertical-align: top;\n",
       "    }\n",
       "\n",
       "    .dataframe thead th {\n",
       "        text-align: right;\n",
       "    }\n",
       "</style>\n",
       "<table border=\"1\" class=\"dataframe\">\n",
       "  <thead>\n",
       "    <tr style=\"text-align: right;\">\n",
       "      <th></th>\n",
       "      <th></th>\n",
       "      <th></th>\n",
       "      <th>active</th>\n",
       "      <th>place</th>\n",
       "    </tr>\n",
       "  </thead>\n",
       "  <tbody>\n",
       "    <tr>\n",
       "      <th rowspan=\"13\" valign=\"top\">homo</th>\n",
       "      <th rowspan=\"4\" valign=\"top\">trn</th>\n",
       "      <th>coverage</th>\n",
       "      <td>1.00$\\pm$0.00</td>\n",
       "      <td>0.72$\\pm$0.02</td>\n",
       "    </tr>\n",
       "    <tr>\n",
       "      <th>proportion</th>\n",
       "      <td>0.62$\\pm$0.06</td>\n",
       "      <td>0.46$\\pm$0.08</td>\n",
       "    </tr>\n",
       "    <tr>\n",
       "      <th>scales</th>\n",
       "      <td>nan$\\pm$nan</td>\n",
       "      <td>0.50$\\pm$0.04</td>\n",
       "    </tr>\n",
       "    <tr>\n",
       "      <th>sizes</th>\n",
       "      <td>nan$\\pm$nan</td>\n",
       "      <td>0.03$\\pm$0.02</td>\n",
       "    </tr>\n",
       "    <tr>\n",
       "      <th rowspan=\"9\" valign=\"top\">unt</th>\n",
       "      <th>IoU</th>\n",
       "      <td>0.99$\\pm$0.01</td>\n",
       "      <td>0.56$\\pm$0.08</td>\n",
       "    </tr>\n",
       "    <tr>\n",
       "      <th>coverage</th>\n",
       "      <td>1.00$\\pm$0.00</td>\n",
       "      <td>0.51$\\pm$0.06</td>\n",
       "    </tr>\n",
       "    <tr>\n",
       "      <th>intersection</th>\n",
       "      <td>78.70$\\pm$7.05</td>\n",
       "      <td>45.75$\\pm$7.69</td>\n",
       "    </tr>\n",
       "    <tr>\n",
       "      <th>proportion</th>\n",
       "      <td>0.62$\\pm$0.05</td>\n",
       "      <td>0.37$\\pm$0.05</td>\n",
       "    </tr>\n",
       "    <tr>\n",
       "      <th>remapping</th>\n",
       "      <td>nan$\\pm$nan</td>\n",
       "      <td>0.98$\\pm$0.02</td>\n",
       "    </tr>\n",
       "    <tr>\n",
       "      <th>scales</th>\n",
       "      <td>nan$\\pm$nan</td>\n",
       "      <td>0.52$\\pm$0.11</td>\n",
       "    </tr>\n",
       "    <tr>\n",
       "      <th>sizes</th>\n",
       "      <td>nan$\\pm$nan</td>\n",
       "      <td>0.02$\\pm$1.5e-03</td>\n",
       "    </tr>\n",
       "    <tr>\n",
       "      <th>turnover</th>\n",
       "      <td>0.02$\\pm$0.02</td>\n",
       "      <td>0.64$\\pm$0.12</td>\n",
       "    </tr>\n",
       "    <tr>\n",
       "      <th>union</th>\n",
       "      <td>79.65$\\pm$6.70</td>\n",
       "      <td>81.10$\\pm$5.08</td>\n",
       "    </tr>\n",
       "    <tr>\n",
       "      <th rowspan=\"13\" valign=\"top\">baseline</th>\n",
       "      <th rowspan=\"4\" valign=\"top\">trn</th>\n",
       "      <th>coverage</th>\n",
       "      <td>1.00$\\pm$0.00</td>\n",
       "      <td>0.98$\\pm$0.02</td>\n",
       "    </tr>\n",
       "    <tr>\n",
       "      <th>proportion</th>\n",
       "      <td>0.59$\\pm$0.02</td>\n",
       "      <td>0.54$\\pm$0.05</td>\n",
       "    </tr>\n",
       "    <tr>\n",
       "      <th>scales</th>\n",
       "      <td>nan$\\pm$nan</td>\n",
       "      <td>0.25$\\pm$0.03</td>\n",
       "    </tr>\n",
       "    <tr>\n",
       "      <th>sizes</th>\n",
       "      <td>nan$\\pm$nan</td>\n",
       "      <td>0.06$\\pm$3.8e-03</td>\n",
       "    </tr>\n",
       "    <tr>\n",
       "      <th rowspan=\"9\" valign=\"top\">unt</th>\n",
       "      <th>IoU</th>\n",
       "      <td>0.76$\\pm$0.02</td>\n",
       "      <td>0.41$\\pm$0.06</td>\n",
       "    </tr>\n",
       "    <tr>\n",
       "      <th>coverage</th>\n",
       "      <td>1.00$\\pm$0.00</td>\n",
       "      <td>0.63$\\pm$0.08</td>\n",
       "    </tr>\n",
       "    <tr>\n",
       "      <th>intersection</th>\n",
       "      <td>70.65$\\pm$1.95</td>\n",
       "      <td>37.05$\\pm$5.32</td>\n",
       "    </tr>\n",
       "    <tr>\n",
       "      <th>proportion</th>\n",
       "      <td>0.69$\\pm$0.03</td>\n",
       "      <td>0.41$\\pm$0.05</td>\n",
       "    </tr>\n",
       "    <tr>\n",
       "      <th>remapping</th>\n",
       "      <td>nan$\\pm$nan</td>\n",
       "      <td>0.98$\\pm$0.03</td>\n",
       "    </tr>\n",
       "    <tr>\n",
       "      <th>scales</th>\n",
       "      <td>nan$\\pm$nan</td>\n",
       "      <td>0.16$\\pm$0.03</td>\n",
       "    </tr>\n",
       "    <tr>\n",
       "      <th>sizes</th>\n",
       "      <td>nan$\\pm$nan</td>\n",
       "      <td>0.02$\\pm$2.4e-03</td>\n",
       "    </tr>\n",
       "    <tr>\n",
       "      <th>turnover</th>\n",
       "      <td>0.39$\\pm$0.05</td>\n",
       "      <td>0.85$\\pm$0.10</td>\n",
       "    </tr>\n",
       "    <tr>\n",
       "      <th>union</th>\n",
       "      <td>93.45$\\pm$2.93</td>\n",
       "      <td>90.75$\\pm$3.99</td>\n",
       "    </tr>\n",
       "  </tbody>\n",
       "</table>\n",
       "</div>"
      ],
      "text/plain": [
       "                                   active             place\n",
       "homo     trn coverage       1.00$\\pm$0.00     0.72$\\pm$0.02\n",
       "             proportion     0.62$\\pm$0.06     0.46$\\pm$0.08\n",
       "             scales           nan$\\pm$nan     0.50$\\pm$0.04\n",
       "             sizes            nan$\\pm$nan     0.03$\\pm$0.02\n",
       "         unt IoU            0.99$\\pm$0.01     0.56$\\pm$0.08\n",
       "             coverage       1.00$\\pm$0.00     0.51$\\pm$0.06\n",
       "             intersection  78.70$\\pm$7.05    45.75$\\pm$7.69\n",
       "             proportion     0.62$\\pm$0.05     0.37$\\pm$0.05\n",
       "             remapping        nan$\\pm$nan     0.98$\\pm$0.02\n",
       "             scales           nan$\\pm$nan     0.52$\\pm$0.11\n",
       "             sizes            nan$\\pm$nan  0.02$\\pm$1.5e-03\n",
       "             turnover       0.02$\\pm$0.02     0.64$\\pm$0.12\n",
       "             union         79.65$\\pm$6.70    81.10$\\pm$5.08\n",
       "baseline trn coverage       1.00$\\pm$0.00     0.98$\\pm$0.02\n",
       "             proportion     0.59$\\pm$0.02     0.54$\\pm$0.05\n",
       "             scales           nan$\\pm$nan     0.25$\\pm$0.03\n",
       "             sizes            nan$\\pm$nan  0.06$\\pm$3.8e-03\n",
       "         unt IoU            0.76$\\pm$0.02     0.41$\\pm$0.06\n",
       "             coverage       1.00$\\pm$0.00     0.63$\\pm$0.08\n",
       "             intersection  70.65$\\pm$1.95    37.05$\\pm$5.32\n",
       "             proportion     0.69$\\pm$0.03     0.41$\\pm$0.05\n",
       "             remapping        nan$\\pm$nan     0.98$\\pm$0.03\n",
       "             scales           nan$\\pm$nan     0.16$\\pm$0.03\n",
       "             sizes            nan$\\pm$nan  0.02$\\pm$2.4e-03\n",
       "             turnover       0.39$\\pm$0.05     0.85$\\pm$0.10\n",
       "             union         93.45$\\pm$2.93    90.75$\\pm$3.99"
      ]
     },
     "execution_count": 70,
     "metadata": {},
     "output_type": "execute_result"
    }
   ],
   "source": [
    "ma.get_confidence_intervals()"
   ]
  },
  {
   "cell_type": "code",
   "execution_count": 71,
   "id": "09368623-4807-4970-bfec-14a8d19260a9",
   "metadata": {
    "tags": []
   },
   "outputs": [
    {
     "data": {
      "text/plain": [
       "{'proportion': RanksumsResult(statistic=1.5666989036012806, pvalue=0.11718508719813801),\n",
       " 'scales': RanksumsResult(statistic=-2.6111648393354674, pvalue=0.009023438818080326),\n",
       " 'coverage': RanksumsResult(statistic=2.6111648393354674, pvalue=0.009023438818080326),\n",
       " 'sizes': RanksumsResult(statistic=2.40227165218863, pvalue=0.016293603621028527)}"
      ]
     },
     "execution_count": 71,
     "metadata": {},
     "output_type": "execute_result"
    }
   ],
   "source": [
    "var = ['proportion', 'scales', 'coverage', 'sizes']\n",
    "units = ['place']\n",
    "how = 'trn'\n",
    "\n",
    "data = ma.get_data_for_statistical_test(var, units, how)\n",
    "\n",
    "{v: ranksums(*data) for v, data in data.items()}"
   ]
  },
  {
   "cell_type": "code",
   "execution_count": 72,
   "id": "0679f708-b0f6-4061-88c0-f03081569b3d",
   "metadata": {
    "tags": []
   },
   "outputs": [
    {
     "data": {
      "text/plain": [
       "{'proportion': RanksumsResult(statistic=-1.5666989036012806, pvalue=0.11718508719813801)}"
      ]
     },
     "execution_count": 72,
     "metadata": {},
     "output_type": "execute_result"
    }
   ],
   "source": [
    "var = ['proportion']\n",
    "units = ['active']\n",
    "how = 'trn'\n",
    "\n",
    "data = ma.get_data_for_statistical_test(var, units, how)\n",
    "\n",
    "{v: ranksums(*data) for v, data in data.items()}"
   ]
  },
  {
   "cell_type": "code",
   "execution_count": 73,
   "id": "49e0a210-9182-444c-94b7-091f79a1c638",
   "metadata": {
    "tags": []
   },
   "outputs": [
    {
     "data": {
      "text/plain": [
       "{'proportion': RanksumsResult(statistic=2.204582256761872, pvalue=0.027483421975621553),\n",
       " 'scales': RanksumsResult(statistic=-5.410017808004594, pvalue=6.301848221392269e-08),\n",
       " 'coverage': RanksumsResult(statistic=4.517364869683836, pvalue=6.2613960558707055e-06),\n",
       " 'sizes': RanksumsResult(statistic=4.787865760084065, pvalue=1.6856433537154655e-06),\n",
       " 'remapping': RanksumsResult(statistic=-0.5410017808004594, pvalue=0.5885063552717107),\n",
       " 'turnover': RanksumsResult(statistic=4.92311620528418, pvalue=8.517683792974374e-07)}"
      ]
     },
     "execution_count": 73,
     "metadata": {},
     "output_type": "execute_result"
    }
   ],
   "source": [
    "var = ['proportion', 'scales', 'coverage', 'sizes', 'remapping', 'turnover']\n",
    "units = ['place']\n",
    "how = 'unt'\n",
    "\n",
    "data = ma.get_data_for_statistical_test(var, units, how)\n",
    "\n",
    "{v: ranksums(*data) for v, data in data.items()}"
   ]
  },
  {
   "cell_type": "code",
   "execution_count": 74,
   "id": "4fb156bc-64e1-46b9-8de5-991481d569da",
   "metadata": {
    "tags": []
   },
   "outputs": [
    {
     "data": {
      "text/plain": [
       "{'proportion': RanksumsResult(statistic=5.085416739524318, pvalue=3.6681972655029196e-07),\n",
       " 'turnover': RanksumsResult(statistic=5.410017808004594, pvalue=6.301848221392269e-08)}"
      ]
     },
     "execution_count": 74,
     "metadata": {},
     "output_type": "execute_result"
    }
   ],
   "source": [
    "var = ['proportion', 'turnover']\n",
    "units = ['active']\n",
    "how = 'unt'\n",
    "\n",
    "data = ma.get_data_for_statistical_test(var, units, how)\n",
    "\n",
    "{v: ranksums(*data) for v, data in data.items()}"
   ]
  },
  {
   "cell_type": "markdown",
   "id": "83994488-b43d-430b-b40a-cec4ca74cb87",
   "metadata": {},
   "source": [
    "### Env 2 training"
   ]
  },
  {
   "cell_type": "code",
   "execution_count": 2,
   "id": "a525b718-634d-4701-88a1-2217cdc6993b",
   "metadata": {
    "tags": []
   },
   "outputs": [],
   "source": [
    "exp_names = ['2fits50b', '2fits500b', '2fits5000b', '2fits']\n",
    "batches = [50, 500, 5000, 50000]"
   ]
  },
  {
   "cell_type": "code",
   "execution_count": 3,
   "id": "6b9f29fc-af90-4af8-9c91-fd94ef7a4c9a",
   "metadata": {
    "tags": []
   },
   "outputs": [],
   "source": [
    "ma = MultiAnalysis2Fits(data_path, exp_names)"
   ]
  },
  {
   "cell_type": "code",
   "execution_count": 4,
   "id": "52da1e11-b824-4639-999f-b4a55609f84d",
   "metadata": {
    "tags": []
   },
   "outputs": [
    {
     "data": {
      "text/plain": [
       "KruskalResult(statistic=16.074285714285708, pvalue=0.0010949020632170217)"
      ]
     },
     "execution_count": 4,
     "metadata": {},
     "output_type": "execute_result"
    }
   ],
   "source": [
    "kruskal(*ma.anls[-1].evals[:, 1][:,-4:].T)"
   ]
  },
  {
   "cell_type": "code",
   "execution_count": 5,
   "id": "23d886d4-5a18-4024-87d1-560d606579b8",
   "metadata": {
    "tags": []
   },
   "outputs": [
    {
     "data": {
      "text/plain": [
       "KruskalResult(statistic=6.818181818181813, pvalue=0.009023438818080334)"
      ]
     },
     "execution_count": 5,
     "metadata": {},
     "output_type": "execute_result"
    }
   ],
   "source": [
    "var = ['remapping']\n",
    "units = ['place']\n",
    "\n",
    "data = ma.get_data_for_statistical_test(var, units, 'trn', which=2, subset=['2fits'])[var[0]]\n",
    "data.append(ma.get_data_for_statistical_test(var, units, 'unt', which=1, subset=['2fits'])[var[0]][0])\n",
    "\n",
    "kruskal(*data)"
   ]
  },
  {
   "cell_type": "code",
   "execution_count": 6,
   "id": "a7865b7a-a949-41aa-a4ca-864987424755",
   "metadata": {
    "tags": []
   },
   "outputs": [
    {
     "data": {
      "text/plain": [
       "KruskalResult(statistic=6.818181818181813, pvalue=0.009023438818080334)"
      ]
     },
     "execution_count": 6,
     "metadata": {},
     "output_type": "execute_result"
    }
   ],
   "source": [
    "var = ['turnover']\n",
    "units = ['place']\n",
    "\n",
    "data = ma.get_data_for_statistical_test(var, units, 'trn', which=2, subset=['2fits'])[var[0]]\n",
    "data.append(ma.get_data_for_statistical_test(var, units, 'unt', which=1, subset=['2fits'])[var[0]][0])\n",
    "\n",
    "kruskal(*data)"
   ]
  },
  {
   "cell_type": "code",
   "execution_count": 7,
   "id": "77868deb-90ae-484b-816a-227e66f620cc",
   "metadata": {
    "tags": []
   },
   "outputs": [
    {
     "data": {
      "text/plain": [
       "KruskalResult(statistic=6.818181818181813, pvalue=0.009023438818080334)"
      ]
     },
     "execution_count": 7,
     "metadata": {},
     "output_type": "execute_result"
    }
   ],
   "source": [
    "var = ['turnover']\n",
    "units = ['active']\n",
    "\n",
    "data = ma.get_data_for_statistical_test(var, units, 'trn', which=2, subset=['2fits'])[var[0]]\n",
    "data.append(ma.get_data_for_statistical_test(var, units, 'unt', which=1, subset=['2fits'])[var[0]][0])\n",
    "\n",
    "kruskal(*data)"
   ]
  },
  {
   "cell_type": "code",
   "execution_count": 8,
   "id": "5463dda2-980a-4a7d-b1ea-0373f6a5a665",
   "metadata": {
    "tags": []
   },
   "outputs": [
    {
     "data": {
      "text/plain": [
       "{'proportion': KruskalResult(statistic=13.59848942598187, pvalue=0.003505892524598698)}"
      ]
     },
     "execution_count": 8,
     "metadata": {},
     "output_type": "execute_result"
    }
   ],
   "source": [
    "var = ['proportion']\n",
    "units = ['place']\n",
    "how = 'trn'\n",
    "\n",
    "data = ma.get_data_for_statistical_test(var, units, how, 2)\n",
    "\n",
    "{v: kruskal(*data) for v, data in data.items()}"
   ]
  },
  {
   "cell_type": "code",
   "execution_count": 9,
   "id": "1e38adaf-1944-403c-89dc-bd989f06265e",
   "metadata": {
    "tags": []
   },
   "outputs": [
    {
     "data": {
      "text/plain": [
       "{'proportion': KruskalResult(statistic=16.141415662650598, pvalue=0.0010607365759832943)}"
      ]
     },
     "execution_count": 9,
     "metadata": {},
     "output_type": "execute_result"
    }
   ],
   "source": [
    "var = ['proportion']\n",
    "units = ['active']\n",
    "how = 'trn'\n",
    "\n",
    "data = ma.get_data_for_statistical_test(var, units, how, 2)\n",
    "\n",
    "{v: kruskal(*data) for v, data in data.items()}"
   ]
  },
  {
   "cell_type": "code",
   "execution_count": 10,
   "id": "4b456fb1-1bfb-475f-a110-19e881034bb5",
   "metadata": {
    "tags": []
   },
   "outputs": [
    {
     "data": {
      "text/plain": [
       "{'coverage': KruskalResult(statistic=13.822857142857131, pvalue=0.00315646409496273)}"
      ]
     },
     "execution_count": 10,
     "metadata": {},
     "output_type": "execute_result"
    }
   ],
   "source": [
    "var = ['coverage']\n",
    "units = ['place']\n",
    "how = 'unt'\n",
    "\n",
    "data = ma.get_data_for_statistical_test(var, units, how, 2)\n",
    "\n",
    "{v: kruskal(*data) for v, data in data.items()}"
   ]
  },
  {
   "cell_type": "code",
   "execution_count": 11,
   "id": "9a2675d5-93ff-42fa-a00c-773e0d59e979",
   "metadata": {
    "tags": []
   },
   "outputs": [
    {
     "data": {
      "text/plain": [
       "{'coverage': KruskalResult(statistic=13.853092006033174, pvalue=0.003112095073100279)}"
      ]
     },
     "execution_count": 11,
     "metadata": {},
     "output_type": "execute_result"
    }
   ],
   "source": [
    "var = ['coverage']\n",
    "units = ['place']\n",
    "how = 'trn'\n",
    "\n",
    "data = ma.get_data_for_statistical_test(var, units, how, 2)\n",
    "\n",
    "{v: kruskal(*data) for v, data in data.items()}"
   ]
  },
  {
   "cell_type": "code",
   "execution_count": 12,
   "id": "071c5c33-6e9a-4cb2-9997-4eb1a6b9e4a7",
   "metadata": {
    "tags": []
   },
   "outputs": [
    {
     "data": {
      "text/plain": [
       "{'scales': KruskalResult(statistic=10.748571428571424, pvalue=0.013166115556046663),\n",
       " 'sizes': KruskalResult(statistic=14.200000000000003, pvalue=0.002645179989245594)}"
      ]
     },
     "execution_count": 12,
     "metadata": {},
     "output_type": "execute_result"
    }
   ],
   "source": [
    "var = ['scales', 'sizes']\n",
    "units = ['place']\n",
    "how = 'trn'\n",
    "\n",
    "data = ma.get_data_for_statistical_test(var, units, how, 2)\n",
    "\n",
    "{v: kruskal(*data) for v, data in data.items()}"
   ]
  },
  {
   "cell_type": "code",
   "execution_count": 13,
   "id": "b2489720-f1bb-404a-9458-3a428030fbd3",
   "metadata": {
    "tags": []
   },
   "outputs": [
    {
     "data": {
      "text/plain": [
       "{'scales': KruskalResult(statistic=11.159999999999997, pvalue=0.010891421468579314),\n",
       " 'sizes': KruskalResult(statistic=16.89714285714284, pvalue=0.000742013377741852)}"
      ]
     },
     "execution_count": 13,
     "metadata": {},
     "output_type": "execute_result"
    }
   ],
   "source": [
    "var = ['scales', 'sizes']\n",
    "units = ['place']\n",
    "how = 'unt'\n",
    "\n",
    "data = ma.get_data_for_statistical_test(var, units, how, 2)\n",
    "\n",
    "{v: kruskal(*data) for v, data in data.items()}"
   ]
  },
  {
   "cell_type": "code",
   "execution_count": 14,
   "id": "9ba3a45f-ba13-40ae-a326-f3ca7bac720a",
   "metadata": {
    "tags": []
   },
   "outputs": [
    {
     "data": {
      "text/plain": [
       "{'sizes': KruskalResult(statistic=0.010909090909095198, pvalue=0.9168149485280722)}"
      ]
     },
     "execution_count": 14,
     "metadata": {},
     "output_type": "execute_result"
    }
   ],
   "source": [
    "var = ['sizes']\n",
    "units = ['place']\n",
    "how = 'both'\n",
    "\n",
    "data = ma.get_data_for_statistical_test(var, units, how, 2, ['2fits'])\n",
    "\n",
    "{v: kruskal(*data) for v, data in data.items()}"
   ]
  },
  {
   "cell_type": "code",
   "execution_count": 15,
   "id": "7cf36930-660c-4d28-8ca7-ffaeafba5d14",
   "metadata": {
    "tags": []
   },
   "outputs": [
    {
     "data": {
      "text/plain": [
       "KruskalResult(statistic=17.102857142857133, pvalue=0.0006731379787971982)"
      ]
     },
     "execution_count": 15,
     "metadata": {},
     "output_type": "execute_result"
    }
   ],
   "source": [
    "df = MultiAnalysis2Fits.get_retrain_remaps(data_path, exp_names)\n",
    "df = df.loc[(slice(None), slice(None), 'remappping'), \"1_1'\"]\n",
    "kruskal(*[x.values for _, x in  df.groupby(level=0)])"
   ]
  },
  {
   "cell_type": "code",
   "execution_count": 16,
   "id": "22af49a9-f2c4-43cc-b2cc-ed8b3bbfc7ae",
   "metadata": {
    "tags": []
   },
   "outputs": [
    {
     "data": {
      "text/plain": [
       "KruskalResult(statistic=16.58961625282166, pvalue=0.0008582413824039257)"
      ]
     },
     "execution_count": 16,
     "metadata": {},
     "output_type": "execute_result"
    }
   ],
   "source": [
    "df = MultiAnalysis2Fits.get_retrain_remaps(data_path, exp_names)\n",
    "df = df.loc[(slice(None), slice(None), 'turnover_pc'), \"1_1'\"]\n",
    "kruskal(*[x.values for _, x in  df.groupby(level=0)])"
   ]
  },
  {
   "cell_type": "code",
   "execution_count": 17,
   "id": "2b6bda2f-5c8d-4b5c-b3fa-70a4dbf08e2b",
   "metadata": {
    "tags": []
   },
   "outputs": [
    {
     "data": {
      "text/plain": [
       "KruskalResult(statistic=17.331428571428575, pvalue=0.0006040399658588237)"
      ]
     },
     "execution_count": 17,
     "metadata": {},
     "output_type": "execute_result"
    }
   ],
   "source": [
    "df = MultiAnalysis2Fits.get_retrain_remaps(data_path, exp_names)\n",
    "df = df.loc[(slice(None), slice(None), 'turnover_ac'), \"1_1'\"]\n",
    "kruskal(*[x.values for _, x in  df.groupby(level=0)])"
   ]
  },
  {
   "cell_type": "code",
   "execution_count": 18,
   "id": "9886145e-6eef-4d0d-af4b-2a3c4177e2c7",
   "metadata": {
    "tags": []
   },
   "outputs": [
    {
     "data": {
      "text/plain": [
       "KruskalResult(statistic=16.897142857142853, pvalue=0.0007420133777418467)"
      ]
     },
     "execution_count": 18,
     "metadata": {},
     "output_type": "execute_result"
    }
   ],
   "source": [
    "df = MultiAnalysis2Fits.get_retrain_remaps(data_path, exp_names)\n",
    "df = df.loc[(slice(None), slice(None), 'remappping'), \"2_2'\"]\n",
    "kruskal(*[x.values for _, x in  df.groupby(level=0)])"
   ]
  },
  {
   "cell_type": "code",
   "execution_count": 19,
   "id": "879baa3f-e06b-4fed-9716-3a496caf3a97",
   "metadata": {
    "tags": []
   },
   "outputs": [
    {
     "data": {
      "text/plain": [
       "KruskalResult(statistic=16.714285714285708, pvalue=0.000809089618167436)"
      ]
     },
     "execution_count": 19,
     "metadata": {},
     "output_type": "execute_result"
    }
   ],
   "source": [
    "df = MultiAnalysis2Fits.get_retrain_remaps(data_path, exp_names)\n",
    "df = df.loc[(slice(None), slice(None), 'turnover_pc'), \"2_2'\"]\n",
    "kruskal(*[x.values for _, x in  df.groupby(level=0)])"
   ]
  },
  {
   "cell_type": "code",
   "execution_count": 20,
   "id": "0fb976e2-279f-4623-a097-9a6226a2271e",
   "metadata": {
    "tags": []
   },
   "outputs": [
    {
     "data": {
      "text/plain": [
       "KruskalResult(statistic=16.554285714285697, pvalue=0.0008727023933484354)"
      ]
     },
     "execution_count": 20,
     "metadata": {},
     "output_type": "execute_result"
    }
   ],
   "source": [
    "df = MultiAnalysis2Fits.get_retrain_remaps(data_path, exp_names)\n",
    "df = df.loc[(slice(None), slice(None), 'turnover_ac'), \"2_2'\"]\n",
    "kruskal(*[x.values for _, x in  df.groupby(level=0)])"
   ]
  },
  {
   "cell_type": "code",
   "execution_count": 21,
   "id": "02d2a7eb-1519-4795-b6f3-8d3fc47705b8",
   "metadata": {
    "tags": []
   },
   "outputs": [
    {
     "data": {
      "text/plain": [
       "KruskalResult(statistic=6.818181818181813, pvalue=0.009023438818080334)"
      ]
     },
     "execution_count": 21,
     "metadata": {},
     "output_type": "execute_result"
    }
   ],
   "source": [
    "df = MultiAnalysis2Fits.get_retrain_remaps(data_path, exp_names)\n",
    "df = df.loc[('2fits', slice(None), 'turnover_ac')]\n",
    "kruskal(*[df[c] for c in df.columns])"
   ]
  },
  {
   "cell_type": "code",
   "execution_count": null,
   "id": "7d87beb2-cb26-40ce-bf27-3c09d7144078",
   "metadata": {},
   "outputs": [],
   "source": []
  }
 ],
 "metadata": {
  "kernelspec": {
   "display_name": "Python 3 (ipykernel)",
   "language": "python",
   "name": "python3"
  },
  "language_info": {
   "codemirror_mode": {
    "name": "ipython",
    "version": 3
   },
   "file_extension": ".py",
   "mimetype": "text/x-python",
   "name": "python",
   "nbconvert_exporter": "python",
   "pygments_lexer": "ipython3",
   "version": "3.11.3"
  }
 },
 "nbformat": 4,
 "nbformat_minor": 5
}
