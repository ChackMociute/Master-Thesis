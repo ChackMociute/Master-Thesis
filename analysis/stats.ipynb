{
 "cells": [
  {
   "cell_type": "markdown",
   "id": "7e7d731a-f9f2-4570-a654-e3c1c0e3f98a",
   "metadata": {
    "tags": []
   },
   "source": [
    "# Statistical Analyses"
   ]
  },
  {
   "cell_type": "code",
   "execution_count": 1,
   "id": "7140814d-a458-461e-b1de-32bb7ec2fc47",
   "metadata": {
    "tags": []
   },
   "outputs": [],
   "source": [
    "import os\n",
    "import sys\n",
    "import numpy as np\n",
    "import pandas as pd\n",
    "import matplotlib.pyplot as plt\n",
    "plt.style.use('tableau-colorblind10')\n",
    "\n",
    "module_path = os.path.abspath(os.path.join('..'))\n",
    "if module_path not in sys.path:\n",
    "    sys.path.append(module_path)\n",
    "\n",
    "from analysis import MultiAnalysis, MultiRunAnalysis\n",
    "from scipy.stats import ranksums, kruskal, wilcoxon\n",
    "from statsmodels.stats.proportion import proportions_ztest\n",
    "\n",
    "\n",
    "data_path = \"../data\"\n",
    "save_path = \"../figs\""
   ]
  },
  {
   "cell_type": "markdown",
   "id": "e2fff3ae-2f2a-4e4c-b92e-fd190417e78e",
   "metadata": {
    "jp-MarkdownHeadingCollapsed": true,
    "tags": []
   },
   "source": [
    "### Confidence Interval Tables"
   ]
  },
  {
   "cell_type": "code",
   "execution_count": 2,
   "id": "dfd8c6e6-79ad-4387-ac12-637e4966f59d",
   "metadata": {
    "tags": []
   },
   "outputs": [],
   "source": [
    "exps = ['baseline', 'hidden500', 'hp_0', 'l1_0']\n",
    "\n",
    "ma = MultiAnalysis(data_path, exps)\n",
    "df = ma.get_confidence_intervals()"
   ]
  },
  {
   "cell_type": "code",
   "execution_count": 3,
   "id": "6e8ef700-e43d-40ac-b5c2-883d2d95e4b5",
   "metadata": {
    "tags": []
   },
   "outputs": [],
   "source": [
    "t = df.copy()"
   ]
  },
  {
   "cell_type": "code",
   "execution_count": 4,
   "id": "59f38ec1-67ca-4989-b205-b8d2218fe16b",
   "metadata": {
    "tags": []
   },
   "outputs": [
    {
     "name": "stdout",
     "output_type": "stream",
     "text": [
      "\\begin{tabular}{llllll}\n",
      "\\toprule\n",
      " &  & baseline & hidden500 & hp_0 & l1_0 \\\\\n",
      "\\midrule\n",
      "\\multirow[t]{4}{*}{active} & proportion (trn) & 0.47$\\pm$0.04 & 0.24$\\pm$9.7e-03 & 1.00$\\pm$0.00 & 0.45$\\pm$0.03 \\\\\n",
      " & proportion (unt) & 0.56$\\pm$0.06 & 0.24$\\pm$0.04 & 1.00$\\pm$0.00 & 0.55$\\pm$0.08 \\\\\n",
      " & IoU (unt) & 0.69$\\pm$0.03 & 0.49$\\pm$0.05 & 1.00$\\pm$0.00 & 0.63$\\pm$0.04 \\\\\n",
      " & turnover (unt) & 0.38$\\pm$0.06 & 0.45$\\pm$0.07 & nan$\\pm$nan & 0.46$\\pm$0.09 \\\\\n",
      "\\cline{1-6}\n",
      "\\multirow[t]{5}{*}{place} & proportion (trn) & 0.41$\\pm$0.04 & 0.22$\\pm$0.01 & 0.00$\\pm$0.00 & 0.39$\\pm$0.03 \\\\\n",
      " & proportion (unt) & 0.33$\\pm$0.06 & 0.16$\\pm$0.04 & 0.00$\\pm$0.00 & 0.34$\\pm$0.07 \\\\\n",
      " & IoU (unt) & 0.37$\\pm$0.06 & 0.24$\\pm$0.04 & 0.00$\\pm$0.00 & 0.34$\\pm$0.05 \\\\\n",
      " & turnover (unt) & 0.80$\\pm$0.08 & 0.78$\\pm$0.06 & nan$\\pm$nan & 0.84$\\pm$0.09 \\\\\n",
      " & remapping (unt) & 0.97$\\pm$0.03 & 0.98$\\pm$0.03 & nan$\\pm$nan & 0.97$\\pm$0.03 \\\\\n",
      "\\cline{1-6}\n",
      "\\bottomrule\n",
      "\\end{tabular}\n",
      "\n"
     ]
    }
   ],
   "source": [
    "df = t.copy()\n",
    "df = df.unstack(0).stack(0, future_stack=True)\n",
    "df.index = df.index.swaplevel(0, 2)\n",
    "df = df.sort_index()\n",
    "\n",
    "active = df.loc[('active', ['proportion', 'IoU', 'turnover'], slice(None))]\n",
    "place = df.loc[('place', ['proportion', 'IoU', 'turnover', 'remapping'], slice(None))]\n",
    "\n",
    "remaps = pd.concat([active, place])\n",
    "remaps.index = [remaps.index.get_level_values(0), remaps.index.map('{0[1]} ({0[2]})'.format)]\n",
    "print(remaps.to_latex())"
   ]
  },
  {
   "cell_type": "code",
   "execution_count": 5,
   "id": "58a285e8-5c73-4fd8-bf25-ab1653dae63a",
   "metadata": {
    "tags": []
   },
   "outputs": [
    {
     "name": "stdout",
     "output_type": "stream",
     "text": [
      "\\begin{tabular}{llllll}\n",
      "\\toprule\n",
      " &  & baseline & hidden500 & hp_0 & l1_0 \\\\\n",
      "\\midrule\n",
      "\\multirow[t]{3}{*}{trn} & coverage & 0.95$\\pm$0.04 & 1.00$\\pm$1.6e-03 & 0.00$\\pm$0.00 & 0.94$\\pm$0.04 \\\\\n",
      " & proportion & 0.41$\\pm$0.04 & 0.22$\\pm$0.01 & 0.00$\\pm$0.00 & 0.39$\\pm$0.03 \\\\\n",
      " & sizes & 0.06$\\pm$6.8e-03 & 0.05$\\pm$2.8e-03 & nan$\\pm$nan & 0.06$\\pm$6.7e-03 \\\\\n",
      "\\cline{1-6}\n",
      "\\multirow[t]{3}{*}{unt} & coverage & 0.52$\\pm$0.08 & 0.68$\\pm$0.08 & 0.00$\\pm$0.00 & 0.53$\\pm$0.07 \\\\\n",
      " & proportion & 0.33$\\pm$0.06 & 0.16$\\pm$0.04 & 0.00$\\pm$0.00 & 0.34$\\pm$0.07 \\\\\n",
      " & sizes & 0.02$\\pm$3.4e-03 & 0.02$\\pm$2.5e-03 & nan$\\pm$nan & 0.02$\\pm$2.7e-03 \\\\\n",
      "\\cline{1-6}\n",
      "\\bottomrule\n",
      "\\end{tabular}\n",
      "\n"
     ]
    }
   ],
   "source": [
    "coverage = df.loc['place'].loc[['proportion', 'coverage', 'sizes']]\n",
    "coverage.index = coverage.index.swaplevel(0, 1)\n",
    "print(coverage.sort_index().to_latex())"
   ]
  },
  {
   "cell_type": "markdown",
   "id": "c299b5ff-7ff5-420f-a7d4-d998ecd6c0d7",
   "metadata": {},
   "source": [
    "### Miscellaneous Statistical Test"
   ]
  },
  {
   "cell_type": "markdown",
   "id": "90c1fbe7-3dfd-4833-983d-bc5b68b3976b",
   "metadata": {
    "jp-MarkdownHeadingCollapsed": true,
    "tags": []
   },
   "source": [
    "#### Hidden unit proportions"
   ]
  },
  {
   "cell_type": "code",
   "execution_count": 6,
   "id": "a2a0c8f7-ac3f-4165-82e0-3596b84c297d",
   "metadata": {
    "tags": []
   },
   "outputs": [],
   "source": [
    "mra = MultiRunAnalysis(data_path, 'baseline')"
   ]
  },
  {
   "cell_type": "code",
   "execution_count": 7,
   "id": "d812a815-280d-45cc-aa26-d8bf7ff23d1f",
   "metadata": {
    "tags": []
   },
   "outputs": [],
   "source": [
    "trn = mra.df[mra.df.index.get_level_values(1) == 1].loc[(slice(None), slice(None), 'proportion')]\n",
    "unt = mra.df[mra.df.index.get_level_values(1) != 1].loc[(slice(None), slice(None), 'proportion')]"
   ]
  },
  {
   "cell_type": "code",
   "execution_count": 8,
   "id": "15186201-9127-4622-b5ec-126622280698",
   "metadata": {
    "tags": []
   },
   "outputs": [
    {
     "data": {
      "text/plain": [
       "RanksumsResult(statistic=2.751433192971368, pvalue=0.002966756058953179)"
      ]
     },
     "execution_count": 8,
     "metadata": {},
     "output_type": "execute_result"
    }
   ],
   "source": [
    "ranksums(trn.place, unt.place, alternative='greater')"
   ]
  },
  {
   "cell_type": "code",
   "execution_count": 9,
   "id": "38f86eb7-50bb-450c-b922-094d61e056dc",
   "metadata": {
    "tags": []
   },
   "outputs": [
    {
     "data": {
      "text/plain": [
       "RanksumsResult(statistic=-3.0231796811660705, pvalue=0.0012506683884259066)"
      ]
     },
     "execution_count": 9,
     "metadata": {},
     "output_type": "execute_result"
    }
   ],
   "source": [
    "ranksums(trn.active, unt.active, alternative='less')"
   ]
  },
  {
   "cell_type": "markdown",
   "id": "15d59041-20bc-421a-bff9-675f27978574",
   "metadata": {
    "jp-MarkdownHeadingCollapsed": true,
    "tags": []
   },
   "source": [
    "#### Scales"
   ]
  },
  {
   "cell_type": "code",
   "execution_count": 10,
   "id": "8cd7be14-c75a-41e5-ae0a-a4529e094e99",
   "metadata": {
    "tags": []
   },
   "outputs": [],
   "source": [
    "trn = mra.df[mra.df.index.get_level_values(1) == 1].loc[(slice(None), slice(None), 'scales')].place\n",
    "unt = mra.df[mra.df.index.get_level_values(1) != 1].loc[(slice(None), slice(None), 'scales')].place"
   ]
  },
  {
   "cell_type": "code",
   "execution_count": 11,
   "id": "9340b0d5-5169-4942-b15e-4bc1f70a74d8",
   "metadata": {
    "tags": []
   },
   "outputs": [
    {
     "data": {
      "text/html": [
       "<div>\n",
       "<style scoped>\n",
       "    .dataframe tbody tr th:only-of-type {\n",
       "        vertical-align: middle;\n",
       "    }\n",
       "\n",
       "    .dataframe tbody tr th {\n",
       "        vertical-align: top;\n",
       "    }\n",
       "\n",
       "    .dataframe thead th {\n",
       "        text-align: right;\n",
       "    }\n",
       "</style>\n",
       "<table border=\"1\" class=\"dataframe\">\n",
       "  <thead>\n",
       "    <tr style=\"text-align: right;\">\n",
       "      <th></th>\n",
       "      <th></th>\n",
       "      <th>place</th>\n",
       "    </tr>\n",
       "  </thead>\n",
       "  <tbody>\n",
       "    <tr>\n",
       "      <th>trn</th>\n",
       "      <th>scales</th>\n",
       "      <td>0.30$\\pm$0.02</td>\n",
       "    </tr>\n",
       "    <tr>\n",
       "      <th>unt</th>\n",
       "      <th>scales</th>\n",
       "      <td>0.13$\\pm$0.03</td>\n",
       "    </tr>\n",
       "  </tbody>\n",
       "</table>\n",
       "</div>"
      ],
      "text/plain": [
       "                    place\n",
       "trn scales  0.30$\\pm$0.02\n",
       "unt scales  0.13$\\pm$0.03"
      ]
     },
     "execution_count": 11,
     "metadata": {},
     "output_type": "execute_result"
    }
   ],
   "source": [
    "mra.get_confidece_intervals().loc[(slice(None), 'scales'), ['place']]"
   ]
  },
  {
   "cell_type": "code",
   "execution_count": 12,
   "id": "99fd58a1-e8b8-4c6d-bd5e-ad4287cec831",
   "metadata": {
    "tags": []
   },
   "outputs": [
    {
     "data": {
      "text/plain": [
       "RanksumsResult(statistic=3.3968311024337874, pvalue=0.0006817102933708383)"
      ]
     },
     "execution_count": 12,
     "metadata": {},
     "output_type": "execute_result"
    }
   ],
   "source": [
    "ranksums(trn, unt)"
   ]
  },
  {
   "cell_type": "markdown",
   "id": "6161c4b3-38a9-48c6-8f48-0c43e69f9fd3",
   "metadata": {},
   "source": [
    "### Hidden Size"
   ]
  },
  {
   "cell_type": "markdown",
   "id": "d38af884-ea86-4fa7-b0a7-a7e6f04bfca3",
   "metadata": {
    "tags": []
   },
   "source": [
    "#### Proportions"
   ]
  },
  {
   "cell_type": "code",
   "execution_count": 13,
   "id": "58772aff-fa96-4887-ae0e-7eb1cdb0d01a",
   "metadata": {
    "tags": []
   },
   "outputs": [],
   "source": [
    "mra = MultiRunAnalysis(data_path, 'hidden500')"
   ]
  },
  {
   "cell_type": "code",
   "execution_count": 14,
   "id": "ea60c44f-dc50-42a3-b3fb-31dfa16f2e55",
   "metadata": {
    "tags": []
   },
   "outputs": [],
   "source": [
    "df = mra.df.loc[(slice(None), slice(None), 'proportion'), :]\n",
    "trn_ac = df.active.loc[(slice(None), 1, slice(None))]\n",
    "unt_ac = df[df.index.get_level_values(1) != 1].active\n",
    "trn_pc = df.place.loc[(slice(None), 1, slice(None))]\n",
    "unt_pc = df[df.index.get_level_values(1) != 1].place"
   ]
  },
  {
   "cell_type": "code",
   "execution_count": 15,
   "id": "16fa7ab0-c8bb-408b-ac21-ea509a5632e1",
   "metadata": {
    "tags": []
   },
   "outputs": [
    {
     "data": {
      "text/plain": [
       "KruskalResult(statistic=3.2480258755297746, pvalue=0.1971061352387307)"
      ]
     },
     "execution_count": 15,
     "metadata": {},
     "output_type": "execute_result"
    }
   ],
   "source": [
    "kruskal(trn_ac, unt_ac, trn_pc)"
   ]
  },
  {
   "cell_type": "code",
   "execution_count": 16,
   "id": "137c12fb-99f2-48bb-a13f-04a89f351ace",
   "metadata": {
    "tags": []
   },
   "outputs": [
    {
     "data": {
      "text/plain": [
       "WilcoxonResult(statistic=0.0, pvalue=4.4099351020972264e-05)"
      ]
     },
     "execution_count": 16,
     "metadata": {},
     "output_type": "execute_result"
    }
   ],
   "source": [
    "wilcoxon(unt_pc, unt_ac, alternative='less')"
   ]
  },
  {
   "cell_type": "markdown",
   "id": "f36f5ac3-bc70-4551-a88a-03f1f034a2d8",
   "metadata": {},
   "source": [
    "#### Coverage"
   ]
  },
  {
   "cell_type": "code",
   "execution_count": 17,
   "id": "1acf1910-ad0e-49b2-b49e-d513ac6e7555",
   "metadata": {
    "tags": []
   },
   "outputs": [],
   "source": [
    "hiddens = [f'hidden{n}' for n in [20, 50, 200, 500]]\n",
    "hiddens.insert(2, 'baseline')\n",
    "\n",
    "ma = MultiAnalysis(data_path, hiddens)"
   ]
  },
  {
   "cell_type": "code",
   "execution_count": 18,
   "id": "875b80ca-3eec-4892-91d2-9433af3ced56",
   "metadata": {
    "tags": []
   },
   "outputs": [
    {
     "data": {
      "text/plain": [
       "{'coverage': KruskalResult(statistic=20.869565217391315, pvalue=0.0003360929523211246),\n",
       " 'scales': KruskalResult(statistic=22.45661538461539, pvalue=0.00016254525126029832),\n",
       " 'sizes': KruskalResult(statistic=21.76984615384616, pvalue=0.00022270724572620365)}"
      ]
     },
     "execution_count": 18,
     "metadata": {},
     "output_type": "execute_result"
    }
   ],
   "source": [
    "var = ['coverage', 'scales', 'sizes']\n",
    "units = ['place']\n",
    "how = 'trn'\n",
    "\n",
    "{v: kruskal(*data) for v, data in ma.get_data_for_statistical_test(var, units, how).items()}"
   ]
  },
  {
   "cell_type": "code",
   "execution_count": 19,
   "id": "663c5f99-4aa2-4a15-8189-5fd3129585fb",
   "metadata": {
    "tags": []
   },
   "outputs": [
    {
     "data": {
      "text/plain": [
       "{'coverage': KruskalResult(statistic=84.36201980198018, pvalue=2.0716336375048657e-17),\n",
       " 'scales': KruskalResult(statistic=90.21445544554456, pvalue=1.1856292809450757e-18),\n",
       " 'sizes': KruskalResult(statistic=40.418019801980165, pvalue=3.5469813921092296e-08)}"
      ]
     },
     "execution_count": 19,
     "metadata": {},
     "output_type": "execute_result"
    }
   ],
   "source": [
    "var = ['coverage', 'scales', 'sizes']\n",
    "units = ['place']\n",
    "how = 'unt'\n",
    "\n",
    "{v: kruskal(*data) for v, data in ma.get_data_for_statistical_test(var, units, how).items()}"
   ]
  },
  {
   "cell_type": "code",
   "execution_count": 20,
   "id": "93fdac6c-8ef9-46a9-92d1-3981f671c5de",
   "metadata": {
    "tags": []
   },
   "outputs": [
    {
     "data": {
      "image/png": "[encoded data removed]",
      "text/plain": [
       "<Figure size 640x480 with 1 Axes>"
      ]
     },
     "metadata": {},
     "output_type": "display_data"
    }
   ],
   "source": [
    "df = ma.coverage_stats().loc[:, 'place']\n",
    "ax = df.loc[('trn', 'sizes')].T.plot()\n",
    "ax.set_prop_cycle(None)\n",
    "df.loc[('unt', 'sizes')].T.plot(ax=ax, linestyle='--')\n",
    "plt.show()"
   ]
  },
  {
   "cell_type": "markdown",
   "id": "80ae209c-70eb-4f38-bc92-2672d41233d5",
   "metadata": {},
   "source": [
    "### Remapping"
   ]
  },
  {
   "cell_type": "code",
   "execution_count": 21,
   "id": "63bb24c4-3b4d-49bb-abd3-6b89291ba370",
   "metadata": {
    "tags": []
   },
   "outputs": [],
   "source": [
    "hiddens = [f'hidden{n}' for n in [20, 50, 200, 500]]\n",
    "hiddens.insert(2, 'baseline')\n",
    "\n",
    "ma = MultiAnalysis(data_path, hiddens)"
   ]
  },
  {
   "cell_type": "code",
   "execution_count": 22,
   "id": "7d1aa54a-5e6a-4539-ac62-67eb4b906919",
   "metadata": {
    "tags": []
   },
   "outputs": [
    {
     "data": {
      "text/plain": [
       "{'remapping': KruskalResult(statistic=1.7165958247132012, pvalue=0.7877008095964222),\n",
       " 'turnover': KruskalResult(statistic=33.8672920755532, pvalue=7.933769175432972e-07)}"
      ]
     },
     "execution_count": 22,
     "metadata": {},
     "output_type": "execute_result"
    }
   ],
   "source": [
    "var = ['remapping', 'turnover']\n",
    "units = ['place']\n",
    "how = 'unt'\n",
    "\n",
    "{v: kruskal(*data) for v, data in ma.get_data_for_statistical_test(var, units, how).items()}"
   ]
  },
  {
   "cell_type": "code",
   "execution_count": 23,
   "id": "04f1fcac-1b9e-4034-9273-a967f112c69d",
   "metadata": {
    "tags": []
   },
   "outputs": [
    {
     "data": {
      "text/plain": [
       "{'turnover': KruskalResult(statistic=56.2903289125625, pvalue=1.742917757247385e-11)}"
      ]
     },
     "execution_count": 23,
     "metadata": {},
     "output_type": "execute_result"
    }
   ],
   "source": [
    "var = ['turnover']\n",
    "units = ['active']\n",
    "how = 'unt'\n",
    "\n",
    "{v: kruskal(*data) for v, data in ma.get_data_for_statistical_test(var, units, how).items()}"
   ]
  },
  {
   "cell_type": "markdown",
   "id": "a3fae396-11b1-4213-bdda-ddc637a3ce1e",
   "metadata": {},
   "source": [
    "# Move to another file"
   ]
  }
 ],
 "metadata": {
  "kernelspec": {
   "display_name": "Python 3 (ipykernel)",
   "language": "python",
   "name": "python3"
  },
  "language_info": {
   "codemirror_mode": {
    "name": "ipython",
    "version": 3
   },
   "file_extension": ".py",
   "mimetype": "text/x-python",
   "name": "python",
   "nbconvert_exporter": "python",
   "pygments_lexer": "ipython3",
   "version": "3.11.3"
  }
 },
 "nbformat": 4,
 "nbformat_minor": 5
}
