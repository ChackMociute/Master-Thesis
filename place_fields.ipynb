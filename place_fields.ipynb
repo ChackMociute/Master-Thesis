{
 "cells": [
  {
   "cell_type": "code",
   "execution_count": 1,
   "id": "21cd9c69-74d7-4024-a7ff-7d9108a5ecbd",
   "metadata": {
    "tags": []
   },
   "outputs": [],
   "source": [
    "import numpy as np\n",
    "import torch\n",
    "import torch.nn as nn\n",
    "import matplotlib.pyplot as plt\n",
    "\n",
    "from scipy.stats import multivariate_normal\n",
    "from utils import device, gaussian_grid, get_coords"
   ]
  },
  {
   "cell_type": "code",
   "execution_count": 9,
   "id": "e00add1c-5fb0-42df-bff6-3a6d1f0fa681",
   "metadata": {
    "tags": []
   },
   "outputs": [],
   "source": [
    "res = 400\n",
    "\n",
    "mu = torch.tensor([0.3, -0.5], device=device)\n",
    "cov = torch.tensor([\n",
    "    [0.05, -0.03],\n",
    "    [-0.03, 0.05]\n",
    "], device=device)\n",
    "cov_ = torch.inverse(cov)"
   ]
  },
  {
   "cell_type": "code",
   "execution_count": 10,
   "id": "b4f5e82e-9868-485f-9950-6c1aa38c604d",
   "metadata": {
    "tags": []
   },
   "outputs": [],
   "source": [
    "x = torch.linspace(-1, 1, res, device=device)\n",
    "x = torch.meshgrid(x, x, indexing='ij')\n",
    "x = torch.stack(x).view(2, -1).T"
   ]
  },
  {
   "cell_type": "code",
   "execution_count": 11,
   "id": "faf8e332-f890-4258-9066-d7e64a38f50c",
   "metadata": {
    "tags": []
   },
   "outputs": [
    {
     "name": "stdout",
     "output_type": "stream",
     "text": [
      "1.15 ms ± 44 µs per loop (mean ± std. dev. of 7 runs, 1,000 loops each)\n"
     ]
    }
   ],
   "source": [
    "pred = (torch.e ** (-(1 / 2) * ((x - mu) * ((x - mu) @ cov_.T)).sum(1)))\n",
    "\n",
    "plt.contourf(pred.view(res, res).T.cpu(), levels=100)\n",
    "plt.show()"
   ]
  },
  {
   "cell_type": "code",
   "execution_count": null,
   "id": "144bcc0c-af68-4b68-91c1-7c4aafcf12ad",
   "metadata": {},
   "outputs": [],
   "source": []
  }
 ],
 "metadata": {
  "kernelspec": {
   "display_name": "Python 3 (ipykernel)",
   "language": "python",
   "name": "python3"
  },
  "language_info": {
   "codemirror_mode": {
    "name": "ipython",
    "version": 3
   },
   "file_extension": ".py",
   "mimetype": "text/x-python",
   "name": "python",
   "nbconvert_exporter": "python",
   "pygments_lexer": "ipython3",
   "version": "3.10.9"
  }
 },
 "nbformat": 4,
 "nbformat_minor": 5
}
