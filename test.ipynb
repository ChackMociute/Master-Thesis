{
 "cells": [
  {
   "cell_type": "code",
   "execution_count": 6,
   "id": "524ada67-83ee-43c8-bdc4-5667d90593e5",
   "metadata": {
    "tags": []
   },
   "outputs": [],
   "source": [
    "import numpy as np\n",
    "import matplotlib.pyplot as plt"
   ]
  },
  {
   "cell_type": "code",
   "execution_count": 202,
   "id": "a115722a-7359-4c57-9c61-6f584a4de6e0",
   "metadata": {
    "tags": []
   },
   "outputs": [
    {
     "data": {
      "text/plain": [
       "array([[ 1.00000000e+00,  1.72120245e+00,  1.99918900e+00, ...,\n",
       "         8.11001828e-04,  2.78797553e-01,  1.00000000e+00],\n",
       "       [ 6.92724354e-01,  1.41392680e+00,  1.69191335e+00, ...,\n",
       "        -3.06464645e-01, -2.84780938e-02,  6.92724354e-01],\n",
       "       [-4.02659401e-02,  6.80936507e-01,  9.58923058e-01, ...,\n",
       "        -1.03945494e+00, -7.61468387e-01, -4.02659401e-02],\n",
       "       ...,\n",
       "       [-4.02659401e-02,  6.80936507e-01,  9.58923058e-01, ...,\n",
       "        -1.03945494e+00, -7.61468387e-01, -4.02659401e-02],\n",
       "       [ 6.92724354e-01,  1.41392680e+00,  1.69191335e+00, ...,\n",
       "        -3.06464645e-01, -2.84780938e-02,  6.92724354e-01],\n",
       "       [ 1.00000000e+00,  1.72120245e+00,  1.99918900e+00, ...,\n",
       "         8.11001828e-04,  2.78797553e-01,  1.00000000e+00]])"
      ]
     },
     "execution_count": 202,
     "metadata": {},
     "output_type": "execute_result"
    }
   ],
   "source": [
    "np.tile(np.sin(np.linspace(0, to, n)), (n, 1)) + np.tile(np.cos(np.linspace(0, to, n)), (n, 1)).T"
   ]
  },
  {
   "cell_type": "code",
   "execution_count": 211,
   "id": "a004091d-d183-4b78-9921-ee0fc5d85c8b",
   "metadata": {
    "tags": []
   },
   "outputs": [
    {
     "data": {
      "image/png": "[encoded data removed]",
      "text/plain": [
       "<Figure size 640x480 with 4 Axes>"
      ]
     },
     "metadata": {},
     "output_type": "display_data"
    }
   ],
   "source": [
    "# inv = np.zeros((11, 11))\n",
    "# inv[::2,:] = 1\n",
    "# inv[:,::2] = 1\n",
    "n = 40\n",
    "to = np.pi * 10\n",
    "# inv = np.tile(np.sin(np.linspace(0, to, n)), (n, 1))\n",
    "inv = np.tile(np.sin(np.linspace(0, to, n)), (n, 1)) + np.tile(np.sin(np.linspace(0, to, n)), (n, 1)).T\n",
    "t = np.fft.fft2(inv)\n",
    "inv = np.fft.ifft2(t)\n",
    "\n",
    "_, [[a1, a2], [a3, a4]] = plt.subplots(2, 2)\n",
    "a1.imshow(t.real, cmap='gray')\n",
    "a1.axis(\"off\")\n",
    "a2.imshow(t.imag, cmap='gray')\n",
    "a2.axis(\"off\")\n",
    "a3.imshow(inv.real, cmap='gray')\n",
    "a3.axis(\"off\")\n",
    "a4.imshow(inv.imag, cmap='gray')\n",
    "a4.axis(\"off\")\n",
    "plt.show()"
   ]
  },
  {
   "cell_type": "code",
   "execution_count": 153,
   "id": "f14067e5-ed89-4d8c-879d-579455771f7f",
   "metadata": {
    "tags": []
   },
   "outputs": [
    {
     "data": {
      "image/png": "[encoded data removed]",
      "text/plain": [
       "<Figure size 640x480 with 4 Axes>"
      ]
     },
     "metadata": {},
     "output_type": "display_data"
    }
   ],
   "source": [
    "t = np.zeros((11, 11), dtype=np.complex64)\n",
    "t[0, 0] = 1\n",
    "# t[3, 6] = 1\n",
    "inv = np.fft.ifft2(t)\n",
    "\n",
    "\n",
    "_, [[a1, a2], [a3, a4]] = plt.subplots(2, 2)\n",
    "a1.imshow(t.real, cmap='gray')\n",
    "a1.axis(\"off\")\n",
    "a2.imshow(t.imag, cmap='gray')\n",
    "a2.axis(\"off\")\n",
    "a3.imshow(inv.real, cmap='gray')\n",
    "a3.axis(\"off\")\n",
    "a4.imshow(inv.imag, cmap='gray')\n",
    "a4.axis(\"off\")\n",
    "plt.show()"
   ]
  }
 ],
 "metadata": {
  "kernelspec": {
   "display_name": "Python 3 (ipykernel)",
   "language": "python",
   "name": "python3"
  },
  "language_info": {
   "codemirror_mode": {
    "name": "ipython",
    "version": 3
   },
   "file_extension": ".py",
   "mimetype": "text/x-python",
   "name": "python",
   "nbconvert_exporter": "python",
   "pygments_lexer": "ipython3",
   "version": "3.11.3"
  }
 },
 "nbformat": 4,
 "nbformat_minor": 5
}
