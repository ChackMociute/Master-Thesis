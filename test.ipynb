{
 "cells": [
  {
   "cell_type": "markdown",
   "id": "543fb2d7-6701-456a-bd76-d4c6511f0331",
   "metadata": {},
   "source": [
    "# Supervised nonsense"
   ]
  },
  {
   "cell_type": "code",
   "execution_count": 1,
   "id": "893e8b6f-1db7-4eb4-b7c6-46e3dccd08e1",
   "metadata": {
    "tags": []
   },
   "outputs": [],
   "source": [
    "import numpy as np\n",
    "import torch\n",
    "import torch.nn as nn\n",
    "import matplotlib.pyplot as plt\n",
    "\n",
    "from torch.optim import Adam\n",
    "from abc import ABC, abstractmethod\n",
    "from random import choice\n",
    "from sklearn.preprocessing import OneHotEncoder\n",
    "from tqdm import tqdm\n",
    "\n",
    "\n",
    "device = torch.device('cuda' if torch.cuda.is_available else 'cpu')"
   ]
  },
  {
   "cell_type": "code",
   "execution_count": 2,
   "id": "56de9e4b-070d-4cd3-b23b-4861c92b57a6",
   "metadata": {
    "tags": []
   },
   "outputs": [],
   "source": [
    "class Environment(ABC):\n",
    "    @abstractmethod\n",
    "    def next_state(self):\n",
    "        ...\n",
    "    \n",
    "    @abstractmethod\n",
    "    def reset(self):\n",
    "        ..."
   ]
  },
  {
   "cell_type": "code",
   "execution_count": 3,
   "id": "3407a39d-1ef2-4a1f-b960-e3c19e7cfa46",
   "metadata": {
    "tags": []
   },
   "outputs": [],
   "source": [
    "class GridWorld(Environment):\n",
    "    VELOCITIES = [-1, 0, 1]\n",
    "    \n",
    "    def __init__(self, x, y):\n",
    "        assert x >= 2 and y >= 2, f\"GridWorld must be at least 2x2, got {x}x{y}\"\n",
    "        assert isinstance(x, int) and isinstance(y, int), f\"Dimensions must be integers, got type(x)={type(x)} and type(y)={type(y)}\"\n",
    "        self.states = np.arange(x*y).reshape(x, y)\n",
    "        self.reset()\n",
    "    \n",
    "    def reset(self):\n",
    "        self.state = np.random.choice(self.states.flatten())\n",
    "    \n",
    "    def next_state(self):\n",
    "        x, y = np.where(self.states == self.state)\n",
    "        vx, vy = self.possible_velocity(x.item(), y.item())\n",
    "        x += vx\n",
    "        y += vy\n",
    "        self.state = self.states[x, y].item()\n",
    "    \n",
    "    def possible_velocity(self, x, y):\n",
    "        vx = choice(self.VELOCITIES[int(x == 0):-1 if x == self.states.shape[0] - 1 else len(self.VELOCITIES)])\n",
    "        vy = choice(self.VELOCITIES[int(y == 0):-1 if y == self.states.shape[1] - 1 else len(self.VELOCITIES)])\n",
    "        return vx, vy"
   ]
  },
  {
   "cell_type": "code",
   "execution_count": 4,
   "id": "1f9bbe27-a756-47b7-9c45-8dea88a2eb2e",
   "metadata": {
    "tags": []
   },
   "outputs": [],
   "source": [
    "class ToroidalGridWorld(GridWorld):\n",
    "    def next_state(self):\n",
    "        old = self.state\n",
    "        x, y = np.where(self.states == old)\n",
    "        vx, vy = self.possible_velocity()\n",
    "        x = (x + vx) % self.states.shape[0]\n",
    "        y = (y + vy) % self.states.shape[1]\n",
    "        self.state = self.states[x, y].item()\n",
    "        return old, vx, vy, self.state\n",
    "    \n",
    "    def possible_velocity(self):\n",
    "        return choice(self.VELOCITIES), choice(self.VELOCITIES)"
   ]
  },
  {
   "cell_type": "code",
   "execution_count": 5,
   "id": "3f3e18b3-e3a2-4f4b-8c4b-0598a2bebfad",
   "metadata": {
    "tags": []
   },
   "outputs": [],
   "source": [
    "# Net types: 'conv' or 'lin'\n",
    "def generate_data(x, y, size=10000, net_type='conv'):\n",
    "    allowed = ['conv', 'lin']\n",
    "    assert net_type in allowed, f\"Network type must be one of {allowed}. Got {net_type}\"\n",
    "    \n",
    "    data = np.asarray([ToroidalGridWorld(x, y).next_state() for _ in range(size)])\n",
    "    data, targets = data[:,:3], data[:,3]\n",
    "    \n",
    "    data = process_data_for_conv(data, x, y) if net_type == 'conv' \\\n",
    "        else np.hstack([encode(data[:,0]).toarray(), data[:,1:]])\n",
    "    \n",
    "    return data, targets\n",
    "    \n",
    "\n",
    "def encode(x):\n",
    "    return OneHotEncoder().fit_transform(x.reshape(-1, 1))\n",
    "\n",
    "def process_data_for_conv(data, x, y):\n",
    "    t = encode(data[:,0]).toarray().reshape(-1, x, y)\n",
    "    velocity = np.zeros(list(t.shape) + [2])\n",
    "    velocity[t.astype(bool)] = data[:,[1,2]]\n",
    "    t = np.concatenate([np.expand_dims(t, -1), velocity], axis=-1)\n",
    "    t = np.concatenate([t[:,:,[-1]], t, t[:,:,[0]]], axis=2)\n",
    "    t = np.concatenate([t[:,[-1],:], t, t[:,[0],:]], axis=1)\n",
    "    return np.moveaxis(t, -1, 1)\n",
    "\n",
    "def get_batch_indices(size, bs):\n",
    "    return np.split(np.random.permutation(np.arange(size)), range(bs, size, bs))\n",
    "\n",
    "def evaluate(net, x, y, size=10000, net_type='conv', verbose=False):\n",
    "    data, targets = generate_data(x, y, size=size, net_type=net_type)\n",
    "    \n",
    "    pred = net(torch.tensor(data, device=device, dtype=torch.float32))\n",
    "    target = torch.tensor(targets, device=device, dtype=torch.long)\n",
    "    loss = criterion(pred, target).detach().cpu().item()\n",
    "    if verbose: print(loss)\n",
    "    return loss\n",
    "\n",
    "def train(net, optim, data, targets, epochs, x, y, bs=64, net_type='conv', verbose=False):\n",
    "    for e in tqdm(range(epochs), disable=verbose):\n",
    "        for bidx in tqdm(get_batch_indices(len(data), bs), disable=not verbose):\n",
    "            net.zero_grad()\n",
    "            pred = net(torch.tensor(data[bidx], device=device, dtype=torch.float32))\n",
    "            target = torch.tensor(targets[bidx], device=device, dtype=torch.long)\n",
    "            loss = criterion(pred, target)\n",
    "            loss.backward()\n",
    "            optim.step()\n",
    "        yield evaluate(net, x, y, net_type=net_type, verbose=verbose)"
   ]
  },
  {
   "cell_type": "code",
   "execution_count": 6,
   "id": "e6968556-ffb1-4afd-bfca-5ca8f86f9390",
   "metadata": {},
   "outputs": [],
   "source": [
    "x, y = 5, 5\n",
    "size = 100000\n",
    "bs = 256\n",
    "EPOCHS = 30"
   ]
  },
  {
   "cell_type": "code",
   "execution_count": 7,
   "id": "b809696c-7f70-4d05-a932-e4dde398d2f3",
   "metadata": {},
   "outputs": [],
   "source": [
    "perceptron = nn.Linear(x * y + 2, x * y).to(device)\n",
    "conv = nn.Sequential(\n",
    "    nn.Conv2d(3, 1, 3, stride=1),\n",
    "    nn.Flatten()\n",
    ").to(device)\n",
    "\n",
    "optim_p = Adam([p for p in perceptron.parameters()], lr=3e-3)\n",
    "optim_c = Adam([p for p in conv.parameters()], lr=3e-3)\n",
    "criterion = nn.CrossEntropyLoss()"
   ]
  },
  {
   "cell_type": "code",
   "execution_count": 8,
   "id": "937a2de2-0596-4412-9996-a70fb03f404c",
   "metadata": {
    "tags": []
   },
   "outputs": [
    {
     "name": "stderr",
     "output_type": "stream",
     "text": [
      "100%|██████████████████████████████████████████████████████████████████████████████████| 30/30 [00:42<00:00,  1.42s/it]\n"
     ]
    }
   ],
   "source": [
    "data, targets = generate_data(x, y, size=size)\n",
    "losses_c = [evaluate(conv, x, y)] + [l for l in train(conv, optim_c, data, targets, EPOCHS, x, y, bs)]"
   ]
  },
  {
   "cell_type": "code",
   "execution_count": 9,
   "id": "32c0bd55-50ce-40c2-925d-27a7109b0a36",
   "metadata": {
    "tags": []
   },
   "outputs": [
    {
     "name": "stderr",
     "output_type": "stream",
     "text": [
      "100%|██████████████████████████████████████████████████████████████████████████████████| 30/30 [00:30<00:00,  1.02s/it]\n"
     ]
    }
   ],
   "source": [
    "data, targets = generate_data(x, y, size=size, net_type='lin')\n",
    "losses_l = [evaluate(perceptron, x, y, net_type='lin')] + \\\n",
    "           [l for l in train(perceptron, optim_p, data, targets, EPOCHS, x, y, bs, 'lin')]"
   ]
  },
  {
   "cell_type": "code",
   "execution_count": 10,
   "id": "d0e4cb25-620b-423a-a38c-6b170aecea64",
   "metadata": {
    "tags": []
   },
   "outputs": [
    {
     "data": {
      "image/png": "[encoded data removed]",
      "text/plain": [
       "<Figure size 640x480 with 1 Axes>"
      ]
     },
     "metadata": {},
     "output_type": "display_data"
    }
   ],
   "source": [
    "plt.plot(losses_l, label=\"Linear\")\n",
    "plt.plot(losses_c, label=\"Convolutional\")\n",
    "plt.legend()\n",
    "plt.show()"
   ]
  },
  {
   "cell_type": "raw",
   "id": "bd9195e4-dcf6-4983-90d0-2a86318716a1",
   "metadata": {
    "tags": []
   },
   "source": [
    "i = choice(range(len(data)))\n",
    "print(data[:,:-2].reshape(-1, 5, 5)[i])\n",
    "print(data[i,-2:])\n",
    "print(targets[i])"
   ]
  },
  {
   "cell_type": "raw",
   "id": "ec5261ca-6870-4751-97ce-0ee0d5913db5",
   "metadata": {
    "tags": []
   },
   "source": [
    "perceptron = nn.Linear(x * y + 2, x * y).to(device)\n",
    "optim = Adam([p for p in perceptron.parameters()], lr=3e-3)\n",
    "criterion = nn.CrossEntropyLoss()\n",
    "\n",
    "bs = 64\n",
    "losses = []\n",
    "\n",
    "for _ in range(100):\n",
    "    data, targets = generate_data(x, y, net_type='lin')\n",
    "    for bidx in get_batch_indices(len(data), bs):\n",
    "        perceptron.zero_grad()\n",
    "        pred = perceptron(torch.tensor(data[bidx], device=device, dtype=torch.float32))\n",
    "        target = torch.tensor(targets[bidx], device=device, dtype=torch.long)\n",
    "        loss = criterion(pred, target)\n",
    "        loss.backward()\n",
    "        optim.step()\n",
    "    losses.append(evaluate(perceptron, x, y, net_type='lin', verbose=True))\n",
    "\n",
    "plt.plot(losses)"
   ]
  },
  {
   "cell_type": "code",
   "execution_count": 202,
   "id": "a115722a-7359-4c57-9c61-6f584a4de6e0",
   "metadata": {
    "tags": []
   },
   "outputs": [
    {
     "data": {
      "text/plain": [
       "array([[ 1.00000000e+00,  1.72120245e+00,  1.99918900e+00, ...,\n",
       "         8.11001828e-04,  2.78797553e-01,  1.00000000e+00],\n",
       "       [ 6.92724354e-01,  1.41392680e+00,  1.69191335e+00, ...,\n",
       "        -3.06464645e-01, -2.84780938e-02,  6.92724354e-01],\n",
       "       [-4.02659401e-02,  6.80936507e-01,  9.58923058e-01, ...,\n",
       "        -1.03945494e+00, -7.61468387e-01, -4.02659401e-02],\n",
       "       ...,\n",
       "       [-4.02659401e-02,  6.80936507e-01,  9.58923058e-01, ...,\n",
       "        -1.03945494e+00, -7.61468387e-01, -4.02659401e-02],\n",
       "       [ 6.92724354e-01,  1.41392680e+00,  1.69191335e+00, ...,\n",
       "        -3.06464645e-01, -2.84780938e-02,  6.92724354e-01],\n",
       "       [ 1.00000000e+00,  1.72120245e+00,  1.99918900e+00, ...,\n",
       "         8.11001828e-04,  2.78797553e-01,  1.00000000e+00]])"
      ]
     },
     "execution_count": 202,
     "metadata": {},
     "output_type": "execute_result"
    }
   ],
   "source": [
    "np.tile(np.sin(np.linspace(0, to, n)), (n, 1)) + np.tile(np.cos(np.linspace(0, to, n)), (n, 1)).T"
   ]
  },
  {
   "cell_type": "markdown",
   "id": "2d8e8650-0607-4d21-a04f-8c2c1d00a136",
   "metadata": {},
   "source": [
    "# 2D Fourier stuff"
   ]
  },
  {
   "cell_type": "code",
   "execution_count": 211,
   "id": "a004091d-d183-4b78-9921-ee0fc5d85c8b",
   "metadata": {
    "tags": []
   },
   "outputs": [
    {
     "data": {
      "image/png": "[encoded data removed]",
      "text/plain": [
       "<Figure size 640x480 with 4 Axes>"
      ]
     },
     "metadata": {},
     "output_type": "display_data"
    }
   ],
   "source": [
    "# inv = np.zeros((11, 11))\n",
    "# inv[::2,:] = 1\n",
    "# inv[:,::2] = 1\n",
    "n = 40\n",
    "to = np.pi * 10\n",
    "# inv = np.tile(np.sin(np.linspace(0, to, n)), (n, 1))\n",
    "inv = np.tile(np.sin(np.linspace(0, to, n)), (n, 1)) + np.tile(np.sin(np.linspace(0, to, n)), (n, 1)).T\n",
    "t = np.fft.fft2(inv)\n",
    "inv = np.fft.ifft2(t)\n",
    "\n",
    "_, [[a1, a2], [a3, a4]] = plt.subplots(2, 2)\n",
    "a1.imshow(t.real, cmap='gray')\n",
    "a1.axis(\"off\")\n",
    "a2.imshow(t.imag, cmap='gray')\n",
    "a2.axis(\"off\")\n",
    "a3.imshow(inv.real, cmap='gray')\n",
    "a3.axis(\"off\")\n",
    "a4.imshow(inv.imag, cmap='gray')\n",
    "a4.axis(\"off\")\n",
    "plt.show()"
   ]
  },
  {
   "cell_type": "code",
   "execution_count": 153,
   "id": "f14067e5-ed89-4d8c-879d-579455771f7f",
   "metadata": {
    "tags": []
   },
   "outputs": [
    {
     "data": {
      "image/png": "[encoded data removed]",
      "text/plain": [
       "<Figure size 640x480 with 4 Axes>"
      ]
     },
     "metadata": {},
     "output_type": "display_data"
    }
   ],
   "source": [
    "t = np.zeros((11, 11), dtype=np.complex64)\n",
    "t[0, 0] = 1\n",
    "# t[3, 6] = 1\n",
    "inv = np.fft.ifft2(t)\n",
    "\n",
    "\n",
    "_, [[a1, a2], [a3, a4]] = plt.subplots(2, 2)\n",
    "a1.imshow(t.real, cmap='gray')\n",
    "a1.axis(\"off\")\n",
    "a2.imshow(t.imag, cmap='gray')\n",
    "a2.axis(\"off\")\n",
    "a3.imshow(inv.real, cmap='gray')\n",
    "a3.axis(\"off\")\n",
    "a4.imshow(inv.imag, cmap='gray')\n",
    "a4.axis(\"off\")\n",
    "plt.show()"
   ]
  }
 ],
 "metadata": {
  "kernelspec": {
   "display_name": "Python 3 (ipykernel)",
   "language": "python",
   "name": "python3"
  },
  "language_info": {
   "codemirror_mode": {
    "name": "ipython",
    "version": 3
   },
   "file_extension": ".py",
   "mimetype": "text/x-python",
   "name": "python",
   "nbconvert_exporter": "python",
   "pygments_lexer": "ipython3",
   "version": "3.11.3"
  }
 },
 "nbformat": 4,
 "nbformat_minor": 5
}
