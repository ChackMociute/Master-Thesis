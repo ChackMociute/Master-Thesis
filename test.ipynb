{
 "cells": [
  {
   "cell_type": "markdown",
   "id": "c6f39fd9-6d47-47f7-8f75-beb0a31ebf2d",
   "metadata": {},
   "source": [
    "# Thesis"
   ]
  },
  {
   "cell_type": "code",
   "execution_count": 1,
   "id": "ae95759a-0581-491b-90c5-7b21e24fa569",
   "metadata": {
    "tags": []
   },
   "outputs": [],
   "source": [
    "import numpy as np\n",
    "import torch\n",
    "import torch.nn as nn\n",
    "import matplotlib.pyplot as plt\n",
    "\n",
    "from torch.optim import Adam\n",
    "from abc import ABC, abstractmethod\n",
    "from random import choice\n",
    "from sklearn.preprocessing import OneHotEncoder\n",
    "from tqdm import tqdm\n",
    "\n",
    "\n",
    "device = torch.device('cuda' if torch.cuda.is_available else 'cpu')"
   ]
  },
  {
   "cell_type": "code",
   "execution_count": 2,
   "id": "e7c5b11b-a096-450c-92d4-14a9566ac176",
   "metadata": {
    "tags": []
   },
   "outputs": [],
   "source": [
    "class Environment(ABC):\n",
    "    @abstractmethod\n",
    "    def next_state(self):\n",
    "        ...\n",
    "    \n",
    "    @abstractmethod\n",
    "    def reset(self):\n",
    "        ..."
   ]
  },
  {
   "cell_type": "code",
   "execution_count": 3,
   "id": "054ca446-d595-446a-9235-3cef397e17cc",
   "metadata": {
    "tags": []
   },
   "outputs": [],
   "source": [
    "class GridWorld(Environment):\n",
    "    VELOCITIES = [-1, 0, 1]\n",
    "    \n",
    "    def __init__(self, x, y):\n",
    "        assert x >= 2 and y >= 2, f\"GridWorld must be at least 2x2, got {x}x{y}\"\n",
    "        assert isinstance(x, int) and isinstance(y, int), f\"Dimensions must be integers, got type(x)={type(x)} and type(y)={type(y)}\"\n",
    "        self.states = np.arange(x*y).reshape(x, y)\n",
    "        self.reset()\n",
    "    \n",
    "    def reset(self):\n",
    "        self.state = np.random.choice(self.states.flatten())\n",
    "    \n",
    "    def next_state(self):\n",
    "        x, y = np.where(self.states == self.state)\n",
    "        vx, vy = self.possible_velocity(x.item(), y.item())\n",
    "        x += vx\n",
    "        y += vy\n",
    "        self.state = self.states[x, y].item()\n",
    "    \n",
    "    def possible_velocity(self, x, y):\n",
    "        vx = choice(self.VELOCITIES[int(x == 0):-1 if x == self.states.shape[0] - 1 else len(self.VELOCITIES)])\n",
    "        vy = choice(self.VELOCITIES[int(y == 0):-1 if y == self.states.shape[1] - 1 else len(self.VELOCITIES)])\n",
    "        return vx, vy"
   ]
  },
  {
   "cell_type": "code",
   "execution_count": 4,
   "id": "4283256e-c614-4b91-af50-ff77e7b05eab",
   "metadata": {
    "tags": []
   },
   "outputs": [],
   "source": [
    "class ToroidalGridWorld(GridWorld):\n",
    "    def next_state(self):\n",
    "        old = self.state\n",
    "        x, y = np.where(self.states == old)\n",
    "        vx, vy = self.possible_velocity()\n",
    "        x = (x + vx) % self.states.shape[0]\n",
    "        y = (y + vy) % self.states.shape[1]\n",
    "        self.state = self.states[x, y].item()\n",
    "        return old, vx, vy, self.state\n",
    "    \n",
    "    def possible_velocity(self):\n",
    "        return choice(self.VELOCITIES), choice(self.VELOCITIES)"
   ]
  },
  {
   "cell_type": "code",
   "execution_count": 5,
   "id": "7b3f9771-9025-4d8d-91cc-64dce071c327",
   "metadata": {
    "tags": []
   },
   "outputs": [],
   "source": [
    "# Net types: 'conv' or 'lin'\n",
    "def generate_data(x, y, size=10000, net_type='conv'):\n",
    "    allowed = ['conv', 'lin']\n",
    "    assert net_type in allowed, f\"Network type must be one of {allowed}. Got {net_type}\"\n",
    "    \n",
    "    data = np.asarray([ToroidalGridWorld(x, y).next_state() for _ in range(size)])\n",
    "    data, targets = data[:,:3], data[:,3]\n",
    "    \n",
    "    data = process_data_for_conv(data, x, y) if net_type == 'conv' \\\n",
    "        else np.hstack([encode(data[:,0]).toarray(), data[:,1:]])\n",
    "    \n",
    "    return data, targets\n",
    "    \n",
    "\n",
    "def encode(x):\n",
    "    return OneHotEncoder().fit_transform(x.reshape(-1, 1))\n",
    "\n",
    "def process_data_for_conv(data, x, y):\n",
    "    t = encode(data[:,0]).toarray().reshape(-1, x, y)\n",
    "    velocity = np.zeros(list(t.shape) + [2])\n",
    "    velocity[t.astype(bool)] = data[:,[1,2]]\n",
    "    t = np.concatenate([np.expand_dims(t, -1), velocity], axis=-1)\n",
    "    t = np.concatenate([t[:,:,[-1]], t, t[:,:,[0]]], axis=2)\n",
    "    t = np.concatenate([t[:,[-1],:], t, t[:,[0],:]], axis=1)\n",
    "    return np.moveaxis(t, -1, 1)\n",
    "\n",
    "def get_batch_indices(size, bs):\n",
    "    return np.split(np.random.permutation(np.arange(size)), range(bs, size, bs))\n",
    "\n",
    "def evaluate(net, x, y, size=10000, net_type='conv', verbose=False):\n",
    "    data, targets = generate_data(x, y, size=size, net_type=net_type)\n",
    "    \n",
    "    pred = net(torch.tensor(data, device=device, dtype=torch.float32))\n",
    "    target = torch.tensor(targets, device=device, dtype=torch.long)\n",
    "    loss = criterion(pred, target).detach().cpu().item()\n",
    "    if verbose: print(loss)\n",
    "    return loss\n",
    "\n",
    "def train(net, optim, data, targets, epochs, x, y, bs=64, net_type='conv', verbose=False):\n",
    "    for e in tqdm(range(epochs), disable=verbose):\n",
    "        for bidx in tqdm(get_batch_indices(len(data), bs), disable=not verbose):\n",
    "            net.zero_grad()\n",
    "            pred = net(torch.tensor(data[bidx], device=device, dtype=torch.float32))\n",
    "            target = torch.tensor(targets[bidx], device=device, dtype=torch.long)\n",
    "            loss = criterion(pred, target)\n",
    "            loss.backward()\n",
    "            optim.step()\n",
    "        yield evaluate(net, x, y, net_type=net_type, verbose=verbose)"
   ]
  },
  {
   "cell_type": "code",
   "execution_count": 6,
   "id": "7c36563c-6592-48ef-a549-6432b0efd13b",
   "metadata": {},
   "outputs": [],
   "source": [
    "x, y = 5, 5\n",
    "size = 100000\n",
    "bs = 256\n",
    "EPOCHS = 30"
   ]
  },
  {
   "cell_type": "code",
   "execution_count": 7,
   "id": "bfda628f-62c6-4c85-b429-5bfd36e28d0f",
   "metadata": {},
   "outputs": [],
   "source": [
    "perceptron = nn.Linear(x * y + 2, x * y).to(device)\n",
    "conv = nn.Sequential(\n",
    "    nn.Conv2d(3, 1, 3, stride=1),\n",
    "    nn.Flatten()\n",
    ").to(device)\n",
    "\n",
    "optim_p = Adam([p for p in perceptron.parameters()], lr=3e-3)\n",
    "optim_c = Adam([p for p in conv.parameters()], lr=3e-3)\n",
    "criterion = nn.CrossEntropyLoss()"
   ]
  },
  {
   "cell_type": "code",
   "execution_count": 8,
   "id": "23af4fa6-7761-4b4f-9f3f-0e8fd8061778",
   "metadata": {
    "tags": []
   },
   "outputs": [
    {
     "name": "stderr",
     "output_type": "stream",
     "text": [
      "100%|██████████████████████████████████████████████████████████████████████████████████| 30/30 [00:41<00:00,  1.39s/it]\n"
     ]
    }
   ],
   "source": [
    "data, targets = generate_data(x, y, size=size)\n",
    "losses_c = [evaluate(conv, x, y)] + [l for l in train(conv, optim_c, data, targets, EPOCHS, x, y, bs)]"
   ]
  },
  {
   "cell_type": "code",
   "execution_count": 9,
   "id": "6bde49ad-16d1-418c-8e49-e26496d51027",
   "metadata": {
    "tags": []
   },
   "outputs": [
    {
     "name": "stderr",
     "output_type": "stream",
     "text": [
      "100%|██████████████████████████████████████████████████████████████████████████████████| 30/30 [00:28<00:00,  1.04it/s]\n"
     ]
    }
   ],
   "source": [
    "data, targets = generate_data(x, y, size=size, net_type='lin')\n",
    "losses_l = [evaluate(perceptron, x, y, net_type='lin')] + \\\n",
    "           [l for l in train(perceptron, optim_p, data, targets, EPOCHS, x, y, bs, 'lin')]"
   ]
  },
  {
   "cell_type": "code",
   "execution_count": 11,
   "id": "406d8080-efbe-4cdc-9029-6b2585b20c2a",
   "metadata": {
    "tags": []
   },
   "outputs": [
    {
     "data": {
      "image/png": "[encoded data removed]",
      "text/plain": [
       "<Figure size 640x480 with 1 Axes>"
      ]
     },
     "metadata": {},
     "output_type": "display_data"
    }
   ],
   "source": [
    "plt.plot(losses_l, label=\"Linear\")\n",
    "plt.plot(losses_c, label=\"Convolutional\")\n",
    "plt.legend()\n",
    "plt.show()"
   ]
  },
  {
   "cell_type": "raw",
   "id": "572ebecc-51db-4832-ab70-3a8a3c84b233",
   "metadata": {
    "tags": []
   },
   "source": [
    "i = choice(range(len(data)))\n",
    "print(data[:,:-2].reshape(-1, 5, 5)[i])\n",
    "print(data[i,-2:])\n",
    "print(targets[i])"
   ]
  },
  {
   "cell_type": "raw",
   "id": "4e439ccc-efe9-41af-ac7f-6cf807f42a92",
   "metadata": {
    "tags": []
   },
   "source": [
    "perceptron = nn.Linear(x * y + 2, x * y).to(device)\n",
    "optim = Adam([p for p in perceptron.parameters()], lr=3e-3)\n",
    "criterion = nn.CrossEntropyLoss()\n",
    "\n",
    "bs = 64\n",
    "losses = []\n",
    "\n",
    "for _ in range(100):\n",
    "    data, targets = generate_data(x, y, net_type='lin')\n",
    "    for bidx in get_batch_indices(len(data), bs):\n",
    "        perceptron.zero_grad()\n",
    "        pred = perceptron(torch.tensor(data[bidx], device=device, dtype=torch.float32))\n",
    "        target = torch.tensor(targets[bidx], device=device, dtype=torch.long)\n",
    "        loss = criterion(pred, target)\n",
    "        loss.backward()\n",
    "        optim.step()\n",
    "    losses.append(evaluate(perceptron, x, y, net_type='lin', verbose=True))\n",
    "\n",
    "plt.plot(losses)"
   ]
  }
 ],
 "metadata": {
  "kernelspec": {
   "display_name": "Python 3 (ipykernel)",
   "language": "python",
   "name": "python3"
  },
  "language_info": {
   "codemirror_mode": {
    "name": "ipython",
    "version": 3
   },
   "file_extension": ".py",
   "mimetype": "text/x-python",
   "name": "python",
   "nbconvert_exporter": "python",
   "pygments_lexer": "ipython3",
   "version": "3.11.3"
  }
 },
 "nbformat": 4,
 "nbformat_minor": 5
}
