{
 "cells": [
  {
   "cell_type": "code",
   "execution_count": 15,
   "id": "52ac6513-ac02-4a5c-9867-342836c5f2c2",
   "metadata": {
    "tags": []
   },
   "outputs": [],
   "source": [
    "import numpy as np\n",
    "import torch\n",
    "import torch.nn as nn\n",
    "import matplotlib.pyplot as plt\n",
    "\n",
    "from torch.optim import Adam\n",
    "from grid_cells import GridCells\n",
    "from utils import get_coords, to_tensor, get_loc_batch\n",
    "from agent import RMSprop\n",
    "from tqdm import tqdm"
   ]
  },
  {
   "cell_type": "code",
   "execution_count": 2,
   "id": "c60ce55d-ab23-473f-971c-418c15b9073f",
   "metadata": {
    "tags": []
   },
   "outputs": [],
   "source": [
    "def eval_position(agent, size=4096):\n",
    "    losses = list()\n",
    "    for _ in range(size // 256):\n",
    "        x, y = get_loc_batch(c, gc, bs=256)\n",
    "        x = agent.actor(x)[1]\n",
    "        loss = torch.sum((x - y)**2).detach().cpu().numpy()\n",
    "        losses.append(loss)\n",
    "    return np.mean(losses)"
   ]
  },
  {
   "cell_type": "code",
   "execution_count": 3,
   "id": "bb56fec4-c7fb-49a2-ae1d-3540fe63a7bc",
   "metadata": {
    "tags": []
   },
   "outputs": [],
   "source": [
    "resolution = 400\n",
    "MIN, MAX = -1, 1\n",
    "N = 100\n",
    "scales = np.linspace(90, 300, 10, dtype=int)\n",
    "\n",
    "coords = get_coords(resolution, MIN, MAX)\n",
    "gcs = GridCells(scales, n_per_module=N, res=resolution)\n",
    "gcs.reset_modules(1)\n",
    "gcs.compile_numpy()\n",
    "grid_cells = gcs.grid_cells.transpose(1, 2, 0)\n",
    "c, gc = to_tensor(coords), to_tensor(grid_cells)"
   ]
  },
  {
   "cell_type": "code",
   "execution_count": 42,
   "id": "a6ad06a4-cd1b-499e-a753-f3488ddd80cf",
   "metadata": {
    "tags": []
   },
   "outputs": [],
   "source": [
    "hidden = 500\n",
    "wd_l1 = 1e-4\n",
    "agent = Agent(grid_cells.shape[-1], 2, actor_hidden=hidden, lr_a=1e-4)\n",
    "net = agent.actor\n",
    "optim = RMSprop([p for p in net.parameters()], lr=1e-4)"
   ]
  },
  {
   "cell_type": "raw",
   "id": "26e4b8d4-3294-4f56-b9a5-635f3cce5a3f",
   "metadata": {
    "tags": []
   },
   "source": [
    "for p in net.parameters():\n",
    "    print(p.abs().sum())#.view(-1, p.shape[-1]).abs().sum(1).mean())"
   ]
  },
  {
   "cell_type": "raw",
   "id": "104e6af7-d7c5-40b0-8032-0b6203b7aed7",
   "metadata": {
    "tags": []
   },
   "source": [
    "with torch.no_grad():\n",
    "    net.lin1.weight *= 25"
   ]
  },
  {
   "cell_type": "raw",
   "id": "93ec7533-c798-4972-b8a4-89176da90161",
   "metadata": {
    "tags": []
   },
   "source": [
    "net.transform_weights(net.lin1.weight).mean()"
   ]
  },
  {
   "cell_type": "raw",
   "id": "f95d0a7d-8342-41f3-a6ff-d4504e225a99",
   "metadata": {
    "tags": []
   },
   "source": [
    "net.normalization_loss() * wd_l1"
   ]
  },
  {
   "cell_type": "code",
   "execution_count": 51,
   "id": "0e6c1f8f-99df-42a7-a36f-2581795b54ed",
   "metadata": {
    "tags": []
   },
   "outputs": [
    {
     "name": "stderr",
     "output_type": "stream",
     "text": [
      "100%|████████████████████████████████████████████████████████████████████████████| 30000/30000 [11:42<00:00, 42.73it/s]\n"
     ]
    }
   ],
   "source": [
    "# losses = list()\n",
    "for _ in tqdm(range(30000)):\n",
    "    optim.zero_grad()\n",
    "    x, y = get_loc_batch(c, gc, bs=256)\n",
    "    _, pred, h = net(x)\n",
    "    loss = torch.sum((pred - y)**2, dim=-1).mean()\n",
    "    loss += torch.sum(h, dim=-1).mean() / 50\n",
    "    loss += net.normalization_loss() * wd_l1\n",
    "    loss.backward()\n",
    "    optim.step()\n",
    "    losses.append(loss.detach().cpu().item())"
   ]
  },
  {
   "cell_type": "code",
   "execution_count": null,
   "id": "b5959c82-9757-44bf-901b-a5b75e0eb70a",
   "metadata": {
    "tags": []
   },
   "outputs": [],
   "source": [
    "net.lin1.weight.exp()[0].sum()"
   ]
  },
  {
   "cell_type": "code",
   "execution_count": 61,
   "id": "775b3f28-69d7-4989-83c7-d7feeda3fb17",
   "metadata": {
    "tags": []
   },
   "outputs": [
    {
     "data": {
      "text/plain": [
       "tensor(0.1606, device='cuda:0', grad_fn=<MulBackward0>)"
      ]
     },
     "execution_count": 61,
     "metadata": {},
     "output_type": "execute_result"
    }
   ],
   "source": [
    "net.normalization_loss() * wd_l1"
   ]
  },
  {
   "cell_type": "code",
   "execution_count": 67,
   "id": "3e4e0f42-9599-4602-89a6-f9a95731434d",
   "metadata": {
    "tags": []
   },
   "outputs": [
    {
     "data": {
      "text/plain": [
       "tensor(3.2114, device='cuda:0', grad_fn=<MeanBackward0>)"
      ]
     },
     "execution_count": 67,
     "metadata": {},
     "output_type": "execute_result"
    }
   ],
   "source": [
    "net.lin1.bias.abs().mean()"
   ]
  },
  {
   "cell_type": "code",
   "execution_count": 53,
   "id": "ba26944a-84f3-4b77-a388-8b0e420ac685",
   "metadata": {
    "tags": []
   },
   "outputs": [
    {
     "data": {
      "text/plain": [
       "tensor(0.0002, device='cuda:0', grad_fn=<SumBackward0>)"
      ]
     },
     "execution_count": 53,
     "metadata": {},
     "output_type": "execute_result"
    }
   ],
   "source": [
    "net.transform_weights(net.lin1.weight).sum()"
   ]
  },
  {
   "cell_type": "code",
   "execution_count": 52,
   "id": "5a842778-014d-4cd5-82d7-6ffb1a8a33e8",
   "metadata": {
    "tags": []
   },
   "outputs": [
    {
     "name": "stdout",
     "output_type": "stream",
     "text": [
      "Position loss: 170.746\n"
     ]
    },
    {
     "data": {
      "image/png": "[encoded data removed]",
      "text/plain": [
       "<Figure size 640x480 with 1 Axes>"
      ]
     },
     "metadata": {},
     "output_type": "display_data"
    }
   ],
   "source": [
    "print(f\"Position loss: {eval_position(agent):.03f}\")\n",
    "plt.plot(losses)\n",
    "plt.show()"
   ]
  },
  {
   "cell_type": "raw",
   "id": "c78c3be0-d174-4a45-8984-c655d2b17bdd",
   "metadata": {
    "tags": []
   },
   "source": [
    "plt.contourf(grid_cells[:,:,-56], cmap='hot', levels=100)"
   ]
  },
  {
   "cell_type": "code",
   "execution_count": null,
   "id": "478dec98-79ed-4209-956e-5923a67af1f6",
   "metadata": {
    "tags": []
   },
   "outputs": [],
   "source": [
    "idx = net.lin2.weight[2:].detach().cpu().abs().argsort(dim=-1)[:,-5:].numpy() + [[0], [hidden]]\n",
    "print(net.lin2.weight[2:].detach().cpu().flatten()[idx.flatten()])"
   ]
  },
  {
   "cell_type": "raw",
   "id": "2bee90b0-a0c7-40d8-84d8-70ab65697ff3",
   "metadata": {
    "tags": []
   },
   "source": [
    "plt.hist(net.lin1.weight[0].detach().cpu(), histtype='barstacked')"
   ]
  },
  {
   "cell_type": "code",
   "execution_count": null,
   "id": "07a99adb-a8d9-4475-ad79-af6bce315925",
   "metadata": {
    "tags": []
   },
   "outputs": [],
   "source": [
    "_, axs = plt.subplots(2, 5, figsize=(15, 6))\n",
    "\n",
    "hidden = nn.functional.sigmoid(net.lin1(gc)).permute((-1, 0, 1)).detach().cpu().numpy()\n",
    "idx = net.lin2.weight[2:].detach().cpu().abs().argsort(dim=-1)[:,-5:]\n",
    "for img, ax in zip(hidden[idx.flatten()], axs.flatten()):\n",
    "    ax.contourf(img, levels=20, cmap='hot')\n",
    "    ax.axis('off')\n",
    "plt.tight_layout()\n",
    "plt.show()"
   ]
  },
  {
   "cell_type": "code",
   "execution_count": null,
   "id": "02da80c0-9b3f-4ce9-b999-72d006cae6e2",
   "metadata": {
    "tags": []
   },
   "outputs": [],
   "source": [
    "for img in hidden:\n",
    "    plt.contourf(img, levels=20, cmap='hot')\n",
    "    plt.axis('off')\n",
    "    plt.tight_layout()\n",
    "    plt.show()"
   ]
  },
  {
   "cell_type": "code",
   "execution_count": null,
   "id": "e45a7a73-b0da-48b0-9f19-4ae8b428e88b",
   "metadata": {},
   "outputs": [],
   "source": []
  }
 ],
 "metadata": {
  "kernelspec": {
   "display_name": "Python 3 (ipykernel)",
   "language": "python",
   "name": "python3"
  },
  "language_info": {
   "codemirror_mode": {
    "name": "ipython",
    "version": 3
   },
   "file_extension": ".py",
   "mimetype": "text/x-python",
   "name": "python",
   "nbconvert_exporter": "python",
   "pygments_lexer": "ipython3",
   "version": "3.11.3"
  }
 },
 "nbformat": 4,
 "nbformat_minor": 5
}
