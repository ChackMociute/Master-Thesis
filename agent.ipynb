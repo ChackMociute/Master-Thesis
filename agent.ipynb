{
 "cells": [
  {
   "cell_type": "markdown",
   "id": "c6f39fd9-6d47-47f7-8f75-beb0a31ebf2d",
   "metadata": {},
   "source": [
    "# Thesis"
   ]
  },
  {
   "cell_type": "code",
   "execution_count": 1,
   "id": "ae95759a-0581-491b-90c5-7b21e24fa569",
   "metadata": {
    "tags": []
   },
   "outputs": [],
   "source": [
    "import numpy as np\n",
    "import torch\n",
    "import torch.nn as nn\n",
    "import matplotlib.pyplot as plt\n",
    "\n",
    "from torch.optim import Adam\n",
    "from abc import ABC, abstractmethod\n",
    "from random import choice\n",
    "from sklearn.preprocessing import OneHotEncoder\n",
    "from tqdm import tqdm\n",
    "\n",
    "\n",
    "device = torch.device('cuda' if torch.cuda.is_available else 'cpu')"
   ]
  },
  {
   "cell_type": "code",
   "execution_count": 2,
   "id": "e7c5b11b-a096-450c-92d4-14a9566ac176",
   "metadata": {
    "tags": []
   },
   "outputs": [],
   "source": [
    "class Environment(ABC):\n",
    "    @abstractmethod\n",
    "    def next_state(self):\n",
    "        ...\n",
    "    \n",
    "    @abstractmethod\n",
    "    def reset(self):\n",
    "        ..."
   ]
  },
  {
   "cell_type": "code",
   "execution_count": 3,
   "id": "054ca446-d595-446a-9235-3cef397e17cc",
   "metadata": {
    "tags": []
   },
   "outputs": [],
   "source": [
    "class GridWorld(Environment):\n",
    "    VELOCITIES = [-1, 0, 1]\n",
    "    \n",
    "    def __init__(self, x, y):\n",
    "        assert x >= 2 and y >= 2, f\"GridWorld must be at least 2x2, got {x}x{y}\"\n",
    "        assert isinstance(x, int) and isinstance(y, int), f\"Dimensions must be integers, got type(x)={type(x)} and type(y)={type(y)}\"\n",
    "        self.states = np.arange(x*y).reshape(x, y)\n",
    "        self.reset()\n",
    "    \n",
    "    def reset(self):\n",
    "        self.state = np.random.choice(self.states.flatten())\n",
    "    \n",
    "    def next_state(self):\n",
    "        x, y = np.where(self.states == self.state)\n",
    "        vx, vy = self.possible_velocity(x.item(), y.item())\n",
    "        x += vx\n",
    "        y += vy\n",
    "        self.state = self.states[x, y].item()\n",
    "    \n",
    "    def possible_velocity(self, x, y):\n",
    "        vx = choice(self.VELOCITIES[int(x == 0):-1 if x == self.states.shape[0] - 1 else len(self.VELOCITIES)])\n",
    "        vy = choice(self.VELOCITIES[int(y == 0):-1 if y == self.states.shape[1] - 1 else len(self.VELOCITIES)])\n",
    "        return vx, vy"
   ]
  },
  {
   "cell_type": "code",
   "execution_count": 4,
   "id": "4283256e-c614-4b91-af50-ff77e7b05eab",
   "metadata": {
    "tags": []
   },
   "outputs": [],
   "source": [
    "class ToroidalGridWorld(GridWorld):\n",
    "    def next_state(self):\n",
    "        old = self.state\n",
    "        x, y = np.where(self.states == old)\n",
    "        vx, vy = self.possible_velocity()\n",
    "        x = (x + vx) % self.states.shape[0]\n",
    "        y = (y + vy) % self.states.shape[1]\n",
    "        self.state = self.states[x, y].item()\n",
    "        return old, vx, vy, self.state\n",
    "    \n",
    "    def possible_velocity(self):\n",
    "        return choice(self.VELOCITIES), choice(self.VELOCITIES)"
   ]
  },
  {
   "cell_type": "code",
   "execution_count": null,
   "id": "8e8fc37b-a14d-4fdd-a5a0-e8622f004c36",
   "metadata": {},
   "outputs": [],
   "source": [
    "class GridCellWorld(Environment):\n",
    "    def __init__(self, grid_cells, coords):\n",
    "        self.grid_cells = grid_cells\n",
    "        self.coords = coords\n",
    "    \n",
    "    def closest_coord_index(coord):\n",
    "        return np.unravel_index(np.abs(self.coords - coord).sum(axis=-1).argmin(), self.coords.shape[:2])"
   ]
  }
 ],
 "metadata": {
  "kernelspec": {
   "display_name": "Python 3 (ipykernel)",
   "language": "python",
   "name": "python3"
  },
  "language_info": {
   "codemirror_mode": {
    "name": "ipython",
    "version": 3
   },
   "file_extension": ".py",
   "mimetype": "text/x-python",
   "name": "python",
   "nbconvert_exporter": "python",
   "pygments_lexer": "ipython3",
   "version": "3.11.3"
  }
 },
 "nbformat": 4,
 "nbformat_minor": 5
}
