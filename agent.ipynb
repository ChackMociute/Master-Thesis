{
 "cells": [
  {
   "cell_type": "markdown",
   "id": "c6f39fd9-6d47-47f7-8f75-beb0a31ebf2d",
   "metadata": {},
   "source": [
    "# Thesis"
   ]
  },
  {
   "cell_type": "code",
   "execution_count": 1,
   "id": "33259c4b-da2e-4f9f-acc3-2daf6b91518d",
   "metadata": {
    "tags": []
   },
   "outputs": [],
   "source": [
    "import torch\n",
    "import numpy as np\n",
    "import matplotlib.pyplot as plt\n",
    "\n",
    "from grid_cells import get_grid_cells, purge_delinquent_cells\n",
    "from environment import GridCellWorld\n",
    "from utils import get_coords, to_tensor, device, get_loc_batch\n",
    "from agent import Agent\n",
    "from tqdm import tqdm"
   ]
  },
  {
   "cell_type": "code",
   "execution_count": 2,
   "id": "7f6b936d-491e-41ab-b17d-f3e4dc453bd4",
   "metadata": {
    "tags": []
   },
   "outputs": [],
   "source": [
    "def eval_locomotion(agent, env, n_ep=200, maxlen=50):\n",
    "    rewards, lengths = list(), list()\n",
    "    print(\"Starting evaluation\")\n",
    "    for _ in tqdm(range(n_ep)):\n",
    "        reward = list()\n",
    "        s = env.reset(end_radius=0.25)\n",
    "        step = 0\n",
    "        done = False\n",
    "        while not done and step < maxlen:\n",
    "            a = agent.choose_action(s, evaluate=True)\n",
    "            s_new, r, done = env.next_state(a)\n",
    "            s = s_new\n",
    "            step += 1\n",
    "            reward.append(r)\n",
    "        rewards.append(sum(reward))\n",
    "        lengths.append(step)\n",
    "    return sum(rewards) / len(rewards), sum(lengths) / len(lengths)\n",
    "\n",
    "def eval_position(agent, size=4096):\n",
    "    losses = list()\n",
    "    for _ in range(size // 256):\n",
    "        x, y = get_loc_batch(c, gc, bs=256)\n",
    "        x = agent.actor(x)[1]\n",
    "        loss = torch.sum((x - y)**2).detach().cpu().numpy()\n",
    "        losses.append(loss)\n",
    "    return np.mean(losses)"
   ]
  },
  {
   "cell_type": "code",
   "execution_count": 3,
   "id": "f862b533-9ee7-4f6c-94e2-5d569015c3c4",
   "metadata": {
    "tags": []
   },
   "outputs": [],
   "source": [
    "resolution = 400\n",
    "MIN, MAX = -1, 1\n",
    "N = 100\n",
    "bs=8\n",
    "actor_hidden=128\n",
    "critic_hidden=256\n",
    "lr_a=1e-4\n",
    "lr_c=1e-4\n",
    "grad_norm=0.2\n",
    "buffer_length=50"
   ]
  },
  {
   "cell_type": "code",
   "execution_count": 4,
   "id": "beb62acb-2818-4a44-8be6-c5bf65387ea4",
   "metadata": {
    "tags": []
   },
   "outputs": [],
   "source": [
    "coords = get_coords(resolution, MIN, MAX)\n",
    "# grid_cells = get_grid_cells(np.linspace(40, 150, 30), N, resolution)\n",
    "# grid_cells = purge_delinquent_cells(grid_cells)\n",
    "grid_cells = np.load(\"grid_cells.npy\")\n",
    "c, gc = to_tensor(coords), to_tensor(grid_cells[:,:,::4])"
   ]
  },
  {
   "cell_type": "code",
   "execution_count": 5,
   "id": "bb61bd4f-28a8-4911-b0c2-73a19be00d3b",
   "metadata": {
    "tags": []
   },
   "outputs": [],
   "source": [
    "env = GridCellWorld(gc, c, debug=False)\n",
    "agent = Agent(grid_cells.shape[-1] // 4, 2, action_amp=0.1,\n",
    "              bs=bs,\n",
    "              actor_hidden=actor_hidden,\n",
    "              critic_hidden=critic_hidden,\n",
    "              lr_a=lr_a,\n",
    "              lr_c=lr_c,\n",
    "              grad_norm=grad_norm,\n",
    "              buffer_length=buffer_length)\n",
    "# state_trans = torch.randn(2, 3000, device=device)"
   ]
  },
  {
   "cell_type": "raw",
   "id": "462dde4c-df09-4d61-9189-bb178c913dc9",
   "metadata": {},
   "source": [
    "%%timeit\n",
    "s, loc = env.reset(end_radius=0.25), env.state\n",
    "\n",
    "1.18 ms ± 17.2 µs per loop (mean ± std. dev. of 7 runs, 1,000 loops each)\n",
    "->\n",
    "667 µs ± 50.4 µs per loop (mean ± std. dev. of 7 runs, 1,000 loops each)"
   ]
  },
  {
   "cell_type": "raw",
   "id": "7227b34e-2918-43d0-b1e8-64492cc56252",
   "metadata": {},
   "source": [
    "%%timeit\n",
    "a = agent.choose_action(s)\n",
    "\n",
    "498 µs ± 36.5 µs per loop (mean ± std. dev. of 7 runs, 1,000 loops each)\n",
    "->\n",
    "370 µs ± 7.39 µs per loop (mean ± std. dev. of 7 runs, 1,000 loops each)"
   ]
  },
  {
   "cell_type": "raw",
   "id": "449a03c7-60c4-4290-a61c-6921d2859e30",
   "metadata": {},
   "source": [
    "%%timeit\n",
    "agent.learn()\n",
    "6.58 ms ± 368 µs per loop (mean ± std. dev. of 7 runs, 100 loops each)\n",
    "->\n",
    "5.93 ms ± 152 µs per loop (mean ± std. dev. of 7 runs, 100 loops each)"
   ]
  },
  {
   "cell_type": "code",
   "execution_count": null,
   "id": "5db250ad-b57f-4962-8024-b3af9fd64336",
   "metadata": {
    "tags": []
   },
   "outputs": [],
   "source": [
    "n_episodes = 30000\n",
    "episode_max_len = 20\n",
    "\n",
    "rewards = list()\n",
    "lengths = list()\n",
    "for ep in tqdm(range(n_episodes)):\n",
    "    done = False\n",
    "    step = 0\n",
    "    reward = list()\n",
    "    s, loc = env.reset(end_radius=0.25), env.state\n",
    "    # s = s @ state_trans\n",
    "    while not done and step < episode_max_len:\n",
    "        a = agent.choose_action(s)\n",
    "        s_new, r, done = env.next_state(a)\n",
    "        # s_new = s_new @ state_trans\n",
    "        agent.remember(s, a, r, s_new, done, loc)\n",
    "        agent.learn()\n",
    "        s, loc = s_new, env.state\n",
    "        step += 1\n",
    "        reward.append(r)\n",
    "    lengths.append(step)\n",
    "    rewards.append(sum(reward).cpu())"
   ]
  },
  {
   "cell_type": "code",
   "execution_count": null,
   "id": "37b20078-eff0-40b6-8cfe-f7b8917f03c0",
   "metadata": {},
   "outputs": [],
   "source": [
    "print(\"Agent reward - %.03f\\nlengths - %.03f\" % eval_locomotion(agent, env))\n",
    "print(f\"Position loss - {eval_position(agent):.03f}\")"
   ]
  },
  {
   "cell_type": "code",
   "execution_count": null,
   "id": "467bdbb3-cf44-4a09-992a-cbc1c89fb5c0",
   "metadata": {
    "tags": []
   },
   "outputs": [],
   "source": [
    "_, (ax1, ax2, ax3) = plt.subplots(1, 3, figsize=(18, 6))\n",
    "ax1.plot(to_tensor(rewards).cpu())\n",
    "ax2.scatter(np.arange(len(lengths)), lengths)\n",
    "ax3.hist(np.arange(len(lengths))[np.asarray(lengths) < episode_max_len])\n",
    "plt.show()"
   ]
  }
 ],
 "metadata": {
  "kernelspec": {
   "display_name": "Python 3 (ipykernel)",
   "language": "python",
   "name": "python3"
  },
  "language_info": {
   "codemirror_mode": {
    "name": "ipython",
    "version": 3
   },
   "file_extension": ".py",
   "mimetype": "text/x-python",
   "name": "python",
   "nbconvert_exporter": "python",
   "pygments_lexer": "ipython3",
   "version": "3.11.3"
  }
 },
 "nbformat": 4,
 "nbformat_minor": 5
}
